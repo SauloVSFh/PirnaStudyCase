{
 "cells": [
  {
   "cell_type": "code",
   "execution_count": 1,
   "id": "2733f3e1-a8a9-4f4b-9242-29a8300e6de8",
   "metadata": {},
   "outputs": [
    {
     "name": "stdout",
     "output_type": "stream",
     "text": [
      "Wall time: 3.04 s\n"
     ]
    }
   ],
   "source": [
    "%%time\n",
    "import os\n",
    "import time\n",
    "import sys \n",
    "import pandas as pd\n",
    "import numpy as np\n",
    "import xarray as xr\n",
    "from datetime import datetime\n",
    "from datetime import timedelta\n",
    "import holoviews as hv\n",
    "\n",
    "# import hvplot.pandas\n",
    "\n",
    "import colorcet as cc\n",
    "from colorcet.plotting import swatch, swatches\n",
    "from holoviews.element.tiles import EsriImagery"
   ]
  },
  {
   "cell_type": "markdown",
   "id": "3f58f502-884f-4f2f-9e75-5ff57e2b5223",
   "metadata": {},
   "source": [
    "# Example Notebook"
   ]
  },
  {
   "cell_type": "markdown",
   "id": "dbf2c3bd-381f-4a07-a9b8-e0df417c12e4",
   "metadata": {},
   "source": [
    "## 1. Import the Package SmartControl"
   ]
  },
  {
   "cell_type": "code",
   "execution_count": 2,
   "id": "2a3ad2b7-7263-4d61-99aa-709766fc69d1",
   "metadata": {},
   "outputs": [
    {
     "name": "stdout",
     "output_type": "stream",
     "text": [
      "Wall time: 401 ms\n"
     ]
    }
   ],
   "source": [
    "%%time\n",
    "path = 'D:\\\\Repos\\\\PirnaCaseStudy'\n",
    "sys.path.append(path) #indicate the the repository is\n",
    "import SmartControl as sc"
   ]
  },
  {
   "cell_type": "markdown",
   "id": "3dd3b327-4441-486a-a480-3fc30fe867d8",
   "metadata": {},
   "source": [
    "## 2. Querying data using the module *queries*"
   ]
  },
  {
   "cell_type": "code",
   "execution_count": 3,
   "id": "20a3bd8e-ba6d-4e3c-a097-26a8088c161f",
   "metadata": {},
   "outputs": [],
   "source": [
    "database_fn = 'Data/Database.db'\n",
    "os.chdir(path)\n",
    "\n",
    "#Getting the database\n",
    "Get = sc.queries.Get(database_fn) #instantiates the database "
   ]
  },
  {
   "cell_type": "markdown",
   "id": "b0ed0cbd-6055-445d-8584-ec01ce7e300e",
   "metadata": {},
   "source": [
    "### 2.1 Fetching database status"
   ]
  },
  {
   "cell_type": "code",
   "execution_count": 4,
   "id": "5a3d4666-1595-4054-bd13-72b0ddc711bb",
   "metadata": {},
   "outputs": [
    {
     "name": "stdout",
     "output_type": "stream",
     "text": [
      "0\n",
      "Pandas Timestamp: 2022-12-15 14:00:00\n",
      "Unix Timestamp counted from 1970 onwards: 1671112800\n"
     ]
    }
   ],
   "source": [
    "\n",
    "VariableID = Get.VariableID('h_level') # The ID of the variable\n",
    "APIDate_t , APIDate_ts = Get.APIDate(23) # The last date that the monitoring id was updated\n",
    "\n",
    "\n",
    "print(VariableID)\n",
    "print(f'Pandas Timestamp: {APIDate_t}')\n",
    "print(f'Unix Timestamp counted from 1970 onwards: {APIDate_ts}')"
   ]
  },
  {
   "cell_type": "markdown",
   "id": "321b0217-af98-4cfb-878c-42afa10d7aa9",
   "metadata": {},
   "source": [
    "### 2.2 Fetching important structure data"
   ]
  },
  {
   "cell_type": "code",
   "execution_count": 5,
   "id": "2a8fb6ef-6029-4e1c-bff2-17d8b5b2ca41",
   "metadata": {},
   "outputs": [
    {
     "name": "stdout",
     "output_type": "stream",
     "text": [
      "Wall time: 0 ns\n"
     ]
    }
   ],
   "source": [
    "%%time\n",
    "\n",
    "MonitoringPointData_df = Get.MonitoringPointData(GageData = 1)\n",
    "GageData_df = Get.GageData"
   ]
  },
  {
   "cell_type": "code",
   "execution_count": 6,
   "id": "61a82ef1-cd95-4a39-9a1a-4667c7a3cf61",
   "metadata": {},
   "outputs": [],
   "source": [
    "DiverData_df = Get.DiverData('I-2')"
   ]
  },
  {
   "cell_type": "markdown",
   "id": "73f0f5ec-c0a2-407e-aa1b-193958f871ca",
   "metadata": {},
   "source": [
    "If one wishes to visualize the data, just type it into a cell"
   ]
  },
  {
   "cell_type": "code",
   "execution_count": 7,
   "id": "6e02c4a0-d203-4549-abd8-99afbb721002",
   "metadata": {},
   "outputs": [
    {
     "data": {
      "text/html": [
       "<div>\n",
       "<style scoped>\n",
       "    .dataframe tbody tr th:only-of-type {\n",
       "        vertical-align: middle;\n",
       "    }\n",
       "\n",
       "    .dataframe tbody tr th {\n",
       "        vertical-align: top;\n",
       "    }\n",
       "\n",
       "    .dataframe thead th {\n",
       "        text-align: right;\n",
       "    }\n",
       "</style>\n",
       "<table border=\"1\" class=\"dataframe\">\n",
       "  <thead>\n",
       "    <tr style=\"text-align: right;\">\n",
       "      <th></th>\n",
       "      <th>MonitoringPointID</th>\n",
       "      <th>MonitoringPointName</th>\n",
       "      <th>DiverDepth</th>\n",
       "      <th>ReferenceAltitude</th>\n",
       "      <th>WellDepth</th>\n",
       "    </tr>\n",
       "  </thead>\n",
       "  <tbody>\n",
       "    <tr>\n",
       "      <th>0</th>\n",
       "      <td>23</td>\n",
       "      <td>GWM02</td>\n",
       "      <td>12.3</td>\n",
       "      <td>117.98</td>\n",
       "      <td>14.0</td>\n",
       "    </tr>\n",
       "  </tbody>\n",
       "</table>\n",
       "</div>"
      ],
      "text/plain": [
       "   MonitoringPointID MonitoringPointName  DiverDepth  ReferenceAltitude  \\\n",
       "0                 23               GWM02        12.3             117.98   \n",
       "\n",
       "   WellDepth  \n",
       "0       14.0  "
      ]
     },
     "execution_count": 7,
     "metadata": {},
     "output_type": "execute_result"
    }
   ],
   "source": [
    "DiverData_df"
   ]
  },
  {
   "cell_type": "markdown",
   "id": "d5d6e066-a8e4-415f-a89c-6107df356808",
   "metadata": {},
   "source": [
    "#### Diver Status\n",
    "\n",
    "It returns Dataframe joining divers, wells, drills and the current status with regards to the divers' last update."
   ]
  },
  {
   "cell_type": "code",
   "execution_count": 8,
   "id": "c378650b-992d-47de-a5cc-2ead73a3a1df",
   "metadata": {},
   "outputs": [
    {
     "name": "stdout",
     "output_type": "stream",
     "text": [
      "Wall time: 3.54 s\n"
     ]
    }
   ],
   "source": [
    "%%time\n",
    "DiverStatus_df = Get.DiverStatus() "
   ]
  },
  {
   "cell_type": "markdown",
   "id": "96626451-4d11-44cf-98d7-777853886ec0",
   "metadata": {},
   "source": [
    "### 2.3 Historical data\n",
    "\n",
    "Fetching the historical values"
   ]
  },
  {
   "cell_type": "code",
   "execution_count": 9,
   "id": "75132512-bd13-484f-a07b-7abcaf62b76a",
   "metadata": {},
   "outputs": [
    {
     "name": "stdout",
     "output_type": "stream",
     "text": [
      "Wall time: 5.95 s\n"
     ]
    }
   ],
   "source": [
    "%%time\n",
    "Get.LongTimeSeries(0)\n",
    "Get.ShortTimeSeries(FilterVariableID = 0, FilterMonitoringPoint = 'G01')\n",
    "Get.Isolines(2022, 12, 12, 0)\n",
    "Get.HydroProfile()"
   ]
  },
  {
   "cell_type": "markdown",
   "id": "d58c6ebe-25ab-4764-bac2-5c592a0f06a5",
   "metadata": {},
   "source": [
    "This dataframes are stored within each class as a class attribute. You can retrieve it as follows:"
   ]
  },
  {
   "cell_type": "code",
   "execution_count": 35,
   "id": "7bb06096-c01a-4b9d-8d6a-2b8ecd7be3bc",
   "metadata": {},
   "outputs": [],
   "source": [
    "HydroProfile_df = Get.HydroProfile_df\n",
    "Isolines_df = Get.Isolines_df"
   ]
  },
  {
   "cell_type": "markdown",
   "id": "bbf6051f-6f37-40eb-af28-3274d3a94af7",
   "metadata": {},
   "source": [
    "and so on...\n",
    "\n",
    "Just add the suffix **'_df'** to the method name"
   ]
  },
  {
   "cell_type": "markdown",
   "id": "1cb6c231-b24f-43de-9964-52adba5432ae",
   "metadata": {},
   "source": [
    "## 2.4 Saving to CSV"
   ]
  },
  {
   "cell_type": "code",
   "execution_count": 31,
   "id": "5702dadb-ee7e-4849-86ef-1def696ecd2a",
   "metadata": {},
   "outputs": [],
   "source": [
    "os.chdir(path)\n",
    "\n",
    "outputsname_dict = {'MonitoringPointData.csv' : MonitoringPointData_df, 'GageData.csv' : GageData_df,\n",
    "                    'DiverData.csv' : DiverData_df, 'DiverStatus.csv' : DiverStatus_df,\n",
    "                    'LongTimeSeries.csv' : Get.LongTimeSeries_df, 'ShortTimeSeries.csv' : Get.ShortTimeSeries_df,\n",
    "                    'Isolines.csv' : Get.Isolines_df, 'HydroProfile.csv' : Get.HydroProfile_df}\n",
    "\n",
    "def SaveDataFrames():\n",
    "    folder = 'Data'\n",
    "    os.chdir(path+f'\\\\{folder}')\n",
    "    for i,j in outputsname_dict.items():\n",
    "        j.to_csv(i, index = False)\n",
    "        print(f'{i} saved in the {folder} folder')"
   ]
  },
  {
   "cell_type": "markdown",
   "id": "c72b304a-092b-424f-83a8-d090c2ae89f2",
   "metadata": {},
   "source": [
    "if you wish to save it, uncomment and run the line below"
   ]
  },
  {
   "cell_type": "code",
   "execution_count": 32,
   "id": "1f2a85db-540c-4daa-906d-78105ad28df2",
   "metadata": {},
   "outputs": [
    {
     "name": "stdout",
     "output_type": "stream",
     "text": [
      "MonitoringPointData.csv saved in the Data folder\n",
      "GageData.csv saved in the Data folder\n",
      "DiverData.csv saved in the Data folder\n",
      "DiverStatus.csv saved in the Data folder\n",
      "LongTimeSeries.csv saved in the Data folder\n",
      "ShortTimeSeries.csv saved in the Data folder\n",
      "Isolines.csv saved in the Data folder\n",
      "HydroProfile.csv saved in the Data folder\n"
     ]
    }
   ],
   "source": [
    "# SaveDataFrames()"
   ]
  }
 ],
 "metadata": {
  "kernelspec": {
   "display_name": "Python 3 (ipykernel)",
   "language": "python",
   "name": "python3"
  },
  "language_info": {
   "codemirror_mode": {
    "name": "ipython",
    "version": 3
   },
   "file_extension": ".py",
   "mimetype": "text/x-python",
   "name": "python",
   "nbconvert_exporter": "python",
   "pygments_lexer": "ipython3",
   "version": "3.9.13"
  }
 },
 "nbformat": 4,
 "nbformat_minor": 5
}
