{
 "cells": [
  {
   "cell_type": "code",
   "execution_count": 1,
   "id": "2733f3e1-a8a9-4f4b-9242-29a8300e6de8",
   "metadata": {
    "slideshow": {
     "slide_type": "slide"
    }
   },
   "outputs": [
    {
     "name": "stdout",
     "output_type": "stream",
     "text": [
      "Wall time: 2.2 s\n"
     ]
    }
   ],
   "source": [
    "%%time\n",
    "import os\n",
    "import time\n",
    "import sys \n",
    "import pandas as pd\n",
    "import numpy as np\n",
    "from datetime import datetime\n",
    "from datetime import timedelta"
   ]
  },
  {
   "cell_type": "markdown",
   "id": "3f58f502-884f-4f2f-9e75-5ff57e2b5223",
   "metadata": {
    "slideshow": {
     "slide_type": "slide"
    }
   },
   "source": [
    "# Example Notebook"
   ]
  },
  {
   "cell_type": "markdown",
   "id": "dbf2c3bd-381f-4a07-a9b8-e0df417c12e4",
   "metadata": {
    "slideshow": {
     "slide_type": "subslide"
    }
   },
   "source": [
    "## 1. Import the Package SmartControl"
   ]
  },
  {
   "cell_type": "code",
   "execution_count": 2,
   "id": "2a3ad2b7-7263-4d61-99aa-709766fc69d1",
   "metadata": {
    "slideshow": {
     "slide_type": "subslide"
    }
   },
   "outputs": [
    {
     "name": "stdout",
     "output_type": "stream",
     "text": [
      "Wall time: 9.68 s\n"
     ]
    }
   ],
   "source": [
    "%%time\n",
    "path = 'D:\\\\Repos\\\\PirnaCaseStudy'\n",
    "sys.path.append(path) #indicate the the repository is\n",
    "import SmartControl as sc"
   ]
  },
  {
   "cell_type": "markdown",
   "id": "3dd3b327-4441-486a-a480-3fc30fe867d8",
   "metadata": {
    "slideshow": {
     "slide_type": "slide"
    }
   },
   "source": [
    "## 2. Querying data using the module *queries*"
   ]
  },
  {
   "cell_type": "code",
   "execution_count": 3,
   "id": "20a3bd8e-ba6d-4e3c-a097-26a8088c161f",
   "metadata": {
    "slideshow": {
     "slide_type": "fragment"
    }
   },
   "outputs": [],
   "source": [
    "database_fn = 'Data/Database.db'\n",
    "os.chdir(path)\n",
    "\n",
    "#Getting the database\n",
    "Get = sc.queries.Get(database_fn) #instantiates the database "
   ]
  },
  {
   "cell_type": "markdown",
   "id": "b0ed0cbd-6055-445d-8584-ec01ce7e300e",
   "metadata": {
    "slideshow": {
     "slide_type": "subslide"
    }
   },
   "source": [
    "### 2.1 Fetching database status"
   ]
  },
  {
   "cell_type": "code",
   "execution_count": 4,
   "id": "5a3d4666-1595-4054-bd13-72b0ddc711bb",
   "metadata": {
    "slideshow": {
     "slide_type": "fragment"
    }
   },
   "outputs": [
    {
     "name": "stdout",
     "output_type": "stream",
     "text": [
      "0\n",
      "Pandas Timestamp: 2022-12-15 14:00:00\n",
      "Unix Timestamp counted from 1970 onwards: 1671112800\n"
     ]
    }
   ],
   "source": [
    "\n",
    "VariableID = Get.VariableID('h_level') # The ID of the variable\n",
    "APIDate_t , APIDate_ts = Get.APIDate(23) # The last date that the monitoring id was updated\n",
    "\n",
    "\n",
    "print(VariableID)\n",
    "print(f'Pandas Timestamp: {APIDate_t}')\n",
    "print(f'Unix Timestamp counted from 1970 onwards: {APIDate_ts}')"
   ]
  },
  {
   "cell_type": "markdown",
   "id": "321b0217-af98-4cfb-878c-42afa10d7aa9",
   "metadata": {
    "slideshow": {
     "slide_type": "subslide"
    }
   },
   "source": [
    "### 2.2 Fetching important structure data"
   ]
  },
  {
   "cell_type": "code",
   "execution_count": 4,
   "id": "2a8fb6ef-6029-4e1c-bff2-17d8b5b2ca41",
   "metadata": {
    "slideshow": {
     "slide_type": "fragment"
    }
   },
   "outputs": [
    {
     "name": "stdout",
     "output_type": "stream",
     "text": [
      "Wall time: 18 ms\n"
     ]
    }
   ],
   "source": [
    "%%time\n",
    "\n",
    "MonitoringPointData_df = Get.MonitoringPointData(GageData = 1)\n",
    "GageData_df = Get.GageData"
   ]
  },
  {
   "cell_type": "markdown",
   "id": "73f0f5ec-c0a2-407e-aa1b-193958f871ca",
   "metadata": {
    "slideshow": {
     "slide_type": "subslide"
    }
   },
   "source": [
    "If one wishes to visualize the data, just type it into a cell"
   ]
  },
  {
   "cell_type": "code",
   "execution_count": 7,
   "id": "6e02c4a0-d203-4549-abd8-99afbb721002",
   "metadata": {
    "slideshow": {
     "slide_type": "fragment"
    }
   },
   "outputs": [
    {
     "data": {
      "text/html": [
       "<div>\n",
       "<style scoped>\n",
       "    .dataframe tbody tr th:only-of-type {\n",
       "        vertical-align: middle;\n",
       "    }\n",
       "\n",
       "    .dataframe tbody tr th {\n",
       "        vertical-align: top;\n",
       "    }\n",
       "\n",
       "    .dataframe thead th {\n",
       "        text-align: right;\n",
       "    }\n",
       "</style>\n",
       "<table border=\"1\" class=\"dataframe\">\n",
       "  <thead>\n",
       "    <tr style=\"text-align: right;\">\n",
       "      <th></th>\n",
       "      <th>MonitoringPointID</th>\n",
       "      <th>MonitoringPointName</th>\n",
       "      <th>DiverDepth</th>\n",
       "      <th>ReferenceAltitude</th>\n",
       "      <th>WellDepth</th>\n",
       "    </tr>\n",
       "  </thead>\n",
       "  <tbody>\n",
       "    <tr>\n",
       "      <th>0</th>\n",
       "      <td>23</td>\n",
       "      <td>GWM02</td>\n",
       "      <td>12.3</td>\n",
       "      <td>117.98</td>\n",
       "      <td>14.0</td>\n",
       "    </tr>\n",
       "  </tbody>\n",
       "</table>\n",
       "</div>"
      ],
      "text/plain": [
       "   MonitoringPointID MonitoringPointName  DiverDepth  ReferenceAltitude  \\\n",
       "0                 23               GWM02        12.3             117.98   \n",
       "\n",
       "   WellDepth  \n",
       "0       14.0  "
      ]
     },
     "execution_count": 7,
     "metadata": {},
     "output_type": "execute_result"
    }
   ],
   "source": [
    "DiverData_df"
   ]
  },
  {
   "cell_type": "markdown",
   "id": "d5d6e066-a8e4-415f-a89c-6107df356808",
   "metadata": {
    "slideshow": {
     "slide_type": "subslide"
    }
   },
   "source": [
    "#### Diver Status\n",
    "\n",
    "It returns Dataframe joining divers, wells, drills and the current status with regards to the divers' last update."
   ]
  },
  {
   "cell_type": "code",
   "execution_count": 7,
   "id": "c378650b-992d-47de-a5cc-2ead73a3a1df",
   "metadata": {
    "slideshow": {
     "slide_type": "fragment"
    }
   },
   "outputs": [
    {
     "name": "stdout",
     "output_type": "stream",
     "text": [
      "Wall time: 13.4 s\n"
     ]
    }
   ],
   "source": [
    "%%time\n",
    "DiverStatus_df = Get.DiverStatus() "
   ]
  },
  {
   "cell_type": "code",
   "execution_count": 9,
   "id": "141024b2",
   "metadata": {},
   "outputs": [
    {
     "data": {
      "text/html": [
       "<div>\n",
       "<style scoped>\n",
       "    .dataframe tbody tr th:only-of-type {\n",
       "        vertical-align: middle;\n",
       "    }\n",
       "\n",
       "    .dataframe tbody tr th {\n",
       "        vertical-align: top;\n",
       "    }\n",
       "\n",
       "    .dataframe thead th {\n",
       "        text-align: right;\n",
       "    }\n",
       "</style>\n",
       "<table border=\"1\" class=\"dataframe\">\n",
       "  <thead>\n",
       "    <tr style=\"text-align: right;\">\n",
       "      <th></th>\n",
       "      <th>PointID</th>\n",
       "      <th>MonitoringPointName</th>\n",
       "      <th>ReferenceAltitude</th>\n",
       "      <th>Type</th>\n",
       "      <th>TypeOfAltitude</th>\n",
       "      <th>MonitoringPointID</th>\n",
       "      <th>DiverID</th>\n",
       "      <th>DiverName</th>\n",
       "      <th>IOT</th>\n",
       "      <th>Functioning</th>\n",
       "      <th>PointsID</th>\n",
       "      <th>E</th>\n",
       "      <th>N</th>\n",
       "      <th>NextUpdate_t</th>\n",
       "      <th>NextUpdate_ts</th>\n",
       "    </tr>\n",
       "  </thead>\n",
       "  <tbody>\n",
       "    <tr>\n",
       "      <th>11</th>\n",
       "      <td>26</td>\n",
       "      <td>GWM02</td>\n",
       "      <td>117.98</td>\n",
       "      <td>Well</td>\n",
       "      <td>Top Case</td>\n",
       "      <td>23</td>\n",
       "      <td>11</td>\n",
       "      <td>I-2</td>\n",
       "      <td>1</td>\n",
       "      <td>1</td>\n",
       "      <td>26</td>\n",
       "      <td>13.923774</td>\n",
       "      <td>50.965905</td>\n",
       "      <td>2022-12-15 14:00:00</td>\n",
       "      <td>1671112800</td>\n",
       "    </tr>\n",
       "    <tr>\n",
       "      <th>12</th>\n",
       "      <td>27</td>\n",
       "      <td>GWM03</td>\n",
       "      <td>117.88</td>\n",
       "      <td>Well</td>\n",
       "      <td>Top Case</td>\n",
       "      <td>24</td>\n",
       "      <td>12</td>\n",
       "      <td>I-3</td>\n",
       "      <td>1</td>\n",
       "      <td>1</td>\n",
       "      <td>27</td>\n",
       "      <td>13.923764</td>\n",
       "      <td>50.965858</td>\n",
       "      <td>2022-12-15 14:00:00</td>\n",
       "      <td>1671112800</td>\n",
       "    </tr>\n",
       "    <tr>\n",
       "      <th>13</th>\n",
       "      <td>29</td>\n",
       "      <td>GWM05</td>\n",
       "      <td>117.87</td>\n",
       "      <td>Well</td>\n",
       "      <td>Top Case</td>\n",
       "      <td>26</td>\n",
       "      <td>13</td>\n",
       "      <td>I-5</td>\n",
       "      <td>1</td>\n",
       "      <td>1</td>\n",
       "      <td>29</td>\n",
       "      <td>13.923778</td>\n",
       "      <td>50.965812</td>\n",
       "      <td>2022-12-15 14:00:00</td>\n",
       "      <td>1671112800</td>\n",
       "    </tr>\n",
       "    <tr>\n",
       "      <th>14</th>\n",
       "      <td>30</td>\n",
       "      <td>GWM06</td>\n",
       "      <td>117.93</td>\n",
       "      <td>Well</td>\n",
       "      <td>Top Case</td>\n",
       "      <td>27</td>\n",
       "      <td>14</td>\n",
       "      <td>I-6</td>\n",
       "      <td>1</td>\n",
       "      <td>0</td>\n",
       "      <td>30</td>\n",
       "      <td>13.923829</td>\n",
       "      <td>50.965826</td>\n",
       "      <td>2022-01-17 09:00:00</td>\n",
       "      <td>1642410000</td>\n",
       "    </tr>\n",
       "  </tbody>\n",
       "</table>\n",
       "</div>"
      ],
      "text/plain": [
       "    PointID MonitoringPointName  ReferenceAltitude  Type TypeOfAltitude  \\\n",
       "11       26               GWM02             117.98  Well       Top Case   \n",
       "12       27               GWM03             117.88  Well       Top Case   \n",
       "13       29               GWM05             117.87  Well       Top Case   \n",
       "14       30               GWM06             117.93  Well       Top Case   \n",
       "\n",
       "    MonitoringPointID  DiverID DiverName  IOT  Functioning  PointsID  \\\n",
       "11                 23       11       I-2    1            1        26   \n",
       "12                 24       12       I-3    1            1        27   \n",
       "13                 26       13       I-5    1            1        29   \n",
       "14                 27       14       I-6    1            0        30   \n",
       "\n",
       "            E          N        NextUpdate_t  NextUpdate_ts  \n",
       "11  13.923774  50.965905 2022-12-15 14:00:00     1671112800  \n",
       "12  13.923764  50.965858 2022-12-15 14:00:00     1671112800  \n",
       "13  13.923778  50.965812 2022-12-15 14:00:00     1671112800  \n",
       "14  13.923829  50.965826 2022-01-17 09:00:00     1642410000  "
      ]
     },
     "execution_count": 9,
     "metadata": {},
     "output_type": "execute_result"
    }
   ],
   "source": [
    "DiverStatus_df [DiverStatus_df.MonitoringPointName.str.startswith('GW') ]"
   ]
  },
  {
   "cell_type": "markdown",
   "id": "96626451-4d11-44cf-98d7-777853886ec0",
   "metadata": {
    "slideshow": {
     "slide_type": "subslide"
    }
   },
   "source": [
    "### 2.3 Historical data\n",
    "\n",
    "Fetching the historical values"
   ]
  },
  {
   "cell_type": "code",
   "execution_count": 4,
   "id": "75132512-bd13-484f-a07b-7abcaf62b76a",
   "metadata": {
    "slideshow": {
     "slide_type": "fragment"
    }
   },
   "outputs": [
    {
     "name": "stdout",
     "output_type": "stream",
     "text": [
      "Wall time: 501 ms\n"
     ]
    },
    {
     "data": {
      "text/html": [
       "<div>\n",
       "<style scoped>\n",
       "    .dataframe tbody tr th:only-of-type {\n",
       "        vertical-align: middle;\n",
       "    }\n",
       "\n",
       "    .dataframe tbody tr th {\n",
       "        vertical-align: top;\n",
       "    }\n",
       "\n",
       "    .dataframe thead th {\n",
       "        text-align: right;\n",
       "    }\n",
       "</style>\n",
       "<table border=\"1\" class=\"dataframe\">\n",
       "  <thead>\n",
       "    <tr style=\"text-align: right;\">\n",
       "      <th></th>\n",
       "      <th>MonitoringPointID</th>\n",
       "      <th>MonitoringPointName</th>\n",
       "      <th>DiverName</th>\n",
       "      <th>Time</th>\n",
       "      <th>Type</th>\n",
       "      <th>CaseTop</th>\n",
       "      <th>DiverDepth</th>\n",
       "      <th>Value</th>\n",
       "      <th>E</th>\n",
       "      <th>N</th>\n",
       "    </tr>\n",
       "  </thead>\n",
       "  <tbody>\n",
       "    <tr>\n",
       "      <th>2</th>\n",
       "      <td>23</td>\n",
       "      <td>GWM02</td>\n",
       "      <td>I-2</td>\n",
       "      <td>2022-12-07 02:00:00</td>\n",
       "      <td>h_level</td>\n",
       "      <td>117.98</td>\n",
       "      <td>12.3</td>\n",
       "      <td>105.680</td>\n",
       "      <td>13.923774</td>\n",
       "      <td>50.965905</td>\n",
       "    </tr>\n",
       "    <tr>\n",
       "      <th>9</th>\n",
       "      <td>24</td>\n",
       "      <td>GWM03</td>\n",
       "      <td>I-3</td>\n",
       "      <td>2022-12-07 02:00:00</td>\n",
       "      <td>h_level</td>\n",
       "      <td>117.88</td>\n",
       "      <td>12.3</td>\n",
       "      <td>105.580</td>\n",
       "      <td>13.923764</td>\n",
       "      <td>50.965858</td>\n",
       "    </tr>\n",
       "    <tr>\n",
       "      <th>16</th>\n",
       "      <td>26</td>\n",
       "      <td>GWM05</td>\n",
       "      <td>I-5</td>\n",
       "      <td>2022-12-07 02:00:00</td>\n",
       "      <td>h_level</td>\n",
       "      <td>117.87</td>\n",
       "      <td>12.3</td>\n",
       "      <td>109.970</td>\n",
       "      <td>13.923778</td>\n",
       "      <td>50.965812</td>\n",
       "    </tr>\n",
       "    <tr>\n",
       "      <th>23</th>\n",
       "      <td>15</td>\n",
       "      <td>G24</td>\n",
       "      <td>124</td>\n",
       "      <td>2022-12-07 02:00:00</td>\n",
       "      <td>h_level</td>\n",
       "      <td>119.56</td>\n",
       "      <td>10.8</td>\n",
       "      <td>109.659</td>\n",
       "      <td>13.924817</td>\n",
       "      <td>50.966529</td>\n",
       "    </tr>\n",
       "    <tr>\n",
       "      <th>28</th>\n",
       "      <td>20</td>\n",
       "      <td>G29</td>\n",
       "      <td>125</td>\n",
       "      <td>2022-12-07 02:00:00</td>\n",
       "      <td>h_level</td>\n",
       "      <td>120.14</td>\n",
       "      <td>10.8</td>\n",
       "      <td>109.662</td>\n",
       "      <td>13.922332</td>\n",
       "      <td>50.966438</td>\n",
       "    </tr>\n",
       "    <tr>\n",
       "      <th>33</th>\n",
       "      <td>21</td>\n",
       "      <td>G30</td>\n",
       "      <td>126</td>\n",
       "      <td>2022-12-07 02:00:00</td>\n",
       "      <td>h_level</td>\n",
       "      <td>118.89</td>\n",
       "      <td>10.8</td>\n",
       "      <td>109.624</td>\n",
       "      <td>13.924894</td>\n",
       "      <td>50.966210</td>\n",
       "    </tr>\n",
       "  </tbody>\n",
       "</table>\n",
       "</div>"
      ],
      "text/plain": [
       "    MonitoringPointID MonitoringPointName DiverName                Time  \\\n",
       "2                  23               GWM02       I-2 2022-12-07 02:00:00   \n",
       "9                  24               GWM03       I-3 2022-12-07 02:00:00   \n",
       "16                 26               GWM05       I-5 2022-12-07 02:00:00   \n",
       "23                 15                 G24       124 2022-12-07 02:00:00   \n",
       "28                 20                 G29       125 2022-12-07 02:00:00   \n",
       "33                 21                 G30       126 2022-12-07 02:00:00   \n",
       "\n",
       "       Type  CaseTop  DiverDepth    Value          E          N  \n",
       "2   h_level   117.98        12.3  105.680  13.923774  50.965905  \n",
       "9   h_level   117.88        12.3  105.580  13.923764  50.965858  \n",
       "16  h_level   117.87        12.3  109.970  13.923778  50.965812  \n",
       "23  h_level   119.56        10.8  109.659  13.924817  50.966529  \n",
       "28  h_level   120.14        10.8  109.662  13.922332  50.966438  \n",
       "33  h_level   118.89        10.8  109.624  13.924894  50.966210  "
      ]
     },
     "execution_count": 4,
     "metadata": {},
     "output_type": "execute_result"
    }
   ],
   "source": [
    "%%time\n",
    "# Get.LongTimeSeries(0)\n",
    "# Get.ShortTimeSeries(FilterVariableID = 0, FilterMonitoringPoint = 'G01')\n",
    "Get.Isolines(2022, 12, 7, 2)\n",
    "# Get.HydroProfile()"
   ]
  },
  {
   "cell_type": "markdown",
   "id": "d58c6ebe-25ab-4764-bac2-5c592a0f06a5",
   "metadata": {
    "slideshow": {
     "slide_type": "subslide"
    }
   },
   "source": [
    "This dataframes are stored within each class as a class attribute. You can retrieve it as follows:"
   ]
  },
  {
   "cell_type": "code",
   "execution_count": 35,
   "id": "7bb06096-c01a-4b9d-8d6a-2b8ecd7be3bc",
   "metadata": {
    "slideshow": {
     "slide_type": "fragment"
    }
   },
   "outputs": [],
   "source": [
    "HydroProfile_df = Get.HydroProfile_df\n",
    "Isolines_df = Get.Isolines_df"
   ]
  },
  {
   "cell_type": "markdown",
   "id": "bbf6051f-6f37-40eb-af28-3274d3a94af7",
   "metadata": {
    "slideshow": {
     "slide_type": "fragment"
    }
   },
   "source": [
    "and so on...\n",
    "\n",
    "Just add the suffix **'_df'** to the method name"
   ]
  },
  {
   "cell_type": "markdown",
   "id": "659681d0-b015-4d55-a7f1-19b1e2bbba56",
   "metadata": {},
   "source": [
    "### 2.3b - Checking up conversion\n",
    "\n",
    "$$ Value(head) = CaseTop - DiverDepth + DiverReading(Inowas) $$"
   ]
  },
  {
   "cell_type": "code",
   "execution_count": 45,
   "id": "55b444b7-27a4-4ad3-b046-3d4260f5b120",
   "metadata": {},
   "outputs": [
    {
     "data": {
      "text/plain": [
       "2     1670536800000000000\n",
       "9     1670536800000000000\n",
       "16    1670536800000000000\n",
       "23    1670536800000000000\n",
       "28    1670536800000000000\n",
       "33    1670536800000000000\n",
       "Name: Time, dtype: int64"
      ]
     },
     "execution_count": 45,
     "metadata": {},
     "output_type": "execute_result"
    }
   ],
   "source": [
    "df.Time.astype('int64') "
   ]
  },
  {
   "cell_type": "code",
   "execution_count": 37,
   "id": "b6dc0fc5-0419-4341-9e28-c649521231ff",
   "metadata": {},
   "outputs": [
    {
     "data": {
      "text/plain": [
       "1.6704036"
      ]
     },
     "execution_count": 37,
     "metadata": {},
     "output_type": "execute_result"
    }
   ],
   "source": [
    "1670403600 1670536800'"
   ]
  },
  {
   "cell_type": "code",
   "execution_count": 46,
   "id": "ffc462f0-39f4-4b4e-b730-0a7098d3466c",
   "metadata": {},
   "outputs": [
    {
     "data": {
      "text/plain": [
       "1.6705368"
      ]
     },
     "execution_count": 46,
     "metadata": {},
     "output_type": "execute_result"
    }
   ],
   "source": [
    " 1670536800 / 1e9"
   ]
  },
  {
   "cell_type": "code",
   "execution_count": 43,
   "id": "7b656eec-355c-45de-a812-ce3039280457",
   "metadata": {},
   "outputs": [
    {
     "data": {
      "text/html": [
       "<div>\n",
       "<style scoped>\n",
       "    .dataframe tbody tr th:only-of-type {\n",
       "        vertical-align: middle;\n",
       "    }\n",
       "\n",
       "    .dataframe tbody tr th {\n",
       "        vertical-align: top;\n",
       "    }\n",
       "\n",
       "    .dataframe thead th {\n",
       "        text-align: right;\n",
       "    }\n",
       "</style>\n",
       "<table border=\"1\" class=\"dataframe\">\n",
       "  <thead>\n",
       "    <tr style=\"text-align: right;\">\n",
       "      <th></th>\n",
       "      <th>MonitoringPointID</th>\n",
       "      <th>MonitoringPointName</th>\n",
       "      <th>DiverName</th>\n",
       "      <th>Time</th>\n",
       "      <th>Type</th>\n",
       "      <th>CaseTop</th>\n",
       "      <th>DiverDepth</th>\n",
       "      <th>Value</th>\n",
       "      <th>E</th>\n",
       "      <th>N</th>\n",
       "      <th>DiverReading</th>\n",
       "    </tr>\n",
       "  </thead>\n",
       "  <tbody>\n",
       "    <tr>\n",
       "      <th>2</th>\n",
       "      <td>23</td>\n",
       "      <td>GWM02</td>\n",
       "      <td>I-2</td>\n",
       "      <td>2022-12-08 22:00:00</td>\n",
       "      <td>h_level</td>\n",
       "      <td>117.98</td>\n",
       "      <td>12.3</td>\n",
       "      <td>109.840</td>\n",
       "      <td>13.923774</td>\n",
       "      <td>50.965905</td>\n",
       "      <td>4.16</td>\n",
       "    </tr>\n",
       "    <tr>\n",
       "      <th>9</th>\n",
       "      <td>24</td>\n",
       "      <td>GWM03</td>\n",
       "      <td>I-3</td>\n",
       "      <td>2022-12-08 22:00:00</td>\n",
       "      <td>h_level</td>\n",
       "      <td>117.88</td>\n",
       "      <td>12.3</td>\n",
       "      <td>109.730</td>\n",
       "      <td>13.923764</td>\n",
       "      <td>50.965858</td>\n",
       "      <td>4.15</td>\n",
       "    </tr>\n",
       "    <tr>\n",
       "      <th>16</th>\n",
       "      <td>26</td>\n",
       "      <td>GWM05</td>\n",
       "      <td>I-5</td>\n",
       "      <td>2022-12-08 22:00:00</td>\n",
       "      <td>h_level</td>\n",
       "      <td>117.87</td>\n",
       "      <td>12.3</td>\n",
       "      <td>110.150</td>\n",
       "      <td>13.923778</td>\n",
       "      <td>50.965812</td>\n",
       "      <td>4.58</td>\n",
       "    </tr>\n",
       "    <tr>\n",
       "      <th>23</th>\n",
       "      <td>15</td>\n",
       "      <td>G24</td>\n",
       "      <td>124</td>\n",
       "      <td>2022-12-08 22:00:00</td>\n",
       "      <td>h_level</td>\n",
       "      <td>119.56</td>\n",
       "      <td>10.8</td>\n",
       "      <td>109.846</td>\n",
       "      <td>13.924817</td>\n",
       "      <td>50.966529</td>\n",
       "      <td>1.09</td>\n",
       "    </tr>\n",
       "    <tr>\n",
       "      <th>28</th>\n",
       "      <td>20</td>\n",
       "      <td>G29</td>\n",
       "      <td>125</td>\n",
       "      <td>2022-12-08 22:00:00</td>\n",
       "      <td>h_level</td>\n",
       "      <td>120.14</td>\n",
       "      <td>10.8</td>\n",
       "      <td>109.834</td>\n",
       "      <td>13.922332</td>\n",
       "      <td>50.966438</td>\n",
       "      <td>0.49</td>\n",
       "    </tr>\n",
       "    <tr>\n",
       "      <th>33</th>\n",
       "      <td>21</td>\n",
       "      <td>G30</td>\n",
       "      <td>126</td>\n",
       "      <td>2022-12-08 22:00:00</td>\n",
       "      <td>h_level</td>\n",
       "      <td>118.89</td>\n",
       "      <td>10.8</td>\n",
       "      <td>109.811</td>\n",
       "      <td>13.924894</td>\n",
       "      <td>50.966210</td>\n",
       "      <td>1.72</td>\n",
       "    </tr>\n",
       "  </tbody>\n",
       "</table>\n",
       "</div>"
      ],
      "text/plain": [
       "    MonitoringPointID MonitoringPointName DiverName                Time  \\\n",
       "2                  23               GWM02       I-2 2022-12-08 22:00:00   \n",
       "9                  24               GWM03       I-3 2022-12-08 22:00:00   \n",
       "16                 26               GWM05       I-5 2022-12-08 22:00:00   \n",
       "23                 15                 G24       124 2022-12-08 22:00:00   \n",
       "28                 20                 G29       125 2022-12-08 22:00:00   \n",
       "33                 21                 G30       126 2022-12-08 22:00:00   \n",
       "\n",
       "       Type  CaseTop  DiverDepth    Value          E          N  DiverReading  \n",
       "2   h_level   117.98        12.3  109.840  13.923774  50.965905          4.16  \n",
       "9   h_level   117.88        12.3  109.730  13.923764  50.965858          4.15  \n",
       "16  h_level   117.87        12.3  110.150  13.923778  50.965812          4.58  \n",
       "23  h_level   119.56        10.8  109.846  13.924817  50.966529          1.09  \n",
       "28  h_level   120.14        10.8  109.834  13.922332  50.966438          0.49  \n",
       "33  h_level   118.89        10.8  109.811  13.924894  50.966210          1.72  "
      ]
     },
     "execution_count": 43,
     "metadata": {},
     "output_type": "execute_result"
    }
   ],
   "source": [
    "Get.Isolines(2022, 12, 8, 22 )\n",
    "df = Get.Isolines_df.copy ()\n",
    "df ['DiverReading'] = np.round(df.Value - df.CaseTop + df.DiverDepth, 2)\n",
    "df"
   ]
  },
  {
   "cell_type": "markdown",
   "id": "1cb6c231-b24f-43de-9964-52adba5432ae",
   "metadata": {
    "slideshow": {
     "slide_type": "slide"
    }
   },
   "source": [
    "## 2.4 Saving to CSV"
   ]
  },
  {
   "cell_type": "code",
   "execution_count": 31,
   "id": "5702dadb-ee7e-4849-86ef-1def696ecd2a",
   "metadata": {
    "slideshow": {
     "slide_type": "fragment"
    }
   },
   "outputs": [],
   "source": [
    "os.chdir(path)\n",
    "\n",
    "outputsname_dict = {'MonitoringPointData.csv' : MonitoringPointData_df, 'GageData.csv' : GageData_df,\n",
    "                    'DiverData.csv' : DiverData_df, 'DiverStatus.csv' : DiverStatus_df,\n",
    "                    'LongTimeSeries.csv' : Get.LongTimeSeries_df, 'ShortTimeSeries.csv' : Get.ShortTimeSeries_df,\n",
    "                    'Isolines.csv' : Get.Isolines_df, 'HydroProfile.csv' : Get.HydroProfile_df}\n",
    "\n",
    "def SaveDataFrames():\n",
    "    folder = 'Data'\n",
    "    os.chdir(path+f'\\\\{folder}')\n",
    "    for i,j in outputsname_dict.items():\n",
    "        j.to_csv(i, index = False)\n",
    "        print(f'{i} saved in the {folder} folder')"
   ]
  },
  {
   "cell_type": "markdown",
   "id": "c72b304a-092b-424f-83a8-d090c2ae89f2",
   "metadata": {
    "slideshow": {
     "slide_type": "subslide"
    }
   },
   "source": [
    "if you wish to save it, uncomment and run the line below"
   ]
  },
  {
   "cell_type": "code",
   "execution_count": 32,
   "id": "1f2a85db-540c-4daa-906d-78105ad28df2",
   "metadata": {
    "slideshow": {
     "slide_type": "fragment"
    }
   },
   "outputs": [
    {
     "name": "stdout",
     "output_type": "stream",
     "text": [
      "MonitoringPointData.csv saved in the Data folder\n",
      "GageData.csv saved in the Data folder\n",
      "DiverData.csv saved in the Data folder\n",
      "DiverStatus.csv saved in the Data folder\n",
      "LongTimeSeries.csv saved in the Data folder\n",
      "ShortTimeSeries.csv saved in the Data folder\n",
      "Isolines.csv saved in the Data folder\n",
      "HydroProfile.csv saved in the Data folder\n"
     ]
    }
   ],
   "source": [
    "SaveDataFrames()"
   ]
  }
 ],
 "metadata": {
  "celltoolbar": "Slideshow",
  "kernelspec": {
   "display_name": "Python 3 (ipykernel)",
   "language": "python",
   "name": "python3"
  },
  "language_info": {
   "codemirror_mode": {
    "name": "ipython",
    "version": 3
   },
   "file_extension": ".py",
   "mimetype": "text/x-python",
   "name": "python",
   "nbconvert_exporter": "python",
   "pygments_lexer": "ipython3",
   "version": "3.9.13"
  }
 },
 "nbformat": 4,
 "nbformat_minor": 5
}
