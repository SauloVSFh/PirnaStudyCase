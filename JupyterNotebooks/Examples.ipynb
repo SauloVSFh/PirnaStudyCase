{
 "cells": [
  {
   "cell_type": "code",
   "execution_count": 1,
   "id": "2733f3e1-a8a9-4f4b-9242-29a8300e6de8",
   "metadata": {
    "slideshow": {
     "slide_type": "slide"
    }
   },
   "outputs": [
    {
     "name": "stdout",
     "output_type": "stream",
     "text": [
      "Wall time: 1.17 s\n"
     ]
    }
   ],
   "source": [
    "%%time\n",
    "import os\n",
    "import time\n",
    "import sys \n",
    "import pandas as pd\n",
    "import numpy as np\n",
    "from datetime import datetime\n",
    "from datetime import timedelta"
   ]
  },
  {
   "cell_type": "markdown",
   "id": "3f58f502-884f-4f2f-9e75-5ff57e2b5223",
   "metadata": {
    "slideshow": {
     "slide_type": "slide"
    }
   },
   "source": [
    "# Example Notebook"
   ]
  },
  {
   "cell_type": "markdown",
   "id": "dbf2c3bd-381f-4a07-a9b8-e0df417c12e4",
   "metadata": {
    "slideshow": {
     "slide_type": "subslide"
    }
   },
   "source": [
    "## 1. Import the Package SmartControl"
   ]
  },
  {
   "cell_type": "code",
   "execution_count": 2,
   "id": "2a3ad2b7-7263-4d61-99aa-709766fc69d1",
   "metadata": {
    "slideshow": {
     "slide_type": "subslide"
    }
   },
   "outputs": [
    {
     "name": "stdout",
     "output_type": "stream",
     "text": [
      "Wall time: 8.05 s\n"
     ]
    }
   ],
   "source": [
    "%%time\n",
    "path = 'D:\\\\Repos\\\\PirnaCaseStudy'\n",
    "sys.path.append(path) #indicate the the repository is\n",
    "import SmartControl as sc"
   ]
  },
  {
   "cell_type": "code",
   "execution_count": 41,
   "id": "3e82074c-bcb2-4e91-93b0-193dd14840b6",
   "metadata": {},
   "outputs": [
    {
     "data": {
      "text/plain": [
       "28"
      ]
     },
     "execution_count": 41,
     "metadata": {},
     "output_type": "execute_result"
    }
   ],
   "source": [
    "sys.getsizeof(43) "
   ]
  },
  {
   "cell_type": "markdown",
   "id": "3dd3b327-4441-486a-a480-3fc30fe867d8",
   "metadata": {
    "slideshow": {
     "slide_type": "slide"
    }
   },
   "source": [
    "## 2. Querying data using the module *queries*"
   ]
  },
  {
   "cell_type": "code",
   "execution_count": 3,
   "id": "20a3bd8e-ba6d-4e3c-a097-26a8088c161f",
   "metadata": {
    "slideshow": {
     "slide_type": "fragment"
    }
   },
   "outputs": [],
   "source": [
    "database_fn = 'Data/Database.db'\n",
    "os.chdir(path)\n",
    "\n",
    "#Getting the database\n",
    "Get = sc.queries.Get(database_fn) #instantiates the database "
   ]
  },
  {
   "cell_type": "code",
   "execution_count": 43,
   "id": "a6e065c5-be10-4e7a-b705-dfa780b1ba63",
   "metadata": {},
   "outputs": [],
   "source": [
    "import folium"
   ]
  },
  {
   "cell_type": "code",
   "execution_count": 44,
   "id": "fce22fd6-2db9-42a8-9b4a-eb37d7412ba2",
   "metadata": {},
   "outputs": [],
   "source": [
    "Map = folium.Map(zoom_start = 1)"
   ]
  },
  {
   "cell_type": "code",
   "execution_count": 45,
   "id": "311f1b08-1736-47e7-91c4-9bfa04c64588",
   "metadata": {},
   "outputs": [
    {
     "data": {
      "text/plain": [
       "folium.folium.Map"
      ]
     },
     "execution_count": 45,
     "metadata": {},
     "output_type": "execute_result"
    }
   ],
   "source": [
    "type(Map)"
   ]
  },
  {
   "cell_type": "markdown",
   "id": "b0ed0cbd-6055-445d-8584-ec01ce7e300e",
   "metadata": {
    "slideshow": {
     "slide_type": "subslide"
    }
   },
   "source": [
    "### 2.1 Fetching database status"
   ]
  },
  {
   "cell_type": "code",
   "execution_count": 4,
   "id": "5a3d4666-1595-4054-bd13-72b0ddc711bb",
   "metadata": {
    "slideshow": {
     "slide_type": "fragment"
    }
   },
   "outputs": [
    {
     "name": "stdout",
     "output_type": "stream",
     "text": [
      "0\n",
      "Pandas Timestamp: 2023-01-06 13:00:00\n",
      "Unix Timestamp counted from 1970 onwards: 1673010000\n"
     ]
    }
   ],
   "source": [
    "\n",
    "VariableID = Get.VariableID('h_level') # The ID of the variable\n",
    "APIDate_t , APIDate_ts = Get.APIDate(23) # The last date that the monitoring id was updated\n",
    "\n",
    "\n",
    "print(VariableID)\n",
    "print(f'Pandas Timestamp: {APIDate_t}')\n",
    "print(f'Unix Timestamp counted from 1970 onwards: {APIDate_ts}')"
   ]
  },
  {
   "cell_type": "markdown",
   "id": "321b0217-af98-4cfb-878c-42afa10d7aa9",
   "metadata": {
    "slideshow": {
     "slide_type": "subslide"
    }
   },
   "source": [
    "### 2.2 Fetching important structure data"
   ]
  },
  {
   "cell_type": "code",
   "execution_count": 5,
   "id": "2a8fb6ef-6029-4e1c-bff2-17d8b5b2ca41",
   "metadata": {
    "slideshow": {
     "slide_type": "fragment"
    }
   },
   "outputs": [
    {
     "name": "stdout",
     "output_type": "stream",
     "text": [
      "Wall time: 15.6 ms\n"
     ]
    }
   ],
   "source": [
    "%%time\n",
    "\n",
    "MonitoringPointData_df = Get.MonitoringPointData(GageData = 1)\n",
    "GageData_df = Get.GageData"
   ]
  },
  {
   "cell_type": "markdown",
   "id": "73f0f5ec-c0a2-407e-aa1b-193958f871ca",
   "metadata": {
    "slideshow": {
     "slide_type": "subslide"
    }
   },
   "source": [
    "If one wishes to visualize the data, just type it into a cell"
   ]
  },
  {
   "cell_type": "code",
   "execution_count": 7,
   "id": "6e02c4a0-d203-4549-abd8-99afbb721002",
   "metadata": {
    "slideshow": {
     "slide_type": "fragment"
    }
   },
   "outputs": [
    {
     "data": {
      "text/html": [
       "<div>\n",
       "<style scoped>\n",
       "    .dataframe tbody tr th:only-of-type {\n",
       "        vertical-align: middle;\n",
       "    }\n",
       "\n",
       "    .dataframe tbody tr th {\n",
       "        vertical-align: top;\n",
       "    }\n",
       "\n",
       "    .dataframe thead th {\n",
       "        text-align: right;\n",
       "    }\n",
       "</style>\n",
       "<table border=\"1\" class=\"dataframe\">\n",
       "  <thead>\n",
       "    <tr style=\"text-align: right;\">\n",
       "      <th></th>\n",
       "      <th>MonitoringPointID</th>\n",
       "      <th>MonitoringPointName</th>\n",
       "      <th>DiverDepth</th>\n",
       "      <th>ReferenceAltitude</th>\n",
       "      <th>WellDepth</th>\n",
       "    </tr>\n",
       "  </thead>\n",
       "  <tbody>\n",
       "    <tr>\n",
       "      <th>0</th>\n",
       "      <td>23</td>\n",
       "      <td>GWM02</td>\n",
       "      <td>12.3</td>\n",
       "      <td>117.98</td>\n",
       "      <td>14.0</td>\n",
       "    </tr>\n",
       "  </tbody>\n",
       "</table>\n",
       "</div>"
      ],
      "text/plain": [
       "   MonitoringPointID MonitoringPointName  DiverDepth  ReferenceAltitude  \\\n",
       "0                 23               GWM02        12.3             117.98   \n",
       "\n",
       "   WellDepth  \n",
       "0       14.0  "
      ]
     },
     "execution_count": 7,
     "metadata": {},
     "output_type": "execute_result"
    }
   ],
   "source": [
    "DiverData_df"
   ]
  },
  {
   "cell_type": "markdown",
   "id": "d5d6e066-a8e4-415f-a89c-6107df356808",
   "metadata": {
    "slideshow": {
     "slide_type": "subslide"
    }
   },
   "source": [
    "#### Diver Status\n",
    "\n",
    "It returns Dataframe joining divers, wells, drills and the current status with regards to the divers' last update."
   ]
  },
  {
   "cell_type": "code",
   "execution_count": 13,
   "id": "c378650b-992d-47de-a5cc-2ead73a3a1df",
   "metadata": {
    "slideshow": {
     "slide_type": "fragment"
    }
   },
   "outputs": [
    {
     "name": "stdout",
     "output_type": "stream",
     "text": [
      "Wall time: 8.69 s\n"
     ]
    }
   ],
   "source": [
    "%%time\n",
    "DiverStatus_df = Get.DiverStatus() "
   ]
  },
  {
   "cell_type": "code",
   "execution_count": 25,
   "id": "1325f9b6-c25c-4dc7-9d4b-0d2483220e02",
   "metadata": {},
   "outputs": [
    {
     "data": {
      "text/plain": [
       "(20, 15)"
      ]
     },
     "execution_count": 25,
     "metadata": {},
     "output_type": "execute_result"
    }
   ],
   "source": [
    "DiverStatus_df.shape"
   ]
  },
  {
   "cell_type": "code",
   "execution_count": 23,
   "id": "2115ff20-b294-42bc-8e14-48707c5a9d5d",
   "metadata": {},
   "outputs": [
    {
     "data": {
      "text/plain": [
       "(8, 15)"
      ]
     },
     "execution_count": 23,
     "metadata": {},
     "output_type": "execute_result"
    }
   ],
   "source": [
    "DiverStatus_df [ (DiverStatus_df.IOT == 0) & (DiverStatus_df.Functioning == 1)].shape"
   ]
  },
  {
   "cell_type": "code",
   "execution_count": 9,
   "id": "141024b2",
   "metadata": {},
   "outputs": [
    {
     "data": {
      "text/html": [
       "<div>\n",
       "<style scoped>\n",
       "    .dataframe tbody tr th:only-of-type {\n",
       "        vertical-align: middle;\n",
       "    }\n",
       "\n",
       "    .dataframe tbody tr th {\n",
       "        vertical-align: top;\n",
       "    }\n",
       "\n",
       "    .dataframe thead th {\n",
       "        text-align: right;\n",
       "    }\n",
       "</style>\n",
       "<table border=\"1\" class=\"dataframe\">\n",
       "  <thead>\n",
       "    <tr style=\"text-align: right;\">\n",
       "      <th></th>\n",
       "      <th>PointID</th>\n",
       "      <th>MonitoringPointName</th>\n",
       "      <th>ReferenceAltitude</th>\n",
       "      <th>Type</th>\n",
       "      <th>TypeOfAltitude</th>\n",
       "      <th>MonitoringPointID</th>\n",
       "      <th>DiverID</th>\n",
       "      <th>DiverName</th>\n",
       "      <th>IOT</th>\n",
       "      <th>Functioning</th>\n",
       "      <th>PointsID</th>\n",
       "      <th>E</th>\n",
       "      <th>N</th>\n",
       "      <th>NextUpdate_t</th>\n",
       "      <th>NextUpdate_ts</th>\n",
       "    </tr>\n",
       "  </thead>\n",
       "  <tbody>\n",
       "    <tr>\n",
       "      <th>11</th>\n",
       "      <td>26</td>\n",
       "      <td>GWM02</td>\n",
       "      <td>117.98</td>\n",
       "      <td>Well</td>\n",
       "      <td>Top Case</td>\n",
       "      <td>23</td>\n",
       "      <td>11</td>\n",
       "      <td>I-2</td>\n",
       "      <td>1</td>\n",
       "      <td>1</td>\n",
       "      <td>26</td>\n",
       "      <td>13.923774</td>\n",
       "      <td>50.965905</td>\n",
       "      <td>2022-12-15 14:00:00</td>\n",
       "      <td>1671112800</td>\n",
       "    </tr>\n",
       "    <tr>\n",
       "      <th>12</th>\n",
       "      <td>27</td>\n",
       "      <td>GWM03</td>\n",
       "      <td>117.88</td>\n",
       "      <td>Well</td>\n",
       "      <td>Top Case</td>\n",
       "      <td>24</td>\n",
       "      <td>12</td>\n",
       "      <td>I-3</td>\n",
       "      <td>1</td>\n",
       "      <td>1</td>\n",
       "      <td>27</td>\n",
       "      <td>13.923764</td>\n",
       "      <td>50.965858</td>\n",
       "      <td>2022-12-15 14:00:00</td>\n",
       "      <td>1671112800</td>\n",
       "    </tr>\n",
       "    <tr>\n",
       "      <th>13</th>\n",
       "      <td>29</td>\n",
       "      <td>GWM05</td>\n",
       "      <td>117.87</td>\n",
       "      <td>Well</td>\n",
       "      <td>Top Case</td>\n",
       "      <td>26</td>\n",
       "      <td>13</td>\n",
       "      <td>I-5</td>\n",
       "      <td>1</td>\n",
       "      <td>1</td>\n",
       "      <td>29</td>\n",
       "      <td>13.923778</td>\n",
       "      <td>50.965812</td>\n",
       "      <td>2022-12-15 14:00:00</td>\n",
       "      <td>1671112800</td>\n",
       "    </tr>\n",
       "    <tr>\n",
       "      <th>14</th>\n",
       "      <td>30</td>\n",
       "      <td>GWM06</td>\n",
       "      <td>117.93</td>\n",
       "      <td>Well</td>\n",
       "      <td>Top Case</td>\n",
       "      <td>27</td>\n",
       "      <td>14</td>\n",
       "      <td>I-6</td>\n",
       "      <td>1</td>\n",
       "      <td>0</td>\n",
       "      <td>30</td>\n",
       "      <td>13.923829</td>\n",
       "      <td>50.965826</td>\n",
       "      <td>2022-01-17 09:00:00</td>\n",
       "      <td>1642410000</td>\n",
       "    </tr>\n",
       "  </tbody>\n",
       "</table>\n",
       "</div>"
      ],
      "text/plain": [
       "    PointID MonitoringPointName  ReferenceAltitude  Type TypeOfAltitude  \\\n",
       "11       26               GWM02             117.98  Well       Top Case   \n",
       "12       27               GWM03             117.88  Well       Top Case   \n",
       "13       29               GWM05             117.87  Well       Top Case   \n",
       "14       30               GWM06             117.93  Well       Top Case   \n",
       "\n",
       "    MonitoringPointID  DiverID DiverName  IOT  Functioning  PointsID  \\\n",
       "11                 23       11       I-2    1            1        26   \n",
       "12                 24       12       I-3    1            1        27   \n",
       "13                 26       13       I-5    1            1        29   \n",
       "14                 27       14       I-6    1            0        30   \n",
       "\n",
       "            E          N        NextUpdate_t  NextUpdate_ts  \n",
       "11  13.923774  50.965905 2022-12-15 14:00:00     1671112800  \n",
       "12  13.923764  50.965858 2022-12-15 14:00:00     1671112800  \n",
       "13  13.923778  50.965812 2022-12-15 14:00:00     1671112800  \n",
       "14  13.923829  50.965826 2022-01-17 09:00:00     1642410000  "
      ]
     },
     "execution_count": 9,
     "metadata": {},
     "output_type": "execute_result"
    }
   ],
   "source": [
    "DiverStatus_df [DiverStatus_df.MonitoringPointName.str.startswith('GW') ]"
   ]
  },
  {
   "cell_type": "markdown",
   "id": "96626451-4d11-44cf-98d7-777853886ec0",
   "metadata": {
    "slideshow": {
     "slide_type": "subslide"
    }
   },
   "source": [
    "### 2.3 Historical data\n",
    "\n",
    "Fetching the historical values"
   ]
  },
  {
   "cell_type": "code",
   "execution_count": 4,
   "id": "75132512-bd13-484f-a07b-7abcaf62b76a",
   "metadata": {
    "slideshow": {
     "slide_type": "fragment"
    }
   },
   "outputs": [
    {
     "name": "stdout",
     "output_type": "stream",
     "text": [
      "Wall time: 817 ms\n"
     ]
    }
   ],
   "source": [
    "%%time\n",
    "# Get.LongTimeSeries(0)\n",
    "# Get.ShortTimeSeries(FilterVariableID = 0, FilterMonitoringPoint = 'G01')\n",
    "Get.Isolines(2022, 12, 7, 2)\n",
    "# Get.HydroProfile()"
   ]
  },
  {
   "cell_type": "code",
   "execution_count": 6,
   "id": "11e4c790-ff17-456b-97ea-706b1b8a2b79",
   "metadata": {},
   "outputs": [],
   "source": [
    "status_df = Get.DiverStatus()"
   ]
  },
  {
   "cell_type": "code",
   "execution_count": 7,
   "id": "560caa91-02ff-41de-95fa-f4bd4423eb97",
   "metadata": {},
   "outputs": [
    {
     "data": {
      "text/html": [
       "<div>\n",
       "<style scoped>\n",
       "    .dataframe tbody tr th:only-of-type {\n",
       "        vertical-align: middle;\n",
       "    }\n",
       "\n",
       "    .dataframe tbody tr th {\n",
       "        vertical-align: top;\n",
       "    }\n",
       "\n",
       "    .dataframe thead th {\n",
       "        text-align: right;\n",
       "    }\n",
       "</style>\n",
       "<table border=\"1\" class=\"dataframe\">\n",
       "  <thead>\n",
       "    <tr style=\"text-align: right;\">\n",
       "      <th></th>\n",
       "      <th>PointID</th>\n",
       "      <th>MonitoringPointName</th>\n",
       "      <th>ReferenceAltitude</th>\n",
       "      <th>Type</th>\n",
       "      <th>TypeOfAltitude</th>\n",
       "      <th>MonitoringPointID</th>\n",
       "      <th>DiverID</th>\n",
       "      <th>DiverName</th>\n",
       "      <th>IOT</th>\n",
       "      <th>Functioning</th>\n",
       "      <th>PointsID</th>\n",
       "      <th>E</th>\n",
       "      <th>N</th>\n",
       "      <th>NextUpdate_t</th>\n",
       "      <th>NextUpdate_ts</th>\n",
       "    </tr>\n",
       "  </thead>\n",
       "  <tbody>\n",
       "    <tr>\n",
       "      <th>0</th>\n",
       "      <td>0</td>\n",
       "      <td>G01</td>\n",
       "      <td>119.49</td>\n",
       "      <td>Well</td>\n",
       "      <td>Top Case</td>\n",
       "      <td>0</td>\n",
       "      <td>0</td>\n",
       "      <td>S01</td>\n",
       "      <td>0</td>\n",
       "      <td>1</td>\n",
       "      <td>0</td>\n",
       "      <td>13.922657</td>\n",
       "      <td>50.965827</td>\n",
       "      <td>2023-01-05 16:00:00</td>\n",
       "      <td>1672934400</td>\n",
       "    </tr>\n",
       "    <tr>\n",
       "      <th>1</th>\n",
       "      <td>3</td>\n",
       "      <td>G04</td>\n",
       "      <td>119.19</td>\n",
       "      <td>Well</td>\n",
       "      <td>Top Case</td>\n",
       "      <td>1</td>\n",
       "      <td>1</td>\n",
       "      <td>S02</td>\n",
       "      <td>0</td>\n",
       "      <td>0</td>\n",
       "      <td>3</td>\n",
       "      <td>13.923426</td>\n",
       "      <td>50.965848</td>\n",
       "      <td>2022-01-17 12:46:40</td>\n",
       "      <td>1642423600</td>\n",
       "    </tr>\n",
       "    <tr>\n",
       "      <th>2</th>\n",
       "      <td>6</td>\n",
       "      <td>G10</td>\n",
       "      <td>119.29</td>\n",
       "      <td>Well</td>\n",
       "      <td>Top Case</td>\n",
       "      <td>3</td>\n",
       "      <td>2</td>\n",
       "      <td>S03</td>\n",
       "      <td>0</td>\n",
       "      <td>1</td>\n",
       "      <td>6</td>\n",
       "      <td>13.923311</td>\n",
       "      <td>50.966071</td>\n",
       "      <td>2022-01-17 12:46:40</td>\n",
       "      <td>1642423600</td>\n",
       "    </tr>\n",
       "    <tr>\n",
       "      <th>3</th>\n",
       "      <td>7</td>\n",
       "      <td>G11</td>\n",
       "      <td>116.95</td>\n",
       "      <td>Well</td>\n",
       "      <td>Top Case</td>\n",
       "      <td>4</td>\n",
       "      <td>3</td>\n",
       "      <td>S04</td>\n",
       "      <td>0</td>\n",
       "      <td>1</td>\n",
       "      <td>7</td>\n",
       "      <td>13.923868</td>\n",
       "      <td>50.965732</td>\n",
       "      <td>2022-01-17 12:46:40</td>\n",
       "      <td>1642423600</td>\n",
       "    </tr>\n",
       "    <tr>\n",
       "      <th>4</th>\n",
       "      <td>8</td>\n",
       "      <td>G12</td>\n",
       "      <td>116.57</td>\n",
       "      <td>Well</td>\n",
       "      <td>Top Case</td>\n",
       "      <td>5</td>\n",
       "      <td>4</td>\n",
       "      <td>S05</td>\n",
       "      <td>0</td>\n",
       "      <td>1</td>\n",
       "      <td>8</td>\n",
       "      <td>13.923290</td>\n",
       "      <td>50.965675</td>\n",
       "      <td>2022-01-17 12:46:40</td>\n",
       "      <td>1642423600</td>\n",
       "    </tr>\n",
       "    <tr>\n",
       "      <th>5</th>\n",
       "      <td>9</td>\n",
       "      <td>G13</td>\n",
       "      <td>116.97</td>\n",
       "      <td>Well</td>\n",
       "      <td>Top Case</td>\n",
       "      <td>6</td>\n",
       "      <td>5</td>\n",
       "      <td>S06</td>\n",
       "      <td>0</td>\n",
       "      <td>1</td>\n",
       "      <td>9</td>\n",
       "      <td>13.922816</td>\n",
       "      <td>50.965641</td>\n",
       "      <td>2022-01-17 12:46:40</td>\n",
       "      <td>1642423600</td>\n",
       "    </tr>\n",
       "    <tr>\n",
       "      <th>6</th>\n",
       "      <td>10</td>\n",
       "      <td>G15</td>\n",
       "      <td>116.08</td>\n",
       "      <td>Well</td>\n",
       "      <td>Top Case</td>\n",
       "      <td>7</td>\n",
       "      <td>6</td>\n",
       "      <td>S07</td>\n",
       "      <td>0</td>\n",
       "      <td>0</td>\n",
       "      <td>10</td>\n",
       "      <td>13.924173</td>\n",
       "      <td>50.965596</td>\n",
       "      <td>2022-01-17 12:46:40</td>\n",
       "      <td>1642423600</td>\n",
       "    </tr>\n",
       "    <tr>\n",
       "      <th>7</th>\n",
       "      <td>12</td>\n",
       "      <td>G17</td>\n",
       "      <td>115.72</td>\n",
       "      <td>Well</td>\n",
       "      <td>Top Case</td>\n",
       "      <td>9</td>\n",
       "      <td>7</td>\n",
       "      <td>S08</td>\n",
       "      <td>0</td>\n",
       "      <td>1</td>\n",
       "      <td>12</td>\n",
       "      <td>13.923634</td>\n",
       "      <td>50.965507</td>\n",
       "      <td>2022-01-17 12:46:40</td>\n",
       "      <td>1642423600</td>\n",
       "    </tr>\n",
       "    <tr>\n",
       "      <th>8</th>\n",
       "      <td>14</td>\n",
       "      <td>G19</td>\n",
       "      <td>115.54</td>\n",
       "      <td>Well</td>\n",
       "      <td>Top Case</td>\n",
       "      <td>11</td>\n",
       "      <td>8</td>\n",
       "      <td>S09</td>\n",
       "      <td>0</td>\n",
       "      <td>1</td>\n",
       "      <td>14</td>\n",
       "      <td>13.923159</td>\n",
       "      <td>50.965430</td>\n",
       "      <td>2022-01-17 12:46:40</td>\n",
       "      <td>1642423600</td>\n",
       "    </tr>\n",
       "    <tr>\n",
       "      <th>9</th>\n",
       "      <td>15</td>\n",
       "      <td>G21</td>\n",
       "      <td>115.56</td>\n",
       "      <td>Well</td>\n",
       "      <td>Top Case</td>\n",
       "      <td>12</td>\n",
       "      <td>9</td>\n",
       "      <td>S10</td>\n",
       "      <td>0</td>\n",
       "      <td>0</td>\n",
       "      <td>15</td>\n",
       "      <td>13.922631</td>\n",
       "      <td>50.965332</td>\n",
       "      <td>2022-01-17 12:46:40</td>\n",
       "      <td>1642423600</td>\n",
       "    </tr>\n",
       "    <tr>\n",
       "      <th>10</th>\n",
       "      <td>17</td>\n",
       "      <td>G23</td>\n",
       "      <td>119.07</td>\n",
       "      <td>Well</td>\n",
       "      <td>Top Case</td>\n",
       "      <td>14</td>\n",
       "      <td>10</td>\n",
       "      <td>S11</td>\n",
       "      <td>0</td>\n",
       "      <td>1</td>\n",
       "      <td>17</td>\n",
       "      <td>13.922428</td>\n",
       "      <td>50.966182</td>\n",
       "      <td>2022-01-17 12:46:40</td>\n",
       "      <td>1642423600</td>\n",
       "    </tr>\n",
       "    <tr>\n",
       "      <th>11</th>\n",
       "      <td>26</td>\n",
       "      <td>GWM02</td>\n",
       "      <td>117.98</td>\n",
       "      <td>Well</td>\n",
       "      <td>Top Case</td>\n",
       "      <td>23</td>\n",
       "      <td>11</td>\n",
       "      <td>I-2</td>\n",
       "      <td>1</td>\n",
       "      <td>1</td>\n",
       "      <td>26</td>\n",
       "      <td>13.923774</td>\n",
       "      <td>50.965905</td>\n",
       "      <td>2023-01-05 13:00:00</td>\n",
       "      <td>1672923600</td>\n",
       "    </tr>\n",
       "    <tr>\n",
       "      <th>12</th>\n",
       "      <td>27</td>\n",
       "      <td>GWM03</td>\n",
       "      <td>117.88</td>\n",
       "      <td>Well</td>\n",
       "      <td>Top Case</td>\n",
       "      <td>24</td>\n",
       "      <td>12</td>\n",
       "      <td>I-3</td>\n",
       "      <td>1</td>\n",
       "      <td>1</td>\n",
       "      <td>27</td>\n",
       "      <td>13.923764</td>\n",
       "      <td>50.965858</td>\n",
       "      <td>2023-01-05 14:00:00</td>\n",
       "      <td>1672927200</td>\n",
       "    </tr>\n",
       "    <tr>\n",
       "      <th>13</th>\n",
       "      <td>29</td>\n",
       "      <td>GWM05</td>\n",
       "      <td>117.87</td>\n",
       "      <td>Well</td>\n",
       "      <td>Top Case</td>\n",
       "      <td>26</td>\n",
       "      <td>13</td>\n",
       "      <td>I-5</td>\n",
       "      <td>1</td>\n",
       "      <td>1</td>\n",
       "      <td>29</td>\n",
       "      <td>13.923778</td>\n",
       "      <td>50.965812</td>\n",
       "      <td>2023-01-05 13:00:00</td>\n",
       "      <td>1672923600</td>\n",
       "    </tr>\n",
       "    <tr>\n",
       "      <th>14</th>\n",
       "      <td>30</td>\n",
       "      <td>GWM06</td>\n",
       "      <td>117.93</td>\n",
       "      <td>Well</td>\n",
       "      <td>Top Case</td>\n",
       "      <td>27</td>\n",
       "      <td>14</td>\n",
       "      <td>I-6</td>\n",
       "      <td>1</td>\n",
       "      <td>0</td>\n",
       "      <td>30</td>\n",
       "      <td>13.923829</td>\n",
       "      <td>50.965826</td>\n",
       "      <td>2022-01-17 10:00:00</td>\n",
       "      <td>1642413600</td>\n",
       "    </tr>\n",
       "    <tr>\n",
       "      <th>15</th>\n",
       "      <td>16</td>\n",
       "      <td>G21neu</td>\n",
       "      <td>116.46</td>\n",
       "      <td>Well</td>\n",
       "      <td>Top Case</td>\n",
       "      <td>13</td>\n",
       "      <td>15</td>\n",
       "      <td>123</td>\n",
       "      <td>1</td>\n",
       "      <td>1</td>\n",
       "      <td>16</td>\n",
       "      <td>13.922611</td>\n",
       "      <td>50.965332</td>\n",
       "      <td>2022-12-06 09:00:00</td>\n",
       "      <td>1670317200</td>\n",
       "    </tr>\n",
       "    <tr>\n",
       "      <th>16</th>\n",
       "      <td>18</td>\n",
       "      <td>G24</td>\n",
       "      <td>119.56</td>\n",
       "      <td>Well</td>\n",
       "      <td>Top Case</td>\n",
       "      <td>15</td>\n",
       "      <td>16</td>\n",
       "      <td>124</td>\n",
       "      <td>1</td>\n",
       "      <td>1</td>\n",
       "      <td>18</td>\n",
       "      <td>13.924817</td>\n",
       "      <td>50.966529</td>\n",
       "      <td>2023-01-05 13:00:00</td>\n",
       "      <td>1672923600</td>\n",
       "    </tr>\n",
       "    <tr>\n",
       "      <th>17</th>\n",
       "      <td>23</td>\n",
       "      <td>G29</td>\n",
       "      <td>120.14</td>\n",
       "      <td>Well</td>\n",
       "      <td>Top Case</td>\n",
       "      <td>20</td>\n",
       "      <td>17</td>\n",
       "      <td>125</td>\n",
       "      <td>1</td>\n",
       "      <td>1</td>\n",
       "      <td>23</td>\n",
       "      <td>13.922332</td>\n",
       "      <td>50.966438</td>\n",
       "      <td>2023-01-04 13:00:00</td>\n",
       "      <td>1672837200</td>\n",
       "    </tr>\n",
       "    <tr>\n",
       "      <th>18</th>\n",
       "      <td>24</td>\n",
       "      <td>G30</td>\n",
       "      <td>118.89</td>\n",
       "      <td>Well</td>\n",
       "      <td>Top Case</td>\n",
       "      <td>21</td>\n",
       "      <td>18</td>\n",
       "      <td>126</td>\n",
       "      <td>1</td>\n",
       "      <td>1</td>\n",
       "      <td>24</td>\n",
       "      <td>13.924894</td>\n",
       "      <td>50.966210</td>\n",
       "      <td>2023-01-03 13:00:00</td>\n",
       "      <td>1672750800</td>\n",
       "    </tr>\n",
       "    <tr>\n",
       "      <th>19</th>\n",
       "      <td>21</td>\n",
       "      <td>G27</td>\n",
       "      <td>118.33</td>\n",
       "      <td>Well</td>\n",
       "      <td>Top Case</td>\n",
       "      <td>18</td>\n",
       "      <td>19</td>\n",
       "      <td>127</td>\n",
       "      <td>1</td>\n",
       "      <td>1</td>\n",
       "      <td>21</td>\n",
       "      <td>13.924870</td>\n",
       "      <td>50.965741</td>\n",
       "      <td>2023-01-03 13:00:00</td>\n",
       "      <td>1672750800</td>\n",
       "    </tr>\n",
       "  </tbody>\n",
       "</table>\n",
       "</div>"
      ],
      "text/plain": [
       "    PointID MonitoringPointName  ReferenceAltitude  Type TypeOfAltitude  \\\n",
       "0         0                 G01             119.49  Well       Top Case   \n",
       "1         3                 G04             119.19  Well       Top Case   \n",
       "2         6                 G10             119.29  Well       Top Case   \n",
       "3         7                 G11             116.95  Well       Top Case   \n",
       "4         8                 G12             116.57  Well       Top Case   \n",
       "5         9                 G13             116.97  Well       Top Case   \n",
       "6        10                 G15             116.08  Well       Top Case   \n",
       "7        12                 G17             115.72  Well       Top Case   \n",
       "8        14                 G19             115.54  Well       Top Case   \n",
       "9        15                 G21             115.56  Well       Top Case   \n",
       "10       17                 G23             119.07  Well       Top Case   \n",
       "11       26               GWM02             117.98  Well       Top Case   \n",
       "12       27               GWM03             117.88  Well       Top Case   \n",
       "13       29               GWM05             117.87  Well       Top Case   \n",
       "14       30               GWM06             117.93  Well       Top Case   \n",
       "15       16              G21neu             116.46  Well       Top Case   \n",
       "16       18                 G24             119.56  Well       Top Case   \n",
       "17       23                 G29             120.14  Well       Top Case   \n",
       "18       24                 G30             118.89  Well       Top Case   \n",
       "19       21                 G27             118.33  Well       Top Case   \n",
       "\n",
       "    MonitoringPointID  DiverID DiverName  IOT  Functioning  PointsID  \\\n",
       "0                   0        0       S01    0            1         0   \n",
       "1                   1        1       S02    0            0         3   \n",
       "2                   3        2       S03    0            1         6   \n",
       "3                   4        3       S04    0            1         7   \n",
       "4                   5        4       S05    0            1         8   \n",
       "5                   6        5       S06    0            1         9   \n",
       "6                   7        6       S07    0            0        10   \n",
       "7                   9        7       S08    0            1        12   \n",
       "8                  11        8       S09    0            1        14   \n",
       "9                  12        9       S10    0            0        15   \n",
       "10                 14       10       S11    0            1        17   \n",
       "11                 23       11       I-2    1            1        26   \n",
       "12                 24       12       I-3    1            1        27   \n",
       "13                 26       13       I-5    1            1        29   \n",
       "14                 27       14       I-6    1            0        30   \n",
       "15                 13       15       123    1            1        16   \n",
       "16                 15       16       124    1            1        18   \n",
       "17                 20       17       125    1            1        23   \n",
       "18                 21       18       126    1            1        24   \n",
       "19                 18       19       127    1            1        21   \n",
       "\n",
       "            E          N        NextUpdate_t  NextUpdate_ts  \n",
       "0   13.922657  50.965827 2023-01-05 16:00:00     1672934400  \n",
       "1   13.923426  50.965848 2022-01-17 12:46:40     1642423600  \n",
       "2   13.923311  50.966071 2022-01-17 12:46:40     1642423600  \n",
       "3   13.923868  50.965732 2022-01-17 12:46:40     1642423600  \n",
       "4   13.923290  50.965675 2022-01-17 12:46:40     1642423600  \n",
       "5   13.922816  50.965641 2022-01-17 12:46:40     1642423600  \n",
       "6   13.924173  50.965596 2022-01-17 12:46:40     1642423600  \n",
       "7   13.923634  50.965507 2022-01-17 12:46:40     1642423600  \n",
       "8   13.923159  50.965430 2022-01-17 12:46:40     1642423600  \n",
       "9   13.922631  50.965332 2022-01-17 12:46:40     1642423600  \n",
       "10  13.922428  50.966182 2022-01-17 12:46:40     1642423600  \n",
       "11  13.923774  50.965905 2023-01-05 13:00:00     1672923600  \n",
       "12  13.923764  50.965858 2023-01-05 14:00:00     1672927200  \n",
       "13  13.923778  50.965812 2023-01-05 13:00:00     1672923600  \n",
       "14  13.923829  50.965826 2022-01-17 10:00:00     1642413600  \n",
       "15  13.922611  50.965332 2022-12-06 09:00:00     1670317200  \n",
       "16  13.924817  50.966529 2023-01-05 13:00:00     1672923600  \n",
       "17  13.922332  50.966438 2023-01-04 13:00:00     1672837200  \n",
       "18  13.924894  50.966210 2023-01-03 13:00:00     1672750800  \n",
       "19  13.924870  50.965741 2023-01-03 13:00:00     1672750800  "
      ]
     },
     "execution_count": 7,
     "metadata": {},
     "output_type": "execute_result"
    }
   ],
   "source": [
    "status_df"
   ]
  },
  {
   "cell_type": "code",
   "execution_count": 18,
   "id": "3339f163-d887-4716-a175-9ff5aafe3fa2",
   "metadata": {},
   "outputs": [
    {
     "data": {
      "text/html": [
       "<div>\n",
       "<style scoped>\n",
       "    .dataframe tbody tr th:only-of-type {\n",
       "        vertical-align: middle;\n",
       "    }\n",
       "\n",
       "    .dataframe tbody tr th {\n",
       "        vertical-align: top;\n",
       "    }\n",
       "\n",
       "    .dataframe thead th {\n",
       "        text-align: right;\n",
       "    }\n",
       "</style>\n",
       "<table border=\"1\" class=\"dataframe\">\n",
       "  <thead>\n",
       "    <tr style=\"text-align: right;\">\n",
       "      <th></th>\n",
       "      <th>MonitoringPointID</th>\n",
       "      <th>MonitoringPointName</th>\n",
       "      <th>DiverName</th>\n",
       "      <th>Time</th>\n",
       "      <th>Type</th>\n",
       "      <th>CaseTop</th>\n",
       "      <th>DiverDepth</th>\n",
       "      <th>Value</th>\n",
       "      <th>E</th>\n",
       "      <th>N</th>\n",
       "    </tr>\n",
       "  </thead>\n",
       "  <tbody>\n",
       "    <tr>\n",
       "      <th>0</th>\n",
       "      <td>0</td>\n",
       "      <td>G01</td>\n",
       "      <td>S01</td>\n",
       "      <td>2022-12-20 20:00:00</td>\n",
       "      <td>Rh</td>\n",
       "      <td>119.49</td>\n",
       "      <td>NaN</td>\n",
       "      <td>121.300</td>\n",
       "      <td>13.922657</td>\n",
       "      <td>50.965827</td>\n",
       "    </tr>\n",
       "    <tr>\n",
       "      <th>3</th>\n",
       "      <td>23</td>\n",
       "      <td>GWM02</td>\n",
       "      <td>I-2</td>\n",
       "      <td>2022-12-20 20:00:00</td>\n",
       "      <td>h_level</td>\n",
       "      <td>117.98</td>\n",
       "      <td>12.3</td>\n",
       "      <td>NaN</td>\n",
       "      <td>13.923774</td>\n",
       "      <td>50.965905</td>\n",
       "    </tr>\n",
       "    <tr>\n",
       "      <th>10</th>\n",
       "      <td>24</td>\n",
       "      <td>GWM03</td>\n",
       "      <td>I-3</td>\n",
       "      <td>2022-12-20 20:00:00</td>\n",
       "      <td>h_level</td>\n",
       "      <td>117.88</td>\n",
       "      <td>12.3</td>\n",
       "      <td>NaN</td>\n",
       "      <td>13.923764</td>\n",
       "      <td>50.965858</td>\n",
       "    </tr>\n",
       "    <tr>\n",
       "      <th>17</th>\n",
       "      <td>26</td>\n",
       "      <td>GWM05</td>\n",
       "      <td>I-5</td>\n",
       "      <td>2022-12-20 20:00:00</td>\n",
       "      <td>h_level</td>\n",
       "      <td>117.87</td>\n",
       "      <td>12.3</td>\n",
       "      <td>NaN</td>\n",
       "      <td>13.923778</td>\n",
       "      <td>50.965812</td>\n",
       "    </tr>\n",
       "    <tr>\n",
       "      <th>24</th>\n",
       "      <td>15</td>\n",
       "      <td>G24</td>\n",
       "      <td>124</td>\n",
       "      <td>2022-12-20 20:00:00</td>\n",
       "      <td>h_level</td>\n",
       "      <td>119.56</td>\n",
       "      <td>10.8</td>\n",
       "      <td>109.750</td>\n",
       "      <td>13.924817</td>\n",
       "      <td>50.966529</td>\n",
       "    </tr>\n",
       "    <tr>\n",
       "      <th>29</th>\n",
       "      <td>20</td>\n",
       "      <td>G29</td>\n",
       "      <td>125</td>\n",
       "      <td>2022-12-20 20:00:00</td>\n",
       "      <td>h_level</td>\n",
       "      <td>120.14</td>\n",
       "      <td>10.8</td>\n",
       "      <td>109.751</td>\n",
       "      <td>13.922332</td>\n",
       "      <td>50.966438</td>\n",
       "    </tr>\n",
       "    <tr>\n",
       "      <th>34</th>\n",
       "      <td>21</td>\n",
       "      <td>G30</td>\n",
       "      <td>126</td>\n",
       "      <td>2022-12-20 20:00:00</td>\n",
       "      <td>h_level</td>\n",
       "      <td>118.89</td>\n",
       "      <td>10.8</td>\n",
       "      <td>109.722</td>\n",
       "      <td>13.924894</td>\n",
       "      <td>50.966210</td>\n",
       "    </tr>\n",
       "    <tr>\n",
       "      <th>39</th>\n",
       "      <td>18</td>\n",
       "      <td>G27</td>\n",
       "      <td>127</td>\n",
       "      <td>2022-12-20 20:00:00</td>\n",
       "      <td>h_level</td>\n",
       "      <td>118.33</td>\n",
       "      <td>10.8</td>\n",
       "      <td>109.734</td>\n",
       "      <td>13.924870</td>\n",
       "      <td>50.965741</td>\n",
       "    </tr>\n",
       "  </tbody>\n",
       "</table>\n",
       "</div>"
      ],
      "text/plain": [
       "    MonitoringPointID MonitoringPointName DiverName                Time  \\\n",
       "0                   0                 G01       S01 2022-12-20 20:00:00   \n",
       "3                  23               GWM02       I-2 2022-12-20 20:00:00   \n",
       "10                 24               GWM03       I-3 2022-12-20 20:00:00   \n",
       "17                 26               GWM05       I-5 2022-12-20 20:00:00   \n",
       "24                 15                 G24       124 2022-12-20 20:00:00   \n",
       "29                 20                 G29       125 2022-12-20 20:00:00   \n",
       "34                 21                 G30       126 2022-12-20 20:00:00   \n",
       "39                 18                 G27       127 2022-12-20 20:00:00   \n",
       "\n",
       "       Type  CaseTop  DiverDepth    Value          E          N  \n",
       "0        Rh   119.49         NaN  121.300  13.922657  50.965827  \n",
       "3   h_level   117.98        12.3      NaN  13.923774  50.965905  \n",
       "10  h_level   117.88        12.3      NaN  13.923764  50.965858  \n",
       "17  h_level   117.87        12.3      NaN  13.923778  50.965812  \n",
       "24  h_level   119.56        10.8  109.750  13.924817  50.966529  \n",
       "29  h_level   120.14        10.8  109.751  13.922332  50.966438  \n",
       "34  h_level   118.89        10.8  109.722  13.924894  50.966210  \n",
       "39  h_level   118.33        10.8  109.734  13.924870  50.965741  "
      ]
     },
     "execution_count": 18,
     "metadata": {},
     "output_type": "execute_result"
    }
   ],
   "source": [
    "Get.Isolines(2022, 12, 20, 20 )\n",
    "df = Get.Isolines_df.copy ()\n",
    "df"
   ]
  },
  {
   "cell_type": "markdown",
   "id": "d58c6ebe-25ab-4764-bac2-5c592a0f06a5",
   "metadata": {
    "slideshow": {
     "slide_type": "subslide"
    }
   },
   "source": [
    "This dataframes are stored within each class as a class attribute. You can retrieve it as follows:"
   ]
  },
  {
   "cell_type": "code",
   "execution_count": 35,
   "id": "7bb06096-c01a-4b9d-8d6a-2b8ecd7be3bc",
   "metadata": {
    "slideshow": {
     "slide_type": "fragment"
    }
   },
   "outputs": [],
   "source": [
    "HydroProfile_df = Get.HydroProfile_df\n",
    "Isolines_df = Get.Isolines_df"
   ]
  },
  {
   "cell_type": "markdown",
   "id": "bbf6051f-6f37-40eb-af28-3274d3a94af7",
   "metadata": {
    "slideshow": {
     "slide_type": "fragment"
    }
   },
   "source": [
    "and so on...\n",
    "\n",
    "Just add the suffix **'_df'** to the method name"
   ]
  },
  {
   "cell_type": "markdown",
   "id": "659681d0-b015-4d55-a7f1-19b1e2bbba56",
   "metadata": {},
   "source": [
    "### 2.3b - Checking up conversion\n",
    "\n",
    "$$ Value(head) = CaseTop - DiverDepth + DiverReading(Inowas) $$"
   ]
  },
  {
   "cell_type": "code",
   "execution_count": 52,
   "id": "7b656eec-355c-45de-a812-ce3039280457",
   "metadata": {},
   "outputs": [
    {
     "data": {
      "text/html": [
       "<div>\n",
       "<style scoped>\n",
       "    .dataframe tbody tr th:only-of-type {\n",
       "        vertical-align: middle;\n",
       "    }\n",
       "\n",
       "    .dataframe tbody tr th {\n",
       "        vertical-align: top;\n",
       "    }\n",
       "\n",
       "    .dataframe thead th {\n",
       "        text-align: right;\n",
       "    }\n",
       "</style>\n",
       "<table border=\"1\" class=\"dataframe\">\n",
       "  <thead>\n",
       "    <tr style=\"text-align: right;\">\n",
       "      <th></th>\n",
       "      <th>MonitoringPointID</th>\n",
       "      <th>MonitoringPointName</th>\n",
       "      <th>DiverName</th>\n",
       "      <th>Time</th>\n",
       "      <th>Type</th>\n",
       "      <th>CaseTop</th>\n",
       "      <th>DiverDepth</th>\n",
       "      <th>Value</th>\n",
       "      <th>E</th>\n",
       "      <th>N</th>\n",
       "      <th>DiverReading</th>\n",
       "    </tr>\n",
       "  </thead>\n",
       "  <tbody>\n",
       "    <tr>\n",
       "      <th>2</th>\n",
       "      <td>23</td>\n",
       "      <td>GWM02</td>\n",
       "      <td>I-2</td>\n",
       "      <td>2022-12-12 12:00:00</td>\n",
       "      <td>h_level</td>\n",
       "      <td>117.98</td>\n",
       "      <td>12.3</td>\n",
       "      <td>105.680</td>\n",
       "      <td>13.923774</td>\n",
       "      <td>50.965905</td>\n",
       "      <td>0.00</td>\n",
       "    </tr>\n",
       "    <tr>\n",
       "      <th>9</th>\n",
       "      <td>24</td>\n",
       "      <td>GWM03</td>\n",
       "      <td>I-3</td>\n",
       "      <td>2022-12-12 12:00:00</td>\n",
       "      <td>h_level</td>\n",
       "      <td>117.88</td>\n",
       "      <td>12.3</td>\n",
       "      <td>105.580</td>\n",
       "      <td>13.923764</td>\n",
       "      <td>50.965858</td>\n",
       "      <td>0.00</td>\n",
       "    </tr>\n",
       "    <tr>\n",
       "      <th>16</th>\n",
       "      <td>26</td>\n",
       "      <td>GWM05</td>\n",
       "      <td>I-5</td>\n",
       "      <td>2022-12-12 12:00:00</td>\n",
       "      <td>h_level</td>\n",
       "      <td>117.87</td>\n",
       "      <td>12.3</td>\n",
       "      <td>105.570</td>\n",
       "      <td>13.923778</td>\n",
       "      <td>50.965812</td>\n",
       "      <td>0.00</td>\n",
       "    </tr>\n",
       "    <tr>\n",
       "      <th>23</th>\n",
       "      <td>15</td>\n",
       "      <td>G24</td>\n",
       "      <td>124</td>\n",
       "      <td>2022-12-12 12:00:00</td>\n",
       "      <td>h_level</td>\n",
       "      <td>119.56</td>\n",
       "      <td>10.8</td>\n",
       "      <td>109.741</td>\n",
       "      <td>13.924817</td>\n",
       "      <td>50.966529</td>\n",
       "      <td>0.98</td>\n",
       "    </tr>\n",
       "    <tr>\n",
       "      <th>28</th>\n",
       "      <td>21</td>\n",
       "      <td>G30</td>\n",
       "      <td>126</td>\n",
       "      <td>2022-12-12 12:00:00</td>\n",
       "      <td>h_level</td>\n",
       "      <td>118.89</td>\n",
       "      <td>10.8</td>\n",
       "      <td>109.693</td>\n",
       "      <td>13.924894</td>\n",
       "      <td>50.966210</td>\n",
       "      <td>1.60</td>\n",
       "    </tr>\n",
       "    <tr>\n",
       "      <th>33</th>\n",
       "      <td>20</td>\n",
       "      <td>G29</td>\n",
       "      <td>125</td>\n",
       "      <td>2022-12-12 12:00:00</td>\n",
       "      <td>h_level</td>\n",
       "      <td>120.14</td>\n",
       "      <td>10.8</td>\n",
       "      <td>109.742</td>\n",
       "      <td>13.922332</td>\n",
       "      <td>50.966438</td>\n",
       "      <td>0.40</td>\n",
       "    </tr>\n",
       "  </tbody>\n",
       "</table>\n",
       "</div>"
      ],
      "text/plain": [
       "    MonitoringPointID MonitoringPointName DiverName                Time  \\\n",
       "2                  23               GWM02       I-2 2022-12-12 12:00:00   \n",
       "9                  24               GWM03       I-3 2022-12-12 12:00:00   \n",
       "16                 26               GWM05       I-5 2022-12-12 12:00:00   \n",
       "23                 15                 G24       124 2022-12-12 12:00:00   \n",
       "28                 21                 G30       126 2022-12-12 12:00:00   \n",
       "33                 20                 G29       125 2022-12-12 12:00:00   \n",
       "\n",
       "       Type  CaseTop  DiverDepth    Value          E          N  DiverReading  \n",
       "2   h_level   117.98        12.3  105.680  13.923774  50.965905          0.00  \n",
       "9   h_level   117.88        12.3  105.580  13.923764  50.965858          0.00  \n",
       "16  h_level   117.87        12.3  105.570  13.923778  50.965812          0.00  \n",
       "23  h_level   119.56        10.8  109.741  13.924817  50.966529          0.98  \n",
       "28  h_level   118.89        10.8  109.693  13.924894  50.966210          1.60  \n",
       "33  h_level   120.14        10.8  109.742  13.922332  50.966438          0.40  "
      ]
     },
     "execution_count": 52,
     "metadata": {},
     "output_type": "execute_result"
    }
   ],
   "source": [
    "Get.Isolines(2022, 12, 12, 12 )\n",
    "df = Get.Isolines_df.copy ()\n",
    "df ['DiverReading'] = np.round(df.Value - df.CaseTop + df.DiverDepth, 2)\n",
    "df"
   ]
  },
  {
   "cell_type": "markdown",
   "id": "8c64c315-1dfe-4875-809f-0c3aa92d4c04",
   "metadata": {},
   "source": [
    "## 2.3.2 Delete null values from database\n",
    "### delete where \n",
    "$$df.Value - df.CaseTop + df.DiverDepth = 0$$"
   ]
  },
  {
   "cell_type": "code",
   "execution_count": 75,
   "id": "53ae172a-6d51-45e3-bb57-88bc460f49d8",
   "metadata": {},
   "outputs": [],
   "source": [
    "query = '''\n",
    "SELECT \n",
    "\tPointsMeasurements.ID, PointsMeasurements.MonitoringPointID, PointsMeasurements.TimeStamp, PointsMeasurements.VariableID, PointsMeasurements.Value,\n",
    "\tMonitoringPoints.ID, MonitoringPoints.Name as MonitoringPointName, MonitoringPoints.PointID, MonitoringPoints.ReferenceAltitude as CaseTop, \n",
    "\tPoints.ID, Points.E, Points.N, \n",
    "\tVariables.ID, Variables.Name AS Type,\n",
    "\tWellDiver.DiverID, WellDiver.DiverDepth, WellDiver.MonitoringPointID AS MonitoringPointID2,\n",
    "\tDivers.ID, Divers.Name as DiverName\n",
    "FROM \n",
    "\tPointsMeasurements\n",
    "JOIN\n",
    "\tMonitoringPoints ON PointsMeasurements.MonitoringPointID = MonitoringPoints.ID\n",
    "JOIN\n",
    "\tPoints ON MonitoringPoints.PointID = Points.ID\t\n",
    "JOIN\t\n",
    "\tVariables ON PointsMeasurements.VariableID = Variables.ID\n",
    "JOIN\n",
    "\tWellDiver ON PointsMeasurements.MonitoringPointID = MonitoringPointID2\n",
    "JOIN\n",
    "\tDivers ON WellDiver.DiverID = Divers.ID\n",
    "'''"
   ]
  },
  {
   "cell_type": "code",
   "execution_count": 76,
   "id": "c624c195-a8e6-4331-be9c-82170690acfe",
   "metadata": {},
   "outputs": [],
   "source": [
    "df = pd.read_sql(query, con = Get.connection)"
   ]
  },
  {
   "cell_type": "code",
   "execution_count": 77,
   "id": "09c12c9e-f82b-4f12-b295-29dc97263a17",
   "metadata": {},
   "outputs": [],
   "source": [
    "df_ = df.copy()"
   ]
  },
  {
   "cell_type": "code",
   "execution_count": 78,
   "id": "b8cc75f4-08b6-4728-8aef-e8de5c72297b",
   "metadata": {},
   "outputs": [
    {
     "data": {
      "text/plain": [
       "array(['t', 'h_level', 'ec_25', 'ec', 'v_batt', 'ph', 'ldo'], dtype=object)"
      ]
     },
     "execution_count": 78,
     "metadata": {},
     "output_type": "execute_result"
    }
   ],
   "source": [
    "df_.Type.unique()"
   ]
  },
  {
   "cell_type": "code",
   "execution_count": null,
   "id": "5dd5379f-0d59-4428-980f-2f72414f3bde",
   "metadata": {},
   "outputs": [],
   "source": [
    "df = df_ [ df_.Type.isin (['h_level', ''])]"
   ]
  },
  {
   "cell_type": "code",
   "execution_count": 73,
   "id": "2b8b8f69-aa45-4c8b-9aac-60961fb9fd36",
   "metadata": {},
   "outputs": [],
   "source": [
    "df ['DiverReading'] = np.round(df.Value - df.CaseTop + df.DiverDepth, 2)"
   ]
  },
  {
   "cell_type": "code",
   "execution_count": 74,
   "id": "62da1238-5a09-48ee-a0b9-e76388086fc7",
   "metadata": {},
   "outputs": [
    {
     "data": {
      "text/html": [
       "<div>\n",
       "<style scoped>\n",
       "    .dataframe tbody tr th:only-of-type {\n",
       "        vertical-align: middle;\n",
       "    }\n",
       "\n",
       "    .dataframe tbody tr th {\n",
       "        vertical-align: top;\n",
       "    }\n",
       "\n",
       "    .dataframe thead th {\n",
       "        text-align: right;\n",
       "    }\n",
       "</style>\n",
       "<table border=\"1\" class=\"dataframe\">\n",
       "  <thead>\n",
       "    <tr style=\"text-align: right;\">\n",
       "      <th></th>\n",
       "      <th>ID</th>\n",
       "      <th>MonitoringPointID</th>\n",
       "      <th>TimeStamp</th>\n",
       "      <th>VariableID</th>\n",
       "      <th>Value</th>\n",
       "      <th>ID</th>\n",
       "      <th>MonitoringPointName</th>\n",
       "      <th>PointID</th>\n",
       "      <th>CaseTop</th>\n",
       "      <th>ID</th>\n",
       "      <th>E</th>\n",
       "      <th>N</th>\n",
       "      <th>ID</th>\n",
       "      <th>Type</th>\n",
       "      <th>DiverID</th>\n",
       "      <th>DiverDepth</th>\n",
       "      <th>MonitoringPointID2</th>\n",
       "      <th>ID</th>\n",
       "      <th>DiverName</th>\n",
       "      <th>DiverReading</th>\n",
       "    </tr>\n",
       "  </thead>\n",
       "  <tbody>\n",
       "    <tr>\n",
       "      <th>0</th>\n",
       "      <td>41880</td>\n",
       "      <td>0</td>\n",
       "      <td>1554780600</td>\n",
       "      <td>0</td>\n",
       "      <td>110.389</td>\n",
       "      <td>0</td>\n",
       "      <td>G01</td>\n",
       "      <td>0</td>\n",
       "      <td>119.49</td>\n",
       "      <td>0</td>\n",
       "      <td>13.922657</td>\n",
       "      <td>50.965827</td>\n",
       "      <td>0</td>\n",
       "      <td>h_level</td>\n",
       "      <td>0</td>\n",
       "      <td>NaN</td>\n",
       "      <td>0</td>\n",
       "      <td>0</td>\n",
       "      <td>S01</td>\n",
       "      <td>NaN</td>\n",
       "    </tr>\n",
       "    <tr>\n",
       "      <th>1</th>\n",
       "      <td>41881</td>\n",
       "      <td>0</td>\n",
       "      <td>1554784200</td>\n",
       "      <td>0</td>\n",
       "      <td>110.386</td>\n",
       "      <td>0</td>\n",
       "      <td>G01</td>\n",
       "      <td>0</td>\n",
       "      <td>119.49</td>\n",
       "      <td>0</td>\n",
       "      <td>13.922657</td>\n",
       "      <td>50.965827</td>\n",
       "      <td>0</td>\n",
       "      <td>h_level</td>\n",
       "      <td>0</td>\n",
       "      <td>NaN</td>\n",
       "      <td>0</td>\n",
       "      <td>0</td>\n",
       "      <td>S01</td>\n",
       "      <td>NaN</td>\n",
       "    </tr>\n",
       "    <tr>\n",
       "      <th>2</th>\n",
       "      <td>41882</td>\n",
       "      <td>0</td>\n",
       "      <td>1554787800</td>\n",
       "      <td>0</td>\n",
       "      <td>110.384</td>\n",
       "      <td>0</td>\n",
       "      <td>G01</td>\n",
       "      <td>0</td>\n",
       "      <td>119.49</td>\n",
       "      <td>0</td>\n",
       "      <td>13.922657</td>\n",
       "      <td>50.965827</td>\n",
       "      <td>0</td>\n",
       "      <td>h_level</td>\n",
       "      <td>0</td>\n",
       "      <td>NaN</td>\n",
       "      <td>0</td>\n",
       "      <td>0</td>\n",
       "      <td>S01</td>\n",
       "      <td>NaN</td>\n",
       "    </tr>\n",
       "    <tr>\n",
       "      <th>3</th>\n",
       "      <td>41883</td>\n",
       "      <td>0</td>\n",
       "      <td>1554791400</td>\n",
       "      <td>0</td>\n",
       "      <td>110.381</td>\n",
       "      <td>0</td>\n",
       "      <td>G01</td>\n",
       "      <td>0</td>\n",
       "      <td>119.49</td>\n",
       "      <td>0</td>\n",
       "      <td>13.922657</td>\n",
       "      <td>50.965827</td>\n",
       "      <td>0</td>\n",
       "      <td>h_level</td>\n",
       "      <td>0</td>\n",
       "      <td>NaN</td>\n",
       "      <td>0</td>\n",
       "      <td>0</td>\n",
       "      <td>S01</td>\n",
       "      <td>NaN</td>\n",
       "    </tr>\n",
       "    <tr>\n",
       "      <th>4</th>\n",
       "      <td>41884</td>\n",
       "      <td>0</td>\n",
       "      <td>1554795000</td>\n",
       "      <td>0</td>\n",
       "      <td>110.378</td>\n",
       "      <td>0</td>\n",
       "      <td>G01</td>\n",
       "      <td>0</td>\n",
       "      <td>119.49</td>\n",
       "      <td>0</td>\n",
       "      <td>13.922657</td>\n",
       "      <td>50.965827</td>\n",
       "      <td>0</td>\n",
       "      <td>h_level</td>\n",
       "      <td>0</td>\n",
       "      <td>NaN</td>\n",
       "      <td>0</td>\n",
       "      <td>0</td>\n",
       "      <td>S01</td>\n",
       "      <td>NaN</td>\n",
       "    </tr>\n",
       "    <tr>\n",
       "      <th>...</th>\n",
       "      <td>...</td>\n",
       "      <td>...</td>\n",
       "      <td>...</td>\n",
       "      <td>...</td>\n",
       "      <td>...</td>\n",
       "      <td>...</td>\n",
       "      <td>...</td>\n",
       "      <td>...</td>\n",
       "      <td>...</td>\n",
       "      <td>...</td>\n",
       "      <td>...</td>\n",
       "      <td>...</td>\n",
       "      <td>...</td>\n",
       "      <td>...</td>\n",
       "      <td>...</td>\n",
       "      <td>...</td>\n",
       "      <td>...</td>\n",
       "      <td>...</td>\n",
       "      <td>...</td>\n",
       "      <td>...</td>\n",
       "    </tr>\n",
       "    <tr>\n",
       "      <th>562859</th>\n",
       "      <td>1114725</td>\n",
       "      <td>15</td>\n",
       "      <td>1671091200</td>\n",
       "      <td>0</td>\n",
       "      <td>109.863</td>\n",
       "      <td>15</td>\n",
       "      <td>G24</td>\n",
       "      <td>18</td>\n",
       "      <td>119.56</td>\n",
       "      <td>18</td>\n",
       "      <td>13.924817</td>\n",
       "      <td>50.966529</td>\n",
       "      <td>0</td>\n",
       "      <td>h_level</td>\n",
       "      <td>16</td>\n",
       "      <td>10.8</td>\n",
       "      <td>15</td>\n",
       "      <td>16</td>\n",
       "      <td>124</td>\n",
       "      <td>1.1</td>\n",
       "    </tr>\n",
       "    <tr>\n",
       "      <th>562860</th>\n",
       "      <td>1114726</td>\n",
       "      <td>15</td>\n",
       "      <td>1671094800</td>\n",
       "      <td>0</td>\n",
       "      <td>109.862</td>\n",
       "      <td>15</td>\n",
       "      <td>G24</td>\n",
       "      <td>18</td>\n",
       "      <td>119.56</td>\n",
       "      <td>18</td>\n",
       "      <td>13.924817</td>\n",
       "      <td>50.966529</td>\n",
       "      <td>0</td>\n",
       "      <td>h_level</td>\n",
       "      <td>16</td>\n",
       "      <td>10.8</td>\n",
       "      <td>15</td>\n",
       "      <td>16</td>\n",
       "      <td>124</td>\n",
       "      <td>1.1</td>\n",
       "    </tr>\n",
       "    <tr>\n",
       "      <th>562861</th>\n",
       "      <td>1114727</td>\n",
       "      <td>15</td>\n",
       "      <td>1671098400</td>\n",
       "      <td>0</td>\n",
       "      <td>109.861</td>\n",
       "      <td>15</td>\n",
       "      <td>G24</td>\n",
       "      <td>18</td>\n",
       "      <td>119.56</td>\n",
       "      <td>18</td>\n",
       "      <td>13.924817</td>\n",
       "      <td>50.966529</td>\n",
       "      <td>0</td>\n",
       "      <td>h_level</td>\n",
       "      <td>16</td>\n",
       "      <td>10.8</td>\n",
       "      <td>15</td>\n",
       "      <td>16</td>\n",
       "      <td>124</td>\n",
       "      <td>1.1</td>\n",
       "    </tr>\n",
       "    <tr>\n",
       "      <th>562862</th>\n",
       "      <td>1114728</td>\n",
       "      <td>15</td>\n",
       "      <td>1671102000</td>\n",
       "      <td>0</td>\n",
       "      <td>109.859</td>\n",
       "      <td>15</td>\n",
       "      <td>G24</td>\n",
       "      <td>18</td>\n",
       "      <td>119.56</td>\n",
       "      <td>18</td>\n",
       "      <td>13.924817</td>\n",
       "      <td>50.966529</td>\n",
       "      <td>0</td>\n",
       "      <td>h_level</td>\n",
       "      <td>16</td>\n",
       "      <td>10.8</td>\n",
       "      <td>15</td>\n",
       "      <td>16</td>\n",
       "      <td>124</td>\n",
       "      <td>1.1</td>\n",
       "    </tr>\n",
       "    <tr>\n",
       "      <th>562863</th>\n",
       "      <td>1114729</td>\n",
       "      <td>15</td>\n",
       "      <td>1671105600</td>\n",
       "      <td>0</td>\n",
       "      <td>109.858</td>\n",
       "      <td>15</td>\n",
       "      <td>G24</td>\n",
       "      <td>18</td>\n",
       "      <td>119.56</td>\n",
       "      <td>18</td>\n",
       "      <td>13.924817</td>\n",
       "      <td>50.966529</td>\n",
       "      <td>0</td>\n",
       "      <td>h_level</td>\n",
       "      <td>16</td>\n",
       "      <td>10.8</td>\n",
       "      <td>15</td>\n",
       "      <td>16</td>\n",
       "      <td>124</td>\n",
       "      <td>1.1</td>\n",
       "    </tr>\n",
       "  </tbody>\n",
       "</table>\n",
       "<p>562864 rows × 20 columns</p>\n",
       "</div>"
      ],
      "text/plain": [
       "             ID  MonitoringPointID   TimeStamp  VariableID    Value  ID  \\\n",
       "0         41880                  0  1554780600           0  110.389   0   \n",
       "1         41881                  0  1554784200           0  110.386   0   \n",
       "2         41882                  0  1554787800           0  110.384   0   \n",
       "3         41883                  0  1554791400           0  110.381   0   \n",
       "4         41884                  0  1554795000           0  110.378   0   \n",
       "...         ...                ...         ...         ...      ...  ..   \n",
       "562859  1114725                 15  1671091200           0  109.863  15   \n",
       "562860  1114726                 15  1671094800           0  109.862  15   \n",
       "562861  1114727                 15  1671098400           0  109.861  15   \n",
       "562862  1114728                 15  1671102000           0  109.859  15   \n",
       "562863  1114729                 15  1671105600           0  109.858  15   \n",
       "\n",
       "       MonitoringPointName  PointID  CaseTop  ID          E          N  ID  \\\n",
       "0                      G01        0   119.49   0  13.922657  50.965827   0   \n",
       "1                      G01        0   119.49   0  13.922657  50.965827   0   \n",
       "2                      G01        0   119.49   0  13.922657  50.965827   0   \n",
       "3                      G01        0   119.49   0  13.922657  50.965827   0   \n",
       "4                      G01        0   119.49   0  13.922657  50.965827   0   \n",
       "...                    ...      ...      ...  ..        ...        ...  ..   \n",
       "562859                 G24       18   119.56  18  13.924817  50.966529   0   \n",
       "562860                 G24       18   119.56  18  13.924817  50.966529   0   \n",
       "562861                 G24       18   119.56  18  13.924817  50.966529   0   \n",
       "562862                 G24       18   119.56  18  13.924817  50.966529   0   \n",
       "562863                 G24       18   119.56  18  13.924817  50.966529   0   \n",
       "\n",
       "           Type  DiverID  DiverDepth  MonitoringPointID2  ID DiverName  \\\n",
       "0       h_level        0         NaN                   0   0       S01   \n",
       "1       h_level        0         NaN                   0   0       S01   \n",
       "2       h_level        0         NaN                   0   0       S01   \n",
       "3       h_level        0         NaN                   0   0       S01   \n",
       "4       h_level        0         NaN                   0   0       S01   \n",
       "...         ...      ...         ...                 ...  ..       ...   \n",
       "562859  h_level       16        10.8                  15  16       124   \n",
       "562860  h_level       16        10.8                  15  16       124   \n",
       "562861  h_level       16        10.8                  15  16       124   \n",
       "562862  h_level       16        10.8                  15  16       124   \n",
       "562863  h_level       16        10.8                  15  16       124   \n",
       "\n",
       "        DiverReading  \n",
       "0                NaN  \n",
       "1                NaN  \n",
       "2                NaN  \n",
       "3                NaN  \n",
       "4                NaN  \n",
       "...              ...  \n",
       "562859           1.1  \n",
       "562860           1.1  \n",
       "562861           1.1  \n",
       "562862           1.1  \n",
       "562863           1.1  \n",
       "\n",
       "[562864 rows x 20 columns]"
      ]
     },
     "execution_count": 74,
     "metadata": {},
     "output_type": "execute_result"
    }
   ],
   "source": [
    "df"
   ]
  },
  {
   "cell_type": "markdown",
   "id": "1cb6c231-b24f-43de-9964-52adba5432ae",
   "metadata": {
    "slideshow": {
     "slide_type": "slide"
    }
   },
   "source": [
    "## 2.4 Saving to CSV"
   ]
  },
  {
   "cell_type": "code",
   "execution_count": 31,
   "id": "5702dadb-ee7e-4849-86ef-1def696ecd2a",
   "metadata": {
    "slideshow": {
     "slide_type": "fragment"
    }
   },
   "outputs": [],
   "source": [
    "os.chdir(path)\n",
    "\n",
    "outputsname_dict = {'MonitoringPointData.csv' : MonitoringPointData_df, 'GageData.csv' : GageData_df,\n",
    "                    'DiverData.csv' : DiverData_df, 'DiverStatus.csv' : DiverStatus_df,\n",
    "                    'LongTimeSeries.csv' : Get.LongTimeSeries_df, 'ShortTimeSeries.csv' : Get.ShortTimeSeries_df,\n",
    "                    'Isolines.csv' : Get.Isolines_df, 'HydroProfile.csv' : Get.HydroProfile_df}\n",
    "\n",
    "def SaveDataFrames():\n",
    "    folder = 'Data'\n",
    "    os.chdir(path+f'\\\\{folder}')\n",
    "    for i,j in outputsname_dict.items():\n",
    "        j.to_csv(i, index = False)\n",
    "        print(f'{i} saved in the {folder} folder')"
   ]
  },
  {
   "cell_type": "markdown",
   "id": "c72b304a-092b-424f-83a8-d090c2ae89f2",
   "metadata": {
    "slideshow": {
     "slide_type": "subslide"
    }
   },
   "source": [
    "if you wish to save it, uncomment and run the line below"
   ]
  },
  {
   "cell_type": "code",
   "execution_count": 32,
   "id": "1f2a85db-540c-4daa-906d-78105ad28df2",
   "metadata": {
    "slideshow": {
     "slide_type": "fragment"
    }
   },
   "outputs": [
    {
     "name": "stdout",
     "output_type": "stream",
     "text": [
      "MonitoringPointData.csv saved in the Data folder\n",
      "GageData.csv saved in the Data folder\n",
      "DiverData.csv saved in the Data folder\n",
      "DiverStatus.csv saved in the Data folder\n",
      "LongTimeSeries.csv saved in the Data folder\n",
      "ShortTimeSeries.csv saved in the Data folder\n",
      "Isolines.csv saved in the Data folder\n",
      "HydroProfile.csv saved in the Data folder\n"
     ]
    }
   ],
   "source": [
    "SaveDataFrames()"
   ]
  }
 ],
 "metadata": {
  "celltoolbar": "Slideshow",
  "kernelspec": {
   "display_name": "Python 3 (ipykernel)",
   "language": "python",
   "name": "python3"
  },
  "language_info": {
   "codemirror_mode": {
    "name": "ipython",
    "version": 3
   },
   "file_extension": ".py",
   "mimetype": "text/x-python",
   "name": "python",
   "nbconvert_exporter": "python",
   "pygments_lexer": "ipython3",
   "version": "3.9.13"
  }
 },
 "nbformat": 4,
 "nbformat_minor": 5
}
