{
 "cells": [
  {
   "cell_type": "markdown",
   "id": "4cca0577-9966-49b1-af96-68007375dd8d",
   "metadata": {},
   "source": [
    "# Accessing the project's API's"
   ]
  },
  {
   "cell_type": "markdown",
   "id": "3affec9e-6662-445c-b8cd-7f667de60a8f",
   "metadata": {},
   "source": [
    "## Inowas"
   ]
  },
  {
   "cell_type": "code",
   "execution_count": 1,
   "id": "c827b4d0-9ab9-4b47-8a13-25451fe3dd75",
   "metadata": {},
   "outputs": [],
   "source": [
    "import os\n",
    "import requests\n",
    "import json\n",
    "import pandas as pd\n",
    "import datetime\n",
    "import time"
   ]
  },
  {
   "cell_type": "code",
   "execution_count": 20,
   "id": "e82fc561-1b38-4a89-bf43-454ea8a58996",
   "metadata": {},
   "outputs": [
    {
     "data": {
      "text/html": [
       "<div>\n",
       "<style scoped>\n",
       "    .dataframe tbody tr th:only-of-type {\n",
       "        vertical-align: middle;\n",
       "    }\n",
       "\n",
       "    .dataframe tbody tr th {\n",
       "        vertical-align: top;\n",
       "    }\n",
       "\n",
       "    .dataframe thead th {\n",
       "        text-align: right;\n",
       "    }\n",
       "</style>\n",
       "<table border=\"1\" class=\"dataframe\">\n",
       "  <thead>\n",
       "    <tr style=\"text-align: right;\">\n",
       "      <th></th>\n",
       "      <th>id</th>\n",
       "      <th>location</th>\n",
       "      <th>name</th>\n",
       "      <th>parameters</th>\n",
       "      <th>project</th>\n",
       "    </tr>\n",
       "  </thead>\n",
       "  <tbody>\n",
       "    <tr>\n",
       "      <th>0</th>\n",
       "      <td>b4b39661-7033-4c04-a51a-36cb36507fc8</td>\n",
       "      <td></td>\n",
       "      <td>123</td>\n",
       "      <td>[t_intern, ec_25, ec, h_level, v_batt, t, h]</td>\n",
       "      <td>DEU1</td>\n",
       "    </tr>\n",
       "    <tr>\n",
       "      <th>1</th>\n",
       "      <td>548843f7-f354-4f59-a2e3-d51a444d42e3</td>\n",
       "      <td></td>\n",
       "      <td>124</td>\n",
       "      <td>[ec_25, h, h_level, t, t_intern, v_batt, ec]</td>\n",
       "      <td>DEU1</td>\n",
       "    </tr>\n",
       "    <tr>\n",
       "      <th>2</th>\n",
       "      <td>4ff6932b-722d-42c2-b6e2-0124dceaf934</td>\n",
       "      <td></td>\n",
       "      <td>125</td>\n",
       "      <td>[v_batt, ec, ec_25, h, h_level, t, t_intern]</td>\n",
       "      <td>DEU1</td>\n",
       "    </tr>\n",
       "    <tr>\n",
       "      <th>3</th>\n",
       "      <td>99911176-6e05-4cc6-b01d-86b33010b2bd</td>\n",
       "      <td></td>\n",
       "      <td>126</td>\n",
       "      <td>[h, h_level, t, t_intern, v_batt, ec, ec_25]</td>\n",
       "      <td>DEU1</td>\n",
       "    </tr>\n",
       "    <tr>\n",
       "      <th>4</th>\n",
       "      <td>d79989b8-bde9-4744-bc39-1de03562284c</td>\n",
       "      <td></td>\n",
       "      <td>127</td>\n",
       "      <td>[ec, v_batt, t_intern, t, h_level, h, ec_25]</td>\n",
       "      <td>DEU1</td>\n",
       "    </tr>\n",
       "    <tr>\n",
       "      <th>5</th>\n",
       "      <td>92f5a88d-e079-47c3-a983-26db8c317a5e</td>\n",
       "      <td></td>\n",
       "      <td>I-2</td>\n",
       "      <td>[ph, h_level, ldo, h, v_batt, ec, t, ec_25, t_...</td>\n",
       "      <td>DEU1</td>\n",
       "    </tr>\n",
       "    <tr>\n",
       "      <th>6</th>\n",
       "      <td>a0b8f4e7-ac0c-4a50-aec5-e96704089732</td>\n",
       "      <td></td>\n",
       "      <td>I-3</td>\n",
       "      <td>[t, ec, ec_25, h, h_level, ldo, ph, t_intern, ...</td>\n",
       "      <td>DEU1</td>\n",
       "    </tr>\n",
       "    <tr>\n",
       "      <th>7</th>\n",
       "      <td>a02ac9ac-784e-4be3-81cb-30e89541310a</td>\n",
       "      <td></td>\n",
       "      <td>I-5</td>\n",
       "      <td>[v_batt, t_intern, t, ph, ldo, h_level, h, ec_...</td>\n",
       "      <td>DEU1</td>\n",
       "    </tr>\n",
       "    <tr>\n",
       "      <th>8</th>\n",
       "      <td>2c290fe2-9518-4ce4-8359-805b0e262c78</td>\n",
       "      <td></td>\n",
       "      <td>I-6</td>\n",
       "      <td>[h, ec_25, v_batt, t_intern, t, ph, ldo, h_lev...</td>\n",
       "      <td>DEU1</td>\n",
       "    </tr>\n",
       "  </tbody>\n",
       "</table>\n",
       "</div>"
      ],
      "text/plain": [
       "                                     id location name  \\\n",
       "0  b4b39661-7033-4c04-a51a-36cb36507fc8           123   \n",
       "1  548843f7-f354-4f59-a2e3-d51a444d42e3           124   \n",
       "2  4ff6932b-722d-42c2-b6e2-0124dceaf934           125   \n",
       "3  99911176-6e05-4cc6-b01d-86b33010b2bd           126   \n",
       "4  d79989b8-bde9-4744-bc39-1de03562284c           127   \n",
       "5  92f5a88d-e079-47c3-a983-26db8c317a5e           I-2   \n",
       "6  a0b8f4e7-ac0c-4a50-aec5-e96704089732           I-3   \n",
       "7  a02ac9ac-784e-4be3-81cb-30e89541310a           I-5   \n",
       "8  2c290fe2-9518-4ce4-8359-805b0e262c78           I-6   \n",
       "\n",
       "                                          parameters project  \n",
       "0       [t_intern, ec_25, ec, h_level, v_batt, t, h]    DEU1  \n",
       "1       [ec_25, h, h_level, t, t_intern, v_batt, ec]    DEU1  \n",
       "2       [v_batt, ec, ec_25, h, h_level, t, t_intern]    DEU1  \n",
       "3       [h, h_level, t, t_intern, v_batt, ec, ec_25]    DEU1  \n",
       "4       [ec, v_batt, t_intern, t, h_level, h, ec_25]    DEU1  \n",
       "5  [ph, h_level, ldo, h, v_batt, ec, t, ec_25, t_...    DEU1  \n",
       "6  [t, ec, ec_25, h, h_level, ldo, ph, t_intern, ...    DEU1  \n",
       "7  [v_batt, t_intern, t, ph, ldo, h_level, h, ec_...    DEU1  \n",
       "8  [h, ec_25, v_batt, t_intern, t, ph, ldo, h_lev...    DEU1  "
      ]
     },
     "execution_count": 20,
     "metadata": {},
     "output_type": "execute_result"
    }
   ],
   "source": [
    "request = requests.get('https://sensors.inowas.com/list').json()\n",
    "request_index = [ i for i in request if i['project'] == 'DEU1']\n",
    "df = pd.DataFrame(request_index)\n",
    "df"
   ]
  },
  {
   "cell_type": "code",
   "execution_count": 35,
   "id": "8373ad4f-e944-4f2f-8520-60929234dd08",
   "metadata": {},
   "outputs": [
    {
     "name": "stdout",
     "output_type": "stream",
     "text": [
      "b4b39661-7033-4c04-a51a-36cb36507fc8 123\n",
      "548843f7-f354-4f59-a2e3-d51a444d42e3 124\n",
      "4ff6932b-722d-42c2-b6e2-0124dceaf934 125\n",
      "99911176-6e05-4cc6-b01d-86b33010b2bd 126\n",
      "d79989b8-bde9-4744-bc39-1de03562284c 127\n",
      "92f5a88d-e079-47c3-a983-26db8c317a5e I-2\n",
      "a0b8f4e7-ac0c-4a50-aec5-e96704089732 I-3\n",
      "a02ac9ac-784e-4be3-81cb-30e89541310a I-5\n",
      "2c290fe2-9518-4ce4-8359-805b0e262c78 I-6\n"
     ]
    }
   ],
   "source": [
    "for i in df.iterrows():\n",
    "    print(i[1]['id'], i[1]['name'])"
   ]
  },
  {
   "cell_type": "code",
   "execution_count": 11,
   "id": "92b8ea04-96d0-4388-8213-de42573b3f0e",
   "metadata": {},
   "outputs": [
    {
     "name": "stdout",
     "output_type": "stream",
     "text": [
      "0 t_intern\n",
      "1 ec_25\n",
      "2 ec\n",
      "3 h_level\n",
      "4 v_batt\n",
      "5 t\n",
      "6 h\n",
      "7 ph\n",
      "8 ldo\n"
     ]
    }
   ],
   "source": [
    "df_ = df.loc [df.project == 'DEU1']\n",
    "parameters_list = []\n",
    "for diver in df_.iterrows():\n",
    "    parameters = diver[1].parameters\n",
    "    for parameter in parameters:\n",
    "        if parameter in parameters_list: continue\n",
    "        parameters_list.append(parameter)\n",
    "for i,j in enumerate(parameters_list):\n",
    "    print(i,j)"
   ]
  },
  {
   "cell_type": "markdown",
   "id": "bf2cbee6-26d6-4580-b914-36b845a06336",
   "metadata": {},
   "source": [
    "h_level and h are the same variables"
   ]
  },
  {
   "cell_type": "code",
   "execution_count": 214,
   "id": "1ecc950f-cf47-43ca-95be-59024625c880",
   "metadata": {},
   "outputs": [
    {
     "ename": "JSONDecodeError",
     "evalue": "[Errno Expecting value] <!DOCTYPE HTML PUBLIC \"-//W3C//DTD HTML 3.2 Final//EN\">\n<title>404 Not Found</title>\n<h1>Not Found</h1>\n<p>The requested URL was not found on the server. If you entered the URL manually please check your spelling and try again.</p>\n: 0",
     "output_type": "error",
     "traceback": [
      "\u001b[1;31m---------------------------------------------------------------------------\u001b[0m",
      "\u001b[1;31mJSONDecodeError\u001b[0m                           Traceback (most recent call last)",
      "\u001b[1;32mC:\\ProgramData\\Miniconda3\\lib\\site-packages\\requests\\models.py\u001b[0m in \u001b[0;36mjson\u001b[1;34m(self, **kwargs)\u001b[0m\n\u001b[0;32m    909\u001b[0m         \u001b[1;32mtry\u001b[0m\u001b[1;33m:\u001b[0m\u001b[1;33m\u001b[0m\u001b[1;33m\u001b[0m\u001b[0m\n\u001b[1;32m--> 910\u001b[1;33m             \u001b[1;32mreturn\u001b[0m \u001b[0mcomplexjson\u001b[0m\u001b[1;33m.\u001b[0m\u001b[0mloads\u001b[0m\u001b[1;33m(\u001b[0m\u001b[0mself\u001b[0m\u001b[1;33m.\u001b[0m\u001b[0mtext\u001b[0m\u001b[1;33m,\u001b[0m \u001b[1;33m**\u001b[0m\u001b[0mkwargs\u001b[0m\u001b[1;33m)\u001b[0m\u001b[1;33m\u001b[0m\u001b[1;33m\u001b[0m\u001b[0m\n\u001b[0m\u001b[0;32m    911\u001b[0m         \u001b[1;32mexcept\u001b[0m \u001b[0mJSONDecodeError\u001b[0m \u001b[1;32mas\u001b[0m \u001b[0me\u001b[0m\u001b[1;33m:\u001b[0m\u001b[1;33m\u001b[0m\u001b[1;33m\u001b[0m\u001b[0m\n",
      "\u001b[1;32mC:\\ProgramData\\Miniconda3\\lib\\json\\__init__.py\u001b[0m in \u001b[0;36mloads\u001b[1;34m(s, cls, object_hook, parse_float, parse_int, parse_constant, object_pairs_hook, **kw)\u001b[0m\n\u001b[0;32m    345\u001b[0m             parse_constant is None and object_pairs_hook is None and not kw):\n\u001b[1;32m--> 346\u001b[1;33m         \u001b[1;32mreturn\u001b[0m \u001b[0m_default_decoder\u001b[0m\u001b[1;33m.\u001b[0m\u001b[0mdecode\u001b[0m\u001b[1;33m(\u001b[0m\u001b[0ms\u001b[0m\u001b[1;33m)\u001b[0m\u001b[1;33m\u001b[0m\u001b[1;33m\u001b[0m\u001b[0m\n\u001b[0m\u001b[0;32m    347\u001b[0m     \u001b[1;32mif\u001b[0m \u001b[0mcls\u001b[0m \u001b[1;32mis\u001b[0m \u001b[1;32mNone\u001b[0m\u001b[1;33m:\u001b[0m\u001b[1;33m\u001b[0m\u001b[1;33m\u001b[0m\u001b[0m\n",
      "\u001b[1;32mC:\\ProgramData\\Miniconda3\\lib\\json\\decoder.py\u001b[0m in \u001b[0;36mdecode\u001b[1;34m(self, s, _w)\u001b[0m\n\u001b[0;32m    336\u001b[0m         \"\"\"\n\u001b[1;32m--> 337\u001b[1;33m         \u001b[0mobj\u001b[0m\u001b[1;33m,\u001b[0m \u001b[0mend\u001b[0m \u001b[1;33m=\u001b[0m \u001b[0mself\u001b[0m\u001b[1;33m.\u001b[0m\u001b[0mraw_decode\u001b[0m\u001b[1;33m(\u001b[0m\u001b[0ms\u001b[0m\u001b[1;33m,\u001b[0m \u001b[0midx\u001b[0m\u001b[1;33m=\u001b[0m\u001b[0m_w\u001b[0m\u001b[1;33m(\u001b[0m\u001b[0ms\u001b[0m\u001b[1;33m,\u001b[0m \u001b[1;36m0\u001b[0m\u001b[1;33m)\u001b[0m\u001b[1;33m.\u001b[0m\u001b[0mend\u001b[0m\u001b[1;33m(\u001b[0m\u001b[1;33m)\u001b[0m\u001b[1;33m)\u001b[0m\u001b[1;33m\u001b[0m\u001b[1;33m\u001b[0m\u001b[0m\n\u001b[0m\u001b[0;32m    338\u001b[0m         \u001b[0mend\u001b[0m \u001b[1;33m=\u001b[0m \u001b[0m_w\u001b[0m\u001b[1;33m(\u001b[0m\u001b[0ms\u001b[0m\u001b[1;33m,\u001b[0m \u001b[0mend\u001b[0m\u001b[1;33m)\u001b[0m\u001b[1;33m.\u001b[0m\u001b[0mend\u001b[0m\u001b[1;33m(\u001b[0m\u001b[1;33m)\u001b[0m\u001b[1;33m\u001b[0m\u001b[1;33m\u001b[0m\u001b[0m\n",
      "\u001b[1;32mC:\\ProgramData\\Miniconda3\\lib\\json\\decoder.py\u001b[0m in \u001b[0;36mraw_decode\u001b[1;34m(self, s, idx)\u001b[0m\n\u001b[0;32m    354\u001b[0m         \u001b[1;32mexcept\u001b[0m \u001b[0mStopIteration\u001b[0m \u001b[1;32mas\u001b[0m \u001b[0merr\u001b[0m\u001b[1;33m:\u001b[0m\u001b[1;33m\u001b[0m\u001b[1;33m\u001b[0m\u001b[0m\n\u001b[1;32m--> 355\u001b[1;33m             \u001b[1;32mraise\u001b[0m \u001b[0mJSONDecodeError\u001b[0m\u001b[1;33m(\u001b[0m\u001b[1;34m\"Expecting value\"\u001b[0m\u001b[1;33m,\u001b[0m \u001b[0ms\u001b[0m\u001b[1;33m,\u001b[0m \u001b[0merr\u001b[0m\u001b[1;33m.\u001b[0m\u001b[0mvalue\u001b[0m\u001b[1;33m)\u001b[0m \u001b[1;32mfrom\u001b[0m \u001b[1;32mNone\u001b[0m\u001b[1;33m\u001b[0m\u001b[1;33m\u001b[0m\u001b[0m\n\u001b[0m\u001b[0;32m    356\u001b[0m         \u001b[1;32mreturn\u001b[0m \u001b[0mobj\u001b[0m\u001b[1;33m,\u001b[0m \u001b[0mend\u001b[0m\u001b[1;33m\u001b[0m\u001b[1;33m\u001b[0m\u001b[0m\n",
      "\u001b[1;31mJSONDecodeError\u001b[0m: Expecting value: line 1 column 1 (char 0)",
      "\nDuring handling of the above exception, another exception occurred:\n",
      "\u001b[1;31mJSONDecodeError\u001b[0m                           Traceback (most recent call last)",
      "\u001b[1;32m~\\AppData\\Local\\Temp\\ipykernel_18284\\3432841199.py\u001b[0m in \u001b[0;36m<module>\u001b[1;34m\u001b[0m\n\u001b[0;32m      1\u001b[0m \u001b[0mURL\u001b[0m \u001b[1;33m=\u001b[0m \u001b[1;34m'https://sensors.inowas.com/sensors/project/DEU1/sensor/I-6/parameters/h&ec'\u001b[0m\u001b[1;33m\u001b[0m\u001b[1;33m\u001b[0m\u001b[0m\n\u001b[1;32m----> 2\u001b[1;33m \u001b[0mrequest\u001b[0m \u001b[1;33m=\u001b[0m \u001b[0mrequests\u001b[0m\u001b[1;33m.\u001b[0m\u001b[0mget\u001b[0m\u001b[1;33m(\u001b[0m\u001b[0mURL\u001b[0m\u001b[1;33m)\u001b[0m\u001b[1;33m.\u001b[0m\u001b[0mjson\u001b[0m\u001b[1;33m(\u001b[0m\u001b[1;33m)\u001b[0m\u001b[1;33m\u001b[0m\u001b[1;33m\u001b[0m\u001b[0m\n\u001b[0m",
      "\u001b[1;32mC:\\ProgramData\\Miniconda3\\lib\\site-packages\\requests\\models.py\u001b[0m in \u001b[0;36mjson\u001b[1;34m(self, **kwargs)\u001b[0m\n\u001b[0;32m    915\u001b[0m                 \u001b[1;32mraise\u001b[0m \u001b[0mRequestsJSONDecodeError\u001b[0m\u001b[1;33m(\u001b[0m\u001b[0me\u001b[0m\u001b[1;33m.\u001b[0m\u001b[0mmessage\u001b[0m\u001b[1;33m)\u001b[0m\u001b[1;33m\u001b[0m\u001b[1;33m\u001b[0m\u001b[0m\n\u001b[0;32m    916\u001b[0m             \u001b[1;32melse\u001b[0m\u001b[1;33m:\u001b[0m\u001b[1;33m\u001b[0m\u001b[1;33m\u001b[0m\u001b[0m\n\u001b[1;32m--> 917\u001b[1;33m                 \u001b[1;32mraise\u001b[0m \u001b[0mRequestsJSONDecodeError\u001b[0m\u001b[1;33m(\u001b[0m\u001b[0me\u001b[0m\u001b[1;33m.\u001b[0m\u001b[0mmsg\u001b[0m\u001b[1;33m,\u001b[0m \u001b[0me\u001b[0m\u001b[1;33m.\u001b[0m\u001b[0mdoc\u001b[0m\u001b[1;33m,\u001b[0m \u001b[0me\u001b[0m\u001b[1;33m.\u001b[0m\u001b[0mpos\u001b[0m\u001b[1;33m)\u001b[0m\u001b[1;33m\u001b[0m\u001b[1;33m\u001b[0m\u001b[0m\n\u001b[0m\u001b[0;32m    918\u001b[0m \u001b[1;33m\u001b[0m\u001b[0m\n\u001b[0;32m    919\u001b[0m     \u001b[1;33m@\u001b[0m\u001b[0mproperty\u001b[0m\u001b[1;33m\u001b[0m\u001b[1;33m\u001b[0m\u001b[0m\n",
      "\u001b[1;31mJSONDecodeError\u001b[0m: [Errno Expecting value] <!DOCTYPE HTML PUBLIC \"-//W3C//DTD HTML 3.2 Final//EN\">\n<title>404 Not Found</title>\n<h1>Not Found</h1>\n<p>The requested URL was not found on the server. If you entered the URL manually please check your spelling and try again.</p>\n: 0"
     ]
    }
   ],
   "source": [
    "URL = 'https://sensors.inowas.com/sensors/project/DEU1/sensor/I-6/parameters/h&ec'\n",
    "request = requests.get(URL).json()"
   ]
  },
  {
   "cell_type": "code",
   "execution_count": 205,
   "id": "e00cbc27-72f0-4e93-a71c-bde1b160d762",
   "metadata": {},
   "outputs": [
    {
     "data": {
      "text/html": [
       "<div>\n",
       "<style scoped>\n",
       "    .dataframe tbody tr th:only-of-type {\n",
       "        vertical-align: middle;\n",
       "    }\n",
       "\n",
       "    .dataframe tbody tr th {\n",
       "        vertical-align: top;\n",
       "    }\n",
       "\n",
       "    .dataframe thead th {\n",
       "        text-align: right;\n",
       "    }\n",
       "</style>\n",
       "<table border=\"1\" class=\"dataframe\">\n",
       "  <thead>\n",
       "    <tr style=\"text-align: right;\">\n",
       "      <th></th>\n",
       "    </tr>\n",
       "  </thead>\n",
       "  <tbody>\n",
       "  </tbody>\n",
       "</table>\n",
       "</div>"
      ],
      "text/plain": [
       "Empty DataFrame\n",
       "Columns: []\n",
       "Index: []"
      ]
     },
     "execution_count": 205,
     "metadata": {},
     "output_type": "execute_result"
    }
   ],
   "source": [
    "df = pd.DataFrame(request)\n",
    "df.head()"
   ]
  },
  {
   "cell_type": "code",
   "execution_count": 160,
   "id": "2ee662a3-67fa-4f7c-a908-4a98e945ef0d",
   "metadata": {},
   "outputs": [
    {
     "name": "stdout",
     "output_type": "stream",
     "text": [
      "2021-07-26 21:20:00 1627327200.0 2021-07-26 21:20:00\n"
     ]
    }
   ],
   "source": [
    "date_time = datetime.datetime(2021, 7, 26, 21, 20)\n",
    "\n",
    "ts = time.mktime(date_time.timetuple())\n",
    "\n",
    "date_time2 = datetime.datetime.fromtimestamp(ts) \n",
    "\n",
    "print(date_time, ts, date_time2)"
   ]
  },
  {
   "cell_type": "code",
   "execution_count": 192,
   "id": "85248378-c1eb-4f9b-804c-c195f5910e49",
   "metadata": {},
   "outputs": [
    {
     "data": {
      "text/plain": [
       "[]"
      ]
     },
     "execution_count": 192,
     "metadata": {},
     "output_type": "execute_result"
    }
   ],
   "source": [
    "request"
   ]
  },
  {
   "cell_type": "code",
   "execution_count": 174,
   "id": "d13e67d5-5c6c-45e0-b502-9db7c375becd",
   "metadata": {},
   "outputs": [
    {
     "data": {
      "text/plain": [
       "1664575200"
      ]
     },
     "execution_count": 174,
     "metadata": {},
     "output_type": "execute_result"
    }
   ],
   "source": [
    "edu"
   ]
  },
  {
   "cell_type": "code",
   "execution_count": null,
   "id": "332a5a5c-9dd7-4adc-92b7-71a954e15c63",
   "metadata": {},
   "outputs": [
    {
     "data": {
      "text/plain": [
       "'https://sensors.inowas.com/sensors/project/DEU1/sensor/I-6/parameter/ec?timeResolution=1D&dateFormat=iso&start=1609455600&end=edu&gt=-100.0'"
      ]
     },
     "execution_count": 195,
     "metadata": {},
     "output_type": "execute_result"
    }
   ],
   "source": [
    "UR"
   ]
  },
  {
   "cell_type": "code",
   "execution_count": 216,
   "id": "09b75c04-44ac-4ffb-ad5d-04a481f0c75e",
   "metadata": {},
   "outputs": [
    {
     "data": {
      "text/plain": [
       "<AxesSubplot: xlabel='date_time'>"
      ]
     },
     "execution_count": 216,
     "metadata": {},
     "output_type": "execute_result"
    },
    {
     "data": {
      "image/png": "[encoded data removed]",
      "text/plain": [
       "<Figure size 640x480 with 1 Axes>"
      ]
     },
     "metadata": {},
     "output_type": "display_data"
    }
   ],
   "source": [
    "sd = datetime.datetime(2021, 1, 1)\n",
    "ed = datetime.datetime(2021, 12, 31)\n",
    "stu =  int(time.mktime(sd.timetuple()))\n",
    "edu =  int(time.mktime(ed.timetuple()))\n",
    "\n",
    "parameter, sensor ='h', 'I-6'\n",
    "\n",
    "URL = f'https://sensors.inowas.com/sensors/project/DEU1/sensor/{sensor}/parameter/{parameter}?timeResolution=RAW&dateFormat=iso&start={stu}&end={edu}&gt=-100.0'\n",
    "\n",
    "\n",
    "request = requests.get(URL).json()\n",
    "\n",
    "df = pd.DataFrame(request)\n",
    "df['date_time'] = pd.to_datetime(df.date_time)\n",
    "df.plot(x = 'date_time', y = 'value')"
   ]
  },
  {
   "cell_type": "markdown",
   "id": "e940271d-0376-42be-8534-441c892bb7ec",
   "metadata": {},
   "source": [
    "### Is there a way?\n",
    "\n",
    "1. Make a request for all of the sensors for a specific parameter? (Map)\n",
    "2. Make a request for all of the parameters and a unique sensor? (TimeSeries context)"
   ]
  },
  {
   "cell_type": "markdown",
   "id": "74ced548-ae6a-46ed-a9a0-6324febab3c5",
   "metadata": {},
   "source": [
    "## Environmental company"
   ]
  }
 ],
 "metadata": {
  "kernelspec": {
   "display_name": "Python 3 (ipykernel)",
   "language": "python",
   "name": "python3"
  },
  "language_info": {
   "codemirror_mode": {
    "name": "ipython",
    "version": 3
   },
   "file_extension": ".py",
   "mimetype": "text/x-python",
   "name": "python",
   "nbconvert_exporter": "python",
   "pygments_lexer": "ipython3",
   "version": "3.9.13"
  }
 },
 "nbformat": 4,
 "nbformat_minor": 5
}
