{
 "cells": [
  {
   "cell_type": "markdown",
   "id": "4cca0577-9966-49b1-af96-68007375dd8d",
   "metadata": {},
   "source": [
    "# Accessing the project's API's"
   ]
  },
  {
   "cell_type": "markdown",
   "id": "3affec9e-6662-445c-b8cd-7f667de60a8f",
   "metadata": {},
   "source": [
    "## Inowas"
   ]
  },
  {
   "cell_type": "code",
   "execution_count": 1,
   "id": "c827b4d0-9ab9-4b47-8a13-25451fe3dd75",
   "metadata": {},
   "outputs": [],
   "source": [
    "import os\n",
    "import requests\n",
    "import json\n",
    "import pandas as pd\n",
    "import datetime\n",
    "import time\n",
    "import matplotlib.pyplot as plt"
   ]
  },
  {
   "cell_type": "code",
   "execution_count": 2,
   "id": "e82fc561-1b38-4a89-bf43-454ea8a58996",
   "metadata": {},
   "outputs": [
    {
     "data": {
      "text/html": [
       "<div>\n",
       "<style scoped>\n",
       "    .dataframe tbody tr th:only-of-type {\n",
       "        vertical-align: middle;\n",
       "    }\n",
       "\n",
       "    .dataframe tbody tr th {\n",
       "        vertical-align: top;\n",
       "    }\n",
       "\n",
       "    .dataframe thead th {\n",
       "        text-align: right;\n",
       "    }\n",
       "</style>\n",
       "<table border=\"1\" class=\"dataframe\">\n",
       "  <thead>\n",
       "    <tr style=\"text-align: right;\">\n",
       "      <th></th>\n",
       "      <th>id</th>\n",
       "      <th>location</th>\n",
       "      <th>name</th>\n",
       "      <th>parameters</th>\n",
       "      <th>project</th>\n",
       "    </tr>\n",
       "  </thead>\n",
       "  <tbody>\n",
       "    <tr>\n",
       "      <th>0</th>\n",
       "      <td>b4b39661-7033-4c04-a51a-36cb36507fc8</td>\n",
       "      <td></td>\n",
       "      <td>123</td>\n",
       "      <td>[t_intern, ec_25, ec, h_level, v_batt, t, h]</td>\n",
       "      <td>DEU1</td>\n",
       "    </tr>\n",
       "    <tr>\n",
       "      <th>1</th>\n",
       "      <td>548843f7-f354-4f59-a2e3-d51a444d42e3</td>\n",
       "      <td></td>\n",
       "      <td>124</td>\n",
       "      <td>[ec_25, h, h_level, t, t_intern, v_batt, ec]</td>\n",
       "      <td>DEU1</td>\n",
       "    </tr>\n",
       "    <tr>\n",
       "      <th>2</th>\n",
       "      <td>4ff6932b-722d-42c2-b6e2-0124dceaf934</td>\n",
       "      <td></td>\n",
       "      <td>125</td>\n",
       "      <td>[v_batt, ec, ec_25, h, h_level, t, t_intern]</td>\n",
       "      <td>DEU1</td>\n",
       "    </tr>\n",
       "    <tr>\n",
       "      <th>3</th>\n",
       "      <td>99911176-6e05-4cc6-b01d-86b33010b2bd</td>\n",
       "      <td></td>\n",
       "      <td>126</td>\n",
       "      <td>[h, h_level, t, t_intern, v_batt, ec, ec_25]</td>\n",
       "      <td>DEU1</td>\n",
       "    </tr>\n",
       "    <tr>\n",
       "      <th>4</th>\n",
       "      <td>d79989b8-bde9-4744-bc39-1de03562284c</td>\n",
       "      <td></td>\n",
       "      <td>127</td>\n",
       "      <td>[ec, v_batt, t_intern, t, h_level, h, ec_25]</td>\n",
       "      <td>DEU1</td>\n",
       "    </tr>\n",
       "    <tr>\n",
       "      <th>5</th>\n",
       "      <td>92f5a88d-e079-47c3-a983-26db8c317a5e</td>\n",
       "      <td></td>\n",
       "      <td>I-2</td>\n",
       "      <td>[ph, h_level, ldo, h, v_batt, ec, t, ec_25, t_...</td>\n",
       "      <td>DEU1</td>\n",
       "    </tr>\n",
       "    <tr>\n",
       "      <th>6</th>\n",
       "      <td>a0b8f4e7-ac0c-4a50-aec5-e96704089732</td>\n",
       "      <td></td>\n",
       "      <td>I-3</td>\n",
       "      <td>[t, ec, ec_25, h, h_level, ldo, ph, t_intern, ...</td>\n",
       "      <td>DEU1</td>\n",
       "    </tr>\n",
       "    <tr>\n",
       "      <th>7</th>\n",
       "      <td>a02ac9ac-784e-4be3-81cb-30e89541310a</td>\n",
       "      <td></td>\n",
       "      <td>I-5</td>\n",
       "      <td>[v_batt, t_intern, t, ph, ldo, h_level, h, ec_...</td>\n",
       "      <td>DEU1</td>\n",
       "    </tr>\n",
       "    <tr>\n",
       "      <th>8</th>\n",
       "      <td>2c290fe2-9518-4ce4-8359-805b0e262c78</td>\n",
       "      <td></td>\n",
       "      <td>I-6</td>\n",
       "      <td>[h, ec_25, v_batt, t_intern, t, ph, ldo, h_lev...</td>\n",
       "      <td>DEU1</td>\n",
       "    </tr>\n",
       "  </tbody>\n",
       "</table>\n",
       "</div>"
      ],
      "text/plain": [
       "                                     id location name  \\\n",
       "0  b4b39661-7033-4c04-a51a-36cb36507fc8           123   \n",
       "1  548843f7-f354-4f59-a2e3-d51a444d42e3           124   \n",
       "2  4ff6932b-722d-42c2-b6e2-0124dceaf934           125   \n",
       "3  99911176-6e05-4cc6-b01d-86b33010b2bd           126   \n",
       "4  d79989b8-bde9-4744-bc39-1de03562284c           127   \n",
       "5  92f5a88d-e079-47c3-a983-26db8c317a5e           I-2   \n",
       "6  a0b8f4e7-ac0c-4a50-aec5-e96704089732           I-3   \n",
       "7  a02ac9ac-784e-4be3-81cb-30e89541310a           I-5   \n",
       "8  2c290fe2-9518-4ce4-8359-805b0e262c78           I-6   \n",
       "\n",
       "                                          parameters project  \n",
       "0       [t_intern, ec_25, ec, h_level, v_batt, t, h]    DEU1  \n",
       "1       [ec_25, h, h_level, t, t_intern, v_batt, ec]    DEU1  \n",
       "2       [v_batt, ec, ec_25, h, h_level, t, t_intern]    DEU1  \n",
       "3       [h, h_level, t, t_intern, v_batt, ec, ec_25]    DEU1  \n",
       "4       [ec, v_batt, t_intern, t, h_level, h, ec_25]    DEU1  \n",
       "5  [ph, h_level, ldo, h, v_batt, ec, t, ec_25, t_...    DEU1  \n",
       "6  [t, ec, ec_25, h, h_level, ldo, ph, t_intern, ...    DEU1  \n",
       "7  [v_batt, t_intern, t, ph, ldo, h_level, h, ec_...    DEU1  \n",
       "8  [h, ec_25, v_batt, t_intern, t, ph, ldo, h_lev...    DEU1  "
      ]
     },
     "execution_count": 2,
     "metadata": {},
     "output_type": "execute_result"
    }
   ],
   "source": [
    "request = requests.get('https://sensors.inowas.com/list').json()\n",
    "request_index = [ i for i in request if i['project'] == 'DEU1']\n",
    "df = pd.DataFrame(request_index)\n",
    "df"
   ]
  },
  {
   "cell_type": "code",
   "execution_count": 35,
   "id": "8373ad4f-e944-4f2f-8520-60929234dd08",
   "metadata": {},
   "outputs": [
    {
     "name": "stdout",
     "output_type": "stream",
     "text": [
      "b4b39661-7033-4c04-a51a-36cb36507fc8 123\n",
      "548843f7-f354-4f59-a2e3-d51a444d42e3 124\n",
      "4ff6932b-722d-42c2-b6e2-0124dceaf934 125\n",
      "99911176-6e05-4cc6-b01d-86b33010b2bd 126\n",
      "d79989b8-bde9-4744-bc39-1de03562284c 127\n",
      "92f5a88d-e079-47c3-a983-26db8c317a5e I-2\n",
      "a0b8f4e7-ac0c-4a50-aec5-e96704089732 I-3\n",
      "a02ac9ac-784e-4be3-81cb-30e89541310a I-5\n",
      "2c290fe2-9518-4ce4-8359-805b0e262c78 I-6\n"
     ]
    }
   ],
   "source": [
    "for i in df.iterrows():\n",
    "    print(i[1]['id'], i[1]['name'])"
   ]
  },
  {
   "cell_type": "code",
   "execution_count": 11,
   "id": "92b8ea04-96d0-4388-8213-de42573b3f0e",
   "metadata": {},
   "outputs": [
    {
     "name": "stdout",
     "output_type": "stream",
     "text": [
      "0 t_intern\n",
      "1 ec_25\n",
      "2 ec\n",
      "3 h_level\n",
      "4 v_batt\n",
      "5 t\n",
      "6 h\n",
      "7 ph\n",
      "8 ldo\n"
     ]
    }
   ],
   "source": [
    "df_ = df.loc [df.project == 'DEU1']\n",
    "parameters_list = []\n",
    "for diver in df_.iterrows():\n",
    "    parameters = diver[1].parameters\n",
    "    for parameter in parameters:\n",
    "        if parameter in parameters_list: continue\n",
    "        parameters_list.append(parameter)\n",
    "for i,j in enumerate(parameters_list):\n",
    "    print(i,j)"
   ]
  },
  {
   "cell_type": "markdown",
   "id": "bf2cbee6-26d6-4580-b914-36b845a06336",
   "metadata": {},
   "source": [
    "h_level and h are the same variables"
   ]
  },
  {
   "cell_type": "markdown",
   "id": "b882fd83-f44f-4b42-9439-b3e0fece9669",
   "metadata": {},
   "source": [
    "## New API"
   ]
  },
  {
   "cell_type": "markdown",
   "id": "adb3ab59-ea0b-4b4d-8b4f-1b08fc7d9791",
   "metadata": {},
   "source": [
    "```python\n",
    "[11:06 PM, 23/11/2022] Ralf Junghanns INOWAS 🇩🇪: https://sensors.inowas.com/sensors/project/DEU1/latest\n",
    "[11:15 PM, 23/11/2022] Ralf Junghanns INOWAS 🇩🇪: https://sensors.inowas.com/sensors/project/DEU1/latest?since=1669065118\n",
    "[11:15 PM, 23/11/2022] Ralf Junghanns INOWAS 🇩🇪: con timestamp\n",
    "```"
   ]
  },
  {
   "cell_type": "code",
   "execution_count": 2,
   "id": "3b2f64cf-282a-4784-9444-bd23f471a82a",
   "metadata": {},
   "outputs": [],
   "source": [
    "import requests"
   ]
  },
  {
   "cell_type": "code",
   "execution_count": 3,
   "id": "1ecc950f-cf47-43ca-95be-59024625c880",
   "metadata": {},
   "outputs": [],
   "source": [
    "URL = 'https://sensors.inowas.com/sensors/project/DEU1/latest'\n",
    "request = requests.get(URL).json()"
   ]
  },
  {
   "cell_type": "code",
   "execution_count": 2,
   "id": "912f2870-a113-4d7d-a4ae-aee62abe38a0",
   "metadata": {},
   "outputs": [],
   "source": [
    "URL = 'https://sensors.inowas.com/sensors/project/DEU1/latest?since=1669065118'\n",
    "r = requests.get(URL).json()"
   ]
  },
  {
   "cell_type": "code",
   "execution_count": 3,
   "id": "cd033405-321a-4663-b7e9-b6a9838b45aa",
   "metadata": {},
   "outputs": [
    {
     "data": {
      "text/plain": [
       "2359"
      ]
     },
     "execution_count": 3,
     "metadata": {},
     "output_type": "execute_result"
    }
   ],
   "source": [
    "len(r)"
   ]
  },
  {
   "cell_type": "code",
   "execution_count": 5,
   "id": "1a98c448-55f1-4aa2-bb5f-9f9355e09cd5",
   "metadata": {},
   "outputs": [
    {
     "name": "stdout",
     "output_type": "stream",
     "text": [
      "project_name DEU1\n",
      "sensor_name I-5\n",
      "parameter_name t\n",
      "timestamp 1669068000.0\n",
      "value 12.64\n"
     ]
    }
   ],
   "source": [
    "for i,j in r[1].items():\n",
    "    print(i,j)\n",
    "    "
   ]
  },
  {
   "cell_type": "code",
   "execution_count": 6,
   "id": "7bda1434-d88d-48dc-952a-ce7385560f91",
   "metadata": {},
   "outputs": [],
   "source": [
    "import datetime, time\n",
    "import pandas as pd"
   ]
  },
  {
   "cell_type": "code",
   "execution_count": 32,
   "id": "2ee662a3-67fa-4f7c-a908-4a98e945ef0d",
   "metadata": {},
   "outputs": [
    {
     "name": "stdout",
     "output_type": "stream",
     "text": [
      "2021-11-21 11:58:00 1637492280.0 2022-11-21 22:11:58\n"
     ]
    }
   ],
   "source": [
    "date_time = datetime.datetime(2021, 7, 26, 21, 20)\n",
    "\n",
    "ts = time.mktime(date_time.timetuple())\n",
    "date_time = datetime.datetime(2021, 11, 21, 11, 58)\n",
    "ts = time.mktime(date_time.timetuple())\n",
    "\n",
    "\n",
    "date_time2 = datetime.datetime.fromtimestamp(1669065118) \n",
    "\n",
    "print(date_time, ts, date_time2)"
   ]
  },
  {
   "cell_type": "code",
   "execution_count": 84,
   "id": "85248378-c1eb-4f9b-804c-c195f5910e49",
   "metadata": {
    "scrolled": true,
    "tags": []
   },
   "outputs": [
    {
     "data": {
      "image/png": "[encoded data removed]",
      "text/plain": [
       "<Figure size 640x480 with 1 Axes>"
      ]
     },
     "metadata": {},
     "output_type": "display_data"
    },
    {
     "name": "stdout",
     "output_type": "stream",
     "text": [
      "Wall time: 17.1 s\n"
     ]
    }
   ],
   "source": [
    "%%time\n",
    "date_time = datetime.datetime(2021, 11, 21, 11, 58)\n",
    "ts = time.mktime(date_time.timetuple())\n",
    "URL = f'https://sensors.inowas.com/sensors/project/DEU1/latest?since={int(ts)}'\n",
    "request = requests.get(URL).json()\n",
    "\n",
    "fig = plt.subplots()\n",
    "df = pd.DataFrame(request)\n",
    "df.insert(1, 'Date', pd.to_datetime(df['timestamp'], unit='s'))\n",
    "plt.scatter('Date', 'value', data = df[(df.parameter_name == 'h') > (df.value < -99 )])\n",
    "plt.xticks(rotation = 45)\n",
    "plt.title(f'Head for the query {date_time}')\n",
    "plt.legend()\n",
    "plt.savefig('test-api.jpeg')\n",
    "plt.show()\n"
   ]
  },
  {
   "cell_type": "code",
   "execution_count": 85,
   "id": "173be555-e2c4-45eb-9ac0-a870c10a4eeb",
   "metadata": {},
   "outputs": [
    {
     "data": {
      "image/png": "[encoded data removed]",
      "text/plain": [
       "<Figure size 640x480 with 1 Axes>"
      ]
     },
     "metadata": {},
     "output_type": "display_data"
    },
    {
     "name": "stdout",
     "output_type": "stream",
     "text": [
      "Wall time: 16.4 s\n"
     ]
    }
   ],
   "source": [
    "%%time\n",
    "date_time = datetime.datetime(2021, 10, 1, 5, 0)\n",
    "ts = time.mktime(date_time.timetuple())\n",
    "URL = f'https://sensors.inowas.com/sensors/project/DEU1/latest?since={int(ts)}'\n",
    "request = requests.get(URL).json()\n",
    "\n",
    "fig = plt.subplots()\n",
    "df = pd.DataFrame(request)\n",
    "df.insert(1, 'Date', pd.to_datetime(df['timestamp'], unit='s'))\n",
    "plt.scatter('Date', 'value', data = df[(df.parameter_name == 'h') > (df.value < -99 )])\n",
    "plt.xticks(rotation = 45)\n",
    "plt.title(f'Head for the query {date_time}, {URL}')\n",
    "plt.legend()\n",
    "plt.savefig('test-api.jpeg')\n",
    "plt.show()\n"
   ]
  },
  {
   "cell_type": "code",
   "execution_count": 104,
   "id": "5171471f-79da-4172-ae46-2eb071509461",
   "metadata": {},
   "outputs": [
    {
     "data": {
      "image/png": "[encoded data removed]",
      "text/plain": [
       "<Figure size 1500x1500 with 1 Axes>"
      ]
     },
     "metadata": {},
     "output_type": "display_data"
    }
   ],
   "source": [
    "# fig = plt.subplots()\n",
    "fig = plt.figure(figsize = (15,15))\n",
    "df = pd.DataFrame(request)\n",
    "df = df [ df.sensor_name == 'I-2']\n",
    "df.insert(1, 'Date', pd.to_datetime(df['timestamp'], unit='s'))\n",
    "plt.scatter('Date', 'value', data = df[(df.parameter_name == 'h') > (df.value < -99 )])\n",
    "plt.xticks(rotation = 45)\n",
    "plt.title(f'Head for the query {date_time}, {URL}')\n",
    "plt.legend()\n",
    "plt.savefig('test-api.jpeg')\n",
    "plt.show()"
   ]
  },
  {
   "cell_type": "code",
   "execution_count": 91,
   "id": "09baf154-5201-4040-b516-79046ddbe45f",
   "metadata": {},
   "outputs": [
    {
     "data": {
      "text/html": [
       "<div>\n",
       "<style scoped>\n",
       "    .dataframe tbody tr th:only-of-type {\n",
       "        vertical-align: middle;\n",
       "    }\n",
       "\n",
       "    .dataframe tbody tr th {\n",
       "        vertical-align: top;\n",
       "    }\n",
       "\n",
       "    .dataframe thead th {\n",
       "        text-align: right;\n",
       "    }\n",
       "</style>\n",
       "<table border=\"1\" class=\"dataframe\">\n",
       "  <thead>\n",
       "    <tr style=\"text-align: right;\">\n",
       "      <th></th>\n",
       "      <th></th>\n",
       "      <th>value</th>\n",
       "    </tr>\n",
       "    <tr>\n",
       "      <th>parameter_name</th>\n",
       "      <th>sensor_name</th>\n",
       "      <th></th>\n",
       "    </tr>\n",
       "  </thead>\n",
       "  <tbody>\n",
       "    <tr>\n",
       "      <th rowspan=\"7\" valign=\"top\">ec</th>\n",
       "      <th>123</th>\n",
       "      <td>21.643</td>\n",
       "    </tr>\n",
       "    <tr>\n",
       "      <th>124</th>\n",
       "      <td>100.223</td>\n",
       "    </tr>\n",
       "    <tr>\n",
       "      <th>126</th>\n",
       "      <td>11.635</td>\n",
       "    </tr>\n",
       "    <tr>\n",
       "      <th>127</th>\n",
       "      <td>288.567</td>\n",
       "    </tr>\n",
       "    <tr>\n",
       "      <th>I-2</th>\n",
       "      <td>268.122</td>\n",
       "    </tr>\n",
       "    <tr>\n",
       "      <th>I-3</th>\n",
       "      <td>36.451</td>\n",
       "    </tr>\n",
       "    <tr>\n",
       "      <th>I-5</th>\n",
       "      <td>251.477</td>\n",
       "    </tr>\n",
       "    <tr>\n",
       "      <th rowspan=\"7\" valign=\"top\">ec_25</th>\n",
       "      <th>123</th>\n",
       "      <td>29.493</td>\n",
       "    </tr>\n",
       "    <tr>\n",
       "      <th>124</th>\n",
       "      <td>138.944</td>\n",
       "    </tr>\n",
       "    <tr>\n",
       "      <th>126</th>\n",
       "      <td>16.091</td>\n",
       "    </tr>\n",
       "    <tr>\n",
       "      <th>127</th>\n",
       "      <td>397.833</td>\n",
       "    </tr>\n",
       "    <tr>\n",
       "      <th>I-2</th>\n",
       "      <td>364.216</td>\n",
       "    </tr>\n",
       "    <tr>\n",
       "      <th>I-3</th>\n",
       "      <td>50.059</td>\n",
       "    </tr>\n",
       "    <tr>\n",
       "      <th>I-5</th>\n",
       "      <td>345.875</td>\n",
       "    </tr>\n",
       "    <tr>\n",
       "      <th rowspan=\"7\" valign=\"top\">h</th>\n",
       "      <th>123</th>\n",
       "      <td>46.756</td>\n",
       "    </tr>\n",
       "    <tr>\n",
       "      <th>124</th>\n",
       "      <td>199.135</td>\n",
       "    </tr>\n",
       "    <tr>\n",
       "      <th>126</th>\n",
       "      <td>36.873</td>\n",
       "    </tr>\n",
       "    <tr>\n",
       "      <th>127</th>\n",
       "      <td>1579.928</td>\n",
       "    </tr>\n",
       "    <tr>\n",
       "      <th>I-2</th>\n",
       "      <td>2474.070</td>\n",
       "    </tr>\n",
       "    <tr>\n",
       "      <th>I-3</th>\n",
       "      <td>2450.920</td>\n",
       "    </tr>\n",
       "    <tr>\n",
       "      <th>I-5</th>\n",
       "      <td>2632.110</td>\n",
       "    </tr>\n",
       "    <tr>\n",
       "      <th rowspan=\"7\" valign=\"top\">h_level</th>\n",
       "      <th>123</th>\n",
       "      <td>46.756</td>\n",
       "    </tr>\n",
       "    <tr>\n",
       "      <th>124</th>\n",
       "      <td>199.135</td>\n",
       "    </tr>\n",
       "    <tr>\n",
       "      <th>126</th>\n",
       "      <td>36.873</td>\n",
       "    </tr>\n",
       "    <tr>\n",
       "      <th>127</th>\n",
       "      <td>1579.928</td>\n",
       "    </tr>\n",
       "    <tr>\n",
       "      <th>I-2</th>\n",
       "      <td>2474.070</td>\n",
       "    </tr>\n",
       "    <tr>\n",
       "      <th>I-3</th>\n",
       "      <td>2450.920</td>\n",
       "    </tr>\n",
       "    <tr>\n",
       "      <th>I-5</th>\n",
       "      <td>2632.110</td>\n",
       "    </tr>\n",
       "    <tr>\n",
       "      <th rowspan=\"3\" valign=\"top\">ldo</th>\n",
       "      <th>I-2</th>\n",
       "      <td>1423.772</td>\n",
       "    </tr>\n",
       "    <tr>\n",
       "      <th>I-3</th>\n",
       "      <td>1116.395</td>\n",
       "    </tr>\n",
       "    <tr>\n",
       "      <th>I-5</th>\n",
       "      <td>1328.826</td>\n",
       "    </tr>\n",
       "    <tr>\n",
       "      <th rowspan=\"3\" valign=\"top\">ph</th>\n",
       "      <th>I-2</th>\n",
       "      <td>4951.940</td>\n",
       "    </tr>\n",
       "    <tr>\n",
       "      <th>I-3</th>\n",
       "      <td>4492.460</td>\n",
       "    </tr>\n",
       "    <tr>\n",
       "      <th>I-5</th>\n",
       "      <td>4078.670</td>\n",
       "    </tr>\n",
       "    <tr>\n",
       "      <th rowspan=\"7\" valign=\"top\">t</th>\n",
       "      <th>123</th>\n",
       "      <td>3337.970</td>\n",
       "    </tr>\n",
       "    <tr>\n",
       "      <th>124</th>\n",
       "      <td>5619.600</td>\n",
       "    </tr>\n",
       "    <tr>\n",
       "      <th>126</th>\n",
       "      <td>310.450</td>\n",
       "    </tr>\n",
       "    <tr>\n",
       "      <th>127</th>\n",
       "      <td>8245.490</td>\n",
       "    </tr>\n",
       "    <tr>\n",
       "      <th>I-2</th>\n",
       "      <td>8051.560</td>\n",
       "    </tr>\n",
       "    <tr>\n",
       "      <th>I-3</th>\n",
       "      <td>8043.350</td>\n",
       "    </tr>\n",
       "    <tr>\n",
       "      <th>I-5</th>\n",
       "      <td>7615.800</td>\n",
       "    </tr>\n",
       "    <tr>\n",
       "      <th rowspan=\"7\" valign=\"top\">t_intern</th>\n",
       "      <th>123</th>\n",
       "      <td>2726.120</td>\n",
       "    </tr>\n",
       "    <tr>\n",
       "      <th>124</th>\n",
       "      <td>3466.830</td>\n",
       "    </tr>\n",
       "    <tr>\n",
       "      <th>126</th>\n",
       "      <td>8854.190</td>\n",
       "    </tr>\n",
       "    <tr>\n",
       "      <th>127</th>\n",
       "      <td>6043.180</td>\n",
       "    </tr>\n",
       "    <tr>\n",
       "      <th>I-2</th>\n",
       "      <td>3130.500</td>\n",
       "    </tr>\n",
       "    <tr>\n",
       "      <th>I-3</th>\n",
       "      <td>3675.230</td>\n",
       "    </tr>\n",
       "    <tr>\n",
       "      <th>I-5</th>\n",
       "      <td>6191.770</td>\n",
       "    </tr>\n",
       "    <tr>\n",
       "      <th rowspan=\"7\" valign=\"top\">v_batt</th>\n",
       "      <th>123</th>\n",
       "      <td>1062.270</td>\n",
       "    </tr>\n",
       "    <tr>\n",
       "      <th>124</th>\n",
       "      <td>2437.970</td>\n",
       "    </tr>\n",
       "    <tr>\n",
       "      <th>126</th>\n",
       "      <td>3743.810</td>\n",
       "    </tr>\n",
       "    <tr>\n",
       "      <th>127</th>\n",
       "      <td>3592.870</td>\n",
       "    </tr>\n",
       "    <tr>\n",
       "      <th>I-2</th>\n",
       "      <td>3626.200</td>\n",
       "    </tr>\n",
       "    <tr>\n",
       "      <th>I-3</th>\n",
       "      <td>3614.180</td>\n",
       "    </tr>\n",
       "    <tr>\n",
       "      <th>I-5</th>\n",
       "      <td>3557.930</td>\n",
       "    </tr>\n",
       "  </tbody>\n",
       "</table>\n",
       "</div>"
      ],
      "text/plain": [
       "                               value\n",
       "parameter_name sensor_name          \n",
       "ec             123            21.643\n",
       "               124           100.223\n",
       "               126            11.635\n",
       "               127           288.567\n",
       "               I-2           268.122\n",
       "               I-3            36.451\n",
       "               I-5           251.477\n",
       "ec_25          123            29.493\n",
       "               124           138.944\n",
       "               126            16.091\n",
       "               127           397.833\n",
       "               I-2           364.216\n",
       "               I-3            50.059\n",
       "               I-5           345.875\n",
       "h              123            46.756\n",
       "               124           199.135\n",
       "               126            36.873\n",
       "               127          1579.928\n",
       "               I-2          2474.070\n",
       "               I-3          2450.920\n",
       "               I-5          2632.110\n",
       "h_level        123            46.756\n",
       "               124           199.135\n",
       "               126            36.873\n",
       "               127          1579.928\n",
       "               I-2          2474.070\n",
       "               I-3          2450.920\n",
       "               I-5          2632.110\n",
       "ldo            I-2          1423.772\n",
       "               I-3          1116.395\n",
       "               I-5          1328.826\n",
       "ph             I-2          4951.940\n",
       "               I-3          4492.460\n",
       "               I-5          4078.670\n",
       "t              123          3337.970\n",
       "               124          5619.600\n",
       "               126           310.450\n",
       "               127          8245.490\n",
       "               I-2          8051.560\n",
       "               I-3          8043.350\n",
       "               I-5          7615.800\n",
       "t_intern       123          2726.120\n",
       "               124          3466.830\n",
       "               126          8854.190\n",
       "               127          6043.180\n",
       "               I-2          3130.500\n",
       "               I-3          3675.230\n",
       "               I-5          6191.770\n",
       "v_batt         123          1062.270\n",
       "               124          2437.970\n",
       "               126          3743.810\n",
       "               127          3592.870\n",
       "               I-2          3626.200\n",
       "               I-3          3614.180\n",
       "               I-5          3557.930"
      ]
     },
     "execution_count": 91,
     "metadata": {},
     "output_type": "execute_result"
    }
   ],
   "source": [
    "df.groupby(['parameter_name', 'sensor_name']).value.sum().to_frame()"
   ]
  },
  {
   "cell_type": "code",
   "execution_count": 27,
   "id": "48c78295-2b8f-47d8-8049-b83437c4fedf",
   "metadata": {},
   "outputs": [
    {
     "data": {
      "text/plain": [
       "Timestamp('1970-01-01 00:00:01.668654')"
      ]
     },
     "execution_count": 27,
     "metadata": {},
     "output_type": "execute_result"
    }
   ],
   "source": [
    "pd.to_datetime(1668654000)"
   ]
  },
  {
   "cell_type": "code",
   "execution_count": 29,
   "id": "d13e67d5-5c6c-45e0-b502-9db7c375becd",
   "metadata": {},
   "outputs": [
    {
     "name": "stdout",
     "output_type": "stream",
     "text": [
      "Wall time: 15 s\n"
     ]
    }
   ],
   "source": [
    "%%time\n",
    "date_time = datetime.datetime(2021, 5, 1, 0, 0)\n",
    "ts = time.mktime(date_time.timetuple())\n",
    "URL = f'https://sensors.inowas.com/sensors/project/DEU1/latest?since={int(ts)}'\n",
    "r2 = requests.get(URL).json()"
   ]
  },
  {
   "cell_type": "code",
   "execution_count": null,
   "id": "589093b1-a394-4b1a-98c1-dec4b0959a59",
   "metadata": {},
   "outputs": [],
   "source": []
  },
  {
   "cell_type": "code",
   "execution_count": 23,
   "id": "08dc4c4a-b787-4722-bae0-c025a40904a4",
   "metadata": {},
   "outputs": [
    {
     "data": {
      "text/plain": [
       "'https://sensors.inowas.com/sensors/project/DEU1/latest?since=1619820000'"
      ]
     },
     "execution_count": 23,
     "metadata": {},
     "output_type": "execute_result"
    }
   ],
   "source": [
    "URL"
   ]
  },
  {
   "cell_type": "code",
   "execution_count": 20,
   "id": "5fef041d-3d21-4f96-8ebb-90fa47c55636",
   "metadata": {},
   "outputs": [
    {
     "data": {
      "text/plain": [
       "Timedelta('29 days 09:00:00')"
      ]
     },
     "execution_count": 20,
     "metadata": {},
     "output_type": "execute_result"
    }
   ],
   "source": [
    "df = pd.DataFrame(r2)\n",
    "df.insert(1, 'Date', pd.to_datetime(df['timestamp'], unit='s'))\n",
    "df.Date.max() - df.Date.min() "
   ]
  },
  {
   "cell_type": "code",
   "execution_count": 21,
   "id": "706207ab-519a-48bf-aaa7-d840c5c3d606",
   "metadata": {},
   "outputs": [
    {
     "data": {
      "text/plain": [
       "32369"
      ]
     },
     "execution_count": 21,
     "metadata": {},
     "output_type": "execute_result"
    }
   ],
   "source": [
    "len(df)"
   ]
  },
  {
   "cell_type": "code",
   "execution_count": null,
   "id": "03554b4f-da1f-4e62-ad87-d44dc3e1227e",
   "metadata": {},
   "outputs": [],
   "source": []
  },
  {
   "cell_type": "code",
   "execution_count": null,
   "id": "fa35d1da-41b4-4d3b-967c-b2aa792f1ac9",
   "metadata": {},
   "outputs": [],
   "source": []
  },
  {
   "cell_type": "code",
   "execution_count": 18,
   "id": "78db1f43-71cd-44e7-8b75-971fde2b12cc",
   "metadata": {},
   "outputs": [
    {
     "data": {
      "text/plain": [
       "32369"
      ]
     },
     "execution_count": 18,
     "metadata": {},
     "output_type": "execute_result"
    }
   ],
   "source": [
    "len(df)"
   ]
  },
  {
   "cell_type": "code",
   "execution_count": 16,
   "id": "9ea5de4c-848a-4976-875f-fba455a3242c",
   "metadata": {},
   "outputs": [
    {
     "data": {
      "text/plain": [
       "Timestamp('2022-11-24 12:00:00')"
      ]
     },
     "execution_count": 16,
     "metadata": {},
     "output_type": "execute_result"
    }
   ],
   "source": [
    "df.Date.max()"
   ]
  },
  {
   "cell_type": "code",
   "execution_count": 17,
   "id": "1a0a10b1-456c-4ab9-b9b1-231f66e90a41",
   "metadata": {},
   "outputs": [
    {
     "data": {
      "text/plain": [
       "Timestamp('2022-10-26 03:00:00')"
      ]
     },
     "execution_count": 17,
     "metadata": {},
     "output_type": "execute_result"
    }
   ],
   "source": [
    "df.Date.min()"
   ]
  },
  {
   "cell_type": "code",
   "execution_count": 57,
   "id": "ec5b9237-5d52-4e73-b48f-4b4cb4f8ad70",
   "metadata": {},
   "outputs": [
    {
     "name": "stdout",
     "output_type": "stream",
     "text": [
      "Wall time: 19.5 s\n"
     ]
    }
   ],
   "source": [
    "%%time\n",
    "date_time = datetime.datetime(2021, 11, 20, 0, 0)\n",
    "ts = time.mktime(date_time.timetuple())\n",
    "URL = f'https://sensors.inowas.com/sensors/project/DEU1/latest?since={int(ts)}'\n",
    "r3 = requests.get(URL).json()"
   ]
  },
  {
   "cell_type": "code",
   "execution_count": 77,
   "id": "23bd322f-3af2-4f34-9fad-2f70ebaeb3fc",
   "metadata": {},
   "outputs": [
    {
     "name": "stdout",
     "output_type": "stream",
     "text": [
      "2022-10-25 14:00:00 2022-11-23 12:00:00\n",
      "28 days 22:00:00\n"
     ]
    }
   ],
   "source": [
    "df = pd.DataFrame(r3)\n",
    "df.insert(1, 'Date', pd.to_datetime(df['timestamp'], unit='s'))\n",
    "print(df.Date.min(), df.Date.max())\n",
    "print(df.Date.max() - df.Date.min())"
   ]
  },
  {
   "cell_type": "code",
   "execution_count": 62,
   "id": "1709e14a-e901-493c-9900-8c1e913bc36c",
   "metadata": {},
   "outputs": [
    {
     "data": {
      "text/plain": [
       "array(['I-3', '127', 'I-2', 'I-5', '126', '123', '124'], dtype=object)"
      ]
     },
     "execution_count": 62,
     "metadata": {},
     "output_type": "execute_result"
    }
   ],
   "source": [
    "df.sensor_name.unique()"
   ]
  },
  {
   "cell_type": "code",
   "execution_count": null,
   "id": "99818745-4c8b-4d5c-ac3a-28df806a8bd7",
   "metadata": {},
   "outputs": [],
   "source": []
  },
  {
   "cell_type": "code",
   "execution_count": 148,
   "id": "5845d57b-8ff5-4b8a-b23c-529706558794",
   "metadata": {},
   "outputs": [
    {
     "data": {
      "text/html": [
       "<div>\n",
       "<style scoped>\n",
       "    .dataframe tbody tr th:only-of-type {\n",
       "        vertical-align: middle;\n",
       "    }\n",
       "\n",
       "    .dataframe tbody tr th {\n",
       "        vertical-align: top;\n",
       "    }\n",
       "\n",
       "    .dataframe thead th {\n",
       "        text-align: right;\n",
       "    }\n",
       "</style>\n",
       "<table border=\"1\" class=\"dataframe\">\n",
       "  <thead>\n",
       "    <tr style=\"text-align: right;\">\n",
       "      <th></th>\n",
       "      <th>ec</th>\n",
       "      <th>ec_25</th>\n",
       "      <th>h</th>\n",
       "      <th>h_level</th>\n",
       "      <th>ldo</th>\n",
       "      <th>ph</th>\n",
       "      <th>t</th>\n",
       "      <th>t_intern</th>\n",
       "      <th>v_batt</th>\n",
       "    </tr>\n",
       "    <tr>\n",
       "      <th>sensor_name</th>\n",
       "      <th></th>\n",
       "      <th></th>\n",
       "      <th></th>\n",
       "      <th></th>\n",
       "      <th></th>\n",
       "      <th></th>\n",
       "      <th></th>\n",
       "      <th></th>\n",
       "      <th></th>\n",
       "    </tr>\n",
       "  </thead>\n",
       "  <tbody>\n",
       "    <tr>\n",
       "      <th>123</th>\n",
       "      <td>197.0</td>\n",
       "      <td>197.0</td>\n",
       "      <td>197.0</td>\n",
       "      <td>197.0</td>\n",
       "      <td>NaN</td>\n",
       "      <td>NaN</td>\n",
       "      <td>197.0</td>\n",
       "      <td>197.0</td>\n",
       "      <td>197.0</td>\n",
       "    </tr>\n",
       "    <tr>\n",
       "      <th>124</th>\n",
       "      <td>309.0</td>\n",
       "      <td>309.0</td>\n",
       "      <td>309.0</td>\n",
       "      <td>309.0</td>\n",
       "      <td>NaN</td>\n",
       "      <td>NaN</td>\n",
       "      <td>309.0</td>\n",
       "      <td>309.0</td>\n",
       "      <td>309.0</td>\n",
       "    </tr>\n",
       "    <tr>\n",
       "      <th>126</th>\n",
       "      <td>677.0</td>\n",
       "      <td>677.0</td>\n",
       "      <td>677.0</td>\n",
       "      <td>677.0</td>\n",
       "      <td>NaN</td>\n",
       "      <td>NaN</td>\n",
       "      <td>677.0</td>\n",
       "      <td>677.0</td>\n",
       "      <td>677.0</td>\n",
       "    </tr>\n",
       "    <tr>\n",
       "      <th>127</th>\n",
       "      <td>672.0</td>\n",
       "      <td>672.0</td>\n",
       "      <td>672.0</td>\n",
       "      <td>672.0</td>\n",
       "      <td>NaN</td>\n",
       "      <td>NaN</td>\n",
       "      <td>672.0</td>\n",
       "      <td>672.0</td>\n",
       "      <td>672.0</td>\n",
       "    </tr>\n",
       "    <tr>\n",
       "      <th>I-2</th>\n",
       "      <td>695.0</td>\n",
       "      <td>695.0</td>\n",
       "      <td>695.0</td>\n",
       "      <td>695.0</td>\n",
       "      <td>695.0</td>\n",
       "      <td>695.0</td>\n",
       "      <td>695.0</td>\n",
       "      <td>695.0</td>\n",
       "      <td>695.0</td>\n",
       "    </tr>\n",
       "    <tr>\n",
       "      <th>I-3</th>\n",
       "      <td>695.0</td>\n",
       "      <td>695.0</td>\n",
       "      <td>695.0</td>\n",
       "      <td>695.0</td>\n",
       "      <td>695.0</td>\n",
       "      <td>695.0</td>\n",
       "      <td>695.0</td>\n",
       "      <td>695.0</td>\n",
       "      <td>695.0</td>\n",
       "    </tr>\n",
       "    <tr>\n",
       "      <th>I-5</th>\n",
       "      <td>695.0</td>\n",
       "      <td>695.0</td>\n",
       "      <td>695.0</td>\n",
       "      <td>695.0</td>\n",
       "      <td>695.0</td>\n",
       "      <td>695.0</td>\n",
       "      <td>695.0</td>\n",
       "      <td>695.0</td>\n",
       "      <td>695.0</td>\n",
       "    </tr>\n",
       "  </tbody>\n",
       "</table>\n",
       "</div>"
      ],
      "text/plain": [
       "                ec  ec_25      h  h_level    ldo     ph      t  t_intern  \\\n",
       "sensor_name                                                                \n",
       "123          197.0  197.0  197.0    197.0    NaN    NaN  197.0     197.0   \n",
       "124          309.0  309.0  309.0    309.0    NaN    NaN  309.0     309.0   \n",
       "126          677.0  677.0  677.0    677.0    NaN    NaN  677.0     677.0   \n",
       "127          672.0  672.0  672.0    672.0    NaN    NaN  672.0     672.0   \n",
       "I-2          695.0  695.0  695.0    695.0  695.0  695.0  695.0     695.0   \n",
       "I-3          695.0  695.0  695.0    695.0  695.0  695.0  695.0     695.0   \n",
       "I-5          695.0  695.0  695.0    695.0  695.0  695.0  695.0     695.0   \n",
       "\n",
       "             v_batt  \n",
       "sensor_name          \n",
       "123           197.0  \n",
       "124           309.0  \n",
       "126           677.0  \n",
       "127           672.0  \n",
       "I-2           695.0  \n",
       "I-3           695.0  \n",
       "I-5           695.0  "
      ]
     },
     "execution_count": 148,
     "metadata": {},
     "output_type": "execute_result"
    }
   ],
   "source": [
    "df_ = df.groupby(['sensor_name', 'parameter_name']).Date.count().to_frame().reset_index()\n",
    "df_ = df_.set_index ('sensor_name')\n",
    "df_ = df_.pivot_table(index = ['sensor_name'], columns = ['parameter_name'])['Date']\n",
    "df_.columns.name = ''\n",
    "df_"
   ]
  },
  {
   "cell_type": "code",
   "execution_count": 149,
   "id": "1d3d7f93-3376-4490-8f41-d5ca21fab7fc",
   "metadata": {},
   "outputs": [
    {
     "data": {
      "text/plain": [
       "<AxesSubplot:xlabel='sensor_name'>"
      ]
     },
     "execution_count": 149,
     "metadata": {},
     "output_type": "execute_result"
    },
    {
     "data": {
      "image/png": "[encoded data removed]",
      "text/plain": [
       "<Figure size 640x480 with 1 Axes>"
      ]
     },
     "metadata": {},
     "output_type": "display_data"
    }
   ],
   "source": [
    "df_.plot.bar(rot=0)"
   ]
  },
  {
   "cell_type": "code",
   "execution_count": 76,
   "id": "d02f30c1-e932-4212-9897-3265244ddb17",
   "metadata": {},
   "outputs": [
    {
     "data": {
      "text/plain": [
       "sensor_name  parameter_name\n",
       "123          ec                7 days 23:54:31\n",
       "             ec_25             7 days 23:54:31\n",
       "             h                 7 days 23:54:31\n",
       "             h_level           7 days 23:54:31\n",
       "             t                 7 days 23:54:31\n",
       "             t_intern          7 days 23:54:31\n",
       "             v_batt            7 days 23:54:31\n",
       "124          ec               12 days 18:29:52\n",
       "             ec_25            12 days 18:29:52\n",
       "             h                12 days 18:29:52\n",
       "             h_level          12 days 18:29:52\n",
       "             t                12 days 18:29:52\n",
       "             t_intern         12 days 18:29:52\n",
       "             v_batt           12 days 18:29:52\n",
       "126          ec               27 days 23:00:00\n",
       "             ec_25            27 days 23:00:00\n",
       "             h                27 days 23:00:00\n",
       "             h_level          27 days 23:00:00\n",
       "             t                27 days 23:00:00\n",
       "             t_intern         27 days 23:00:00\n",
       "             v_batt           27 days 23:00:00\n",
       "127          ec               27 days 22:00:00\n",
       "             ec_25            27 days 22:00:00\n",
       "             h                27 days 22:00:00\n",
       "             h_level          27 days 22:00:00\n",
       "             t                27 days 22:00:00\n",
       "             t_intern         27 days 22:00:00\n",
       "             v_batt           27 days 22:00:00\n",
       "I-2          ec               28 days 22:00:00\n",
       "             ec_25            28 days 22:00:00\n",
       "             h                28 days 22:00:00\n",
       "             h_level          28 days 22:00:00\n",
       "             ldo              28 days 22:00:00\n",
       "             ph               28 days 22:00:00\n",
       "             t                28 days 22:00:00\n",
       "             t_intern         28 days 22:00:00\n",
       "             v_batt           28 days 22:00:00\n",
       "I-3          ec               28 days 22:00:00\n",
       "             ec_25            28 days 22:00:00\n",
       "             h                28 days 22:00:00\n",
       "             h_level          28 days 22:00:00\n",
       "             ldo              28 days 22:00:00\n",
       "             ph               28 days 22:00:00\n",
       "             t                28 days 22:00:00\n",
       "             t_intern         28 days 22:00:00\n",
       "             v_batt           28 days 22:00:00\n",
       "I-5          ec               28 days 22:00:00\n",
       "             ec_25            28 days 22:00:00\n",
       "             h                28 days 22:00:00\n",
       "             h_level          28 days 22:00:00\n",
       "             ldo              28 days 22:00:00\n",
       "             ph               28 days 22:00:00\n",
       "             t                28 days 22:00:00\n",
       "             t_intern         28 days 22:00:00\n",
       "             v_batt           28 days 22:00:00\n",
       "Name: Date, dtype: timedelta64[ns]"
      ]
     },
     "execution_count": 76,
     "metadata": {},
     "output_type": "execute_result"
    }
   ],
   "source": [
    "df.groupby(['sensor_name', 'parameter_name']).Date.agg('max') - df.groupby(['sensor_name', 'parameter_name']).Date.agg('min')"
   ]
  },
  {
   "cell_type": "code",
   "execution_count": 216,
   "id": "09b75c04-44ac-4ffb-ad5d-04a481f0c75e",
   "metadata": {},
   "outputs": [
    {
     "data": {
      "text/plain": [
       "<AxesSubplot: xlabel='date_time'>"
      ]
     },
     "execution_count": 216,
     "metadata": {},
     "output_type": "execute_result"
    },
    {
     "data": {
      "image/png": "[encoded data removed]",
      "text/plain": [
       "<Figure size 640x480 with 1 Axes>"
      ]
     },
     "metadata": {},
     "output_type": "display_data"
    }
   ],
   "source": [
    "sd = datetime.datetime(2021, 1, 1)\n",
    "ed = datetime.datetime(2021, 12, 31)\n",
    "stu =  int(time.mktime(sd.timetuple()))\n",
    "edu =  int(time.mktime(ed.timetuple()))\n",
    "\n",
    "parameter, sensor ='h', 'I-6'\n",
    "\n",
    "URL = f'https://sensors.inowas.com/sensors/project/DEU1/sensor/{sensor}/parameter/{parameter}?timeResolution=RAW&dateFormat=iso&start={stu}&end={edu}&gt=-100.0'\n",
    "\n",
    "\n",
    "request = requests.get(URL).json()\n",
    "\n",
    "df = pd.DataFrame(request)\n",
    "df['date_time'] = pd.to_datetime(df.date_time)\n",
    "df.plot(x = 'date_time', y = 'value')"
   ]
  },
  {
   "cell_type": "markdown",
   "id": "e940271d-0376-42be-8534-441c892bb7ec",
   "metadata": {},
   "source": [
    "### Is there a way?\n",
    "\n",
    "1. Make a request for all of the sensors for a specific parameter? (Map)\n",
    "2. Make a request for all of the parameters and a unique sensor? (TimeSeries context)"
   ]
  },
  {
   "cell_type": "markdown",
   "id": "5c156834-0ea8-47ae-82ae-6a2f7f443a84",
   "metadata": {},
   "source": [
    "They use a SOAP WSDL service"
   ]
  },
  {
   "cell_type": "code",
   "execution_count": 2,
   "id": "f557c727-208a-44cc-a94d-0c26a41327a2",
   "metadata": {},
   "outputs": [],
   "source": [
    "import requests"
   ]
  },
  {
   "cell_type": "code",
   "execution_count": 18,
   "id": "d18985e5-9226-4f7f-ad39-6f21e6dd9938",
   "metadata": {},
   "outputs": [],
   "source": [
    "url = 'https://www.umwelt.sachsen.de/umwelt/infosysteme/hwims/webservices/spurwerte-ws?wsdl'\n",
    "\n",
    "rq = requests.get(url)"
   ]
  },
  {
   "cell_type": "code",
   "execution_count": 16,
   "id": "779f7a25-9a4e-4890-b240-208ba50840e5",
   "metadata": {},
   "outputs": [
    {
     "data": {
      "text/plain": [
       "{'Date': 'Tue, 22 Nov 2022 16:16:10 GMT', 'Server': 'Apache', 'Content-Type': 'text/xml;charset=UTF-8', 'X-Forwarded-Proto': 'https', 'Cache-Control': 'private', 'Content-Encoding': 'gzip', 'Set-Cookie': 'NSC_wtfswfs-ixjnt-bqqmjlbujpotfswfs=ffffffffaf1b8b1445525d5f4f58455e445a4a4229a0;path=/;secure;httponly', 'Keep-Alive': 'timeout=15, max=100', 'Connection': 'Keep-Alive', 'Transfer-Encoding': 'chunked'}"
      ]
     },
     "execution_count": 16,
     "metadata": {},
     "output_type": "execute_result"
    }
   ],
   "source": [
    "rq.headers"
   ]
  },
  {
   "cell_type": "code",
   "execution_count": 4,
   "id": "2bd3cbe0-2f87-41cd-bf59-9e86896c4500",
   "metadata": {},
   "outputs": [
    {
     "ename": "ConnectionError",
     "evalue": "HTTPConnectionPool(host='wsf.cdyne.com', port=80): Max retries exceeded with url: /WeatherWS/Weather.asmx?WSDL (Caused by NewConnectionError('<urllib3.connection.HTTPConnection object at 0x000001DA86298100>: Failed to establish a new connection: [Errno 11001] getaddrinfo failed'))",
     "output_type": "error",
     "traceback": [
      "\u001b[1;31m---------------------------------------------------------------------------\u001b[0m",
      "\u001b[1;31mgaierror\u001b[0m                                  Traceback (most recent call last)",
      "\u001b[1;32mC:\\ProgramData\\Miniconda3\\lib\\site-packages\\urllib3\\connection.py\u001b[0m in \u001b[0;36m_new_conn\u001b[1;34m(self)\u001b[0m\n\u001b[0;32m    173\u001b[0m         \u001b[1;32mtry\u001b[0m\u001b[1;33m:\u001b[0m\u001b[1;33m\u001b[0m\u001b[1;33m\u001b[0m\u001b[0m\n\u001b[1;32m--> 174\u001b[1;33m             conn = connection.create_connection(\n\u001b[0m\u001b[0;32m    175\u001b[0m                 \u001b[1;33m(\u001b[0m\u001b[0mself\u001b[0m\u001b[1;33m.\u001b[0m\u001b[0m_dns_host\u001b[0m\u001b[1;33m,\u001b[0m \u001b[0mself\u001b[0m\u001b[1;33m.\u001b[0m\u001b[0mport\u001b[0m\u001b[1;33m)\u001b[0m\u001b[1;33m,\u001b[0m \u001b[0mself\u001b[0m\u001b[1;33m.\u001b[0m\u001b[0mtimeout\u001b[0m\u001b[1;33m,\u001b[0m \u001b[1;33m**\u001b[0m\u001b[0mextra_kw\u001b[0m\u001b[1;33m\u001b[0m\u001b[1;33m\u001b[0m\u001b[0m\n",
      "\u001b[1;32mC:\\ProgramData\\Miniconda3\\lib\\site-packages\\urllib3\\util\\connection.py\u001b[0m in \u001b[0;36mcreate_connection\u001b[1;34m(address, timeout, source_address, socket_options)\u001b[0m\n\u001b[0;32m     71\u001b[0m \u001b[1;33m\u001b[0m\u001b[0m\n\u001b[1;32m---> 72\u001b[1;33m     \u001b[1;32mfor\u001b[0m \u001b[0mres\u001b[0m \u001b[1;32min\u001b[0m \u001b[0msocket\u001b[0m\u001b[1;33m.\u001b[0m\u001b[0mgetaddrinfo\u001b[0m\u001b[1;33m(\u001b[0m\u001b[0mhost\u001b[0m\u001b[1;33m,\u001b[0m \u001b[0mport\u001b[0m\u001b[1;33m,\u001b[0m \u001b[0mfamily\u001b[0m\u001b[1;33m,\u001b[0m \u001b[0msocket\u001b[0m\u001b[1;33m.\u001b[0m\u001b[0mSOCK_STREAM\u001b[0m\u001b[1;33m)\u001b[0m\u001b[1;33m:\u001b[0m\u001b[1;33m\u001b[0m\u001b[1;33m\u001b[0m\u001b[0m\n\u001b[0m\u001b[0;32m     73\u001b[0m         \u001b[0maf\u001b[0m\u001b[1;33m,\u001b[0m \u001b[0msocktype\u001b[0m\u001b[1;33m,\u001b[0m \u001b[0mproto\u001b[0m\u001b[1;33m,\u001b[0m \u001b[0mcanonname\u001b[0m\u001b[1;33m,\u001b[0m \u001b[0msa\u001b[0m \u001b[1;33m=\u001b[0m \u001b[0mres\u001b[0m\u001b[1;33m\u001b[0m\u001b[1;33m\u001b[0m\u001b[0m\n",
      "\u001b[1;32mC:\\ProgramData\\Miniconda3\\lib\\socket.py\u001b[0m in \u001b[0;36mgetaddrinfo\u001b[1;34m(host, port, family, type, proto, flags)\u001b[0m\n\u001b[0;32m    953\u001b[0m     \u001b[0maddrlist\u001b[0m \u001b[1;33m=\u001b[0m \u001b[1;33m[\u001b[0m\u001b[1;33m]\u001b[0m\u001b[1;33m\u001b[0m\u001b[1;33m\u001b[0m\u001b[0m\n\u001b[1;32m--> 954\u001b[1;33m     \u001b[1;32mfor\u001b[0m \u001b[0mres\u001b[0m \u001b[1;32min\u001b[0m \u001b[0m_socket\u001b[0m\u001b[1;33m.\u001b[0m\u001b[0mgetaddrinfo\u001b[0m\u001b[1;33m(\u001b[0m\u001b[0mhost\u001b[0m\u001b[1;33m,\u001b[0m \u001b[0mport\u001b[0m\u001b[1;33m,\u001b[0m \u001b[0mfamily\u001b[0m\u001b[1;33m,\u001b[0m \u001b[0mtype\u001b[0m\u001b[1;33m,\u001b[0m \u001b[0mproto\u001b[0m\u001b[1;33m,\u001b[0m \u001b[0mflags\u001b[0m\u001b[1;33m)\u001b[0m\u001b[1;33m:\u001b[0m\u001b[1;33m\u001b[0m\u001b[1;33m\u001b[0m\u001b[0m\n\u001b[0m\u001b[0;32m    955\u001b[0m         \u001b[0maf\u001b[0m\u001b[1;33m,\u001b[0m \u001b[0msocktype\u001b[0m\u001b[1;33m,\u001b[0m \u001b[0mproto\u001b[0m\u001b[1;33m,\u001b[0m \u001b[0mcanonname\u001b[0m\u001b[1;33m,\u001b[0m \u001b[0msa\u001b[0m \u001b[1;33m=\u001b[0m \u001b[0mres\u001b[0m\u001b[1;33m\u001b[0m\u001b[1;33m\u001b[0m\u001b[0m\n",
      "\u001b[1;31mgaierror\u001b[0m: [Errno 11001] getaddrinfo failed",
      "\nDuring handling of the above exception, another exception occurred:\n",
      "\u001b[1;31mNewConnectionError\u001b[0m                        Traceback (most recent call last)",
      "\u001b[1;32mC:\\ProgramData\\Miniconda3\\lib\\site-packages\\urllib3\\connectionpool.py\u001b[0m in \u001b[0;36murlopen\u001b[1;34m(self, method, url, body, headers, retries, redirect, assert_same_host, timeout, pool_timeout, release_conn, chunked, body_pos, **response_kw)\u001b[0m\n\u001b[0;32m    702\u001b[0m             \u001b[1;31m# Make the request on the httplib connection object.\u001b[0m\u001b[1;33m\u001b[0m\u001b[1;33m\u001b[0m\u001b[0m\n\u001b[1;32m--> 703\u001b[1;33m             httplib_response = self._make_request(\n\u001b[0m\u001b[0;32m    704\u001b[0m                 \u001b[0mconn\u001b[0m\u001b[1;33m,\u001b[0m\u001b[1;33m\u001b[0m\u001b[1;33m\u001b[0m\u001b[0m\n",
      "\u001b[1;32mC:\\ProgramData\\Miniconda3\\lib\\site-packages\\urllib3\\connectionpool.py\u001b[0m in \u001b[0;36m_make_request\u001b[1;34m(self, conn, method, url, timeout, chunked, **httplib_request_kw)\u001b[0m\n\u001b[0;32m    397\u001b[0m             \u001b[1;32melse\u001b[0m\u001b[1;33m:\u001b[0m\u001b[1;33m\u001b[0m\u001b[1;33m\u001b[0m\u001b[0m\n\u001b[1;32m--> 398\u001b[1;33m                 \u001b[0mconn\u001b[0m\u001b[1;33m.\u001b[0m\u001b[0mrequest\u001b[0m\u001b[1;33m(\u001b[0m\u001b[0mmethod\u001b[0m\u001b[1;33m,\u001b[0m \u001b[0murl\u001b[0m\u001b[1;33m,\u001b[0m \u001b[1;33m**\u001b[0m\u001b[0mhttplib_request_kw\u001b[0m\u001b[1;33m)\u001b[0m\u001b[1;33m\u001b[0m\u001b[1;33m\u001b[0m\u001b[0m\n\u001b[0m\u001b[0;32m    399\u001b[0m \u001b[1;33m\u001b[0m\u001b[0m\n",
      "\u001b[1;32mC:\\ProgramData\\Miniconda3\\lib\\site-packages\\urllib3\\connection.py\u001b[0m in \u001b[0;36mrequest\u001b[1;34m(self, method, url, body, headers)\u001b[0m\n\u001b[0;32m    238\u001b[0m             \u001b[0mheaders\u001b[0m\u001b[1;33m[\u001b[0m\u001b[1;34m\"User-Agent\"\u001b[0m\u001b[1;33m]\u001b[0m \u001b[1;33m=\u001b[0m \u001b[0m_get_default_user_agent\u001b[0m\u001b[1;33m(\u001b[0m\u001b[1;33m)\u001b[0m\u001b[1;33m\u001b[0m\u001b[1;33m\u001b[0m\u001b[0m\n\u001b[1;32m--> 239\u001b[1;33m         \u001b[0msuper\u001b[0m\u001b[1;33m(\u001b[0m\u001b[0mHTTPConnection\u001b[0m\u001b[1;33m,\u001b[0m \u001b[0mself\u001b[0m\u001b[1;33m)\u001b[0m\u001b[1;33m.\u001b[0m\u001b[0mrequest\u001b[0m\u001b[1;33m(\u001b[0m\u001b[0mmethod\u001b[0m\u001b[1;33m,\u001b[0m \u001b[0murl\u001b[0m\u001b[1;33m,\u001b[0m \u001b[0mbody\u001b[0m\u001b[1;33m=\u001b[0m\u001b[0mbody\u001b[0m\u001b[1;33m,\u001b[0m \u001b[0mheaders\u001b[0m\u001b[1;33m=\u001b[0m\u001b[0mheaders\u001b[0m\u001b[1;33m)\u001b[0m\u001b[1;33m\u001b[0m\u001b[1;33m\u001b[0m\u001b[0m\n\u001b[0m\u001b[0;32m    240\u001b[0m \u001b[1;33m\u001b[0m\u001b[0m\n",
      "\u001b[1;32mC:\\ProgramData\\Miniconda3\\lib\\http\\client.py\u001b[0m in \u001b[0;36mrequest\u001b[1;34m(self, method, url, body, headers, encode_chunked)\u001b[0m\n\u001b[0;32m   1284\u001b[0m         \u001b[1;34m\"\"\"Send a complete request to the server.\"\"\"\u001b[0m\u001b[1;33m\u001b[0m\u001b[1;33m\u001b[0m\u001b[0m\n\u001b[1;32m-> 1285\u001b[1;33m         \u001b[0mself\u001b[0m\u001b[1;33m.\u001b[0m\u001b[0m_send_request\u001b[0m\u001b[1;33m(\u001b[0m\u001b[0mmethod\u001b[0m\u001b[1;33m,\u001b[0m \u001b[0murl\u001b[0m\u001b[1;33m,\u001b[0m \u001b[0mbody\u001b[0m\u001b[1;33m,\u001b[0m \u001b[0mheaders\u001b[0m\u001b[1;33m,\u001b[0m \u001b[0mencode_chunked\u001b[0m\u001b[1;33m)\u001b[0m\u001b[1;33m\u001b[0m\u001b[1;33m\u001b[0m\u001b[0m\n\u001b[0m\u001b[0;32m   1286\u001b[0m \u001b[1;33m\u001b[0m\u001b[0m\n",
      "\u001b[1;32mC:\\ProgramData\\Miniconda3\\lib\\http\\client.py\u001b[0m in \u001b[0;36m_send_request\u001b[1;34m(self, method, url, body, headers, encode_chunked)\u001b[0m\n\u001b[0;32m   1330\u001b[0m             \u001b[0mbody\u001b[0m \u001b[1;33m=\u001b[0m \u001b[0m_encode\u001b[0m\u001b[1;33m(\u001b[0m\u001b[0mbody\u001b[0m\u001b[1;33m,\u001b[0m \u001b[1;34m'body'\u001b[0m\u001b[1;33m)\u001b[0m\u001b[1;33m\u001b[0m\u001b[1;33m\u001b[0m\u001b[0m\n\u001b[1;32m-> 1331\u001b[1;33m         \u001b[0mself\u001b[0m\u001b[1;33m.\u001b[0m\u001b[0mendheaders\u001b[0m\u001b[1;33m(\u001b[0m\u001b[0mbody\u001b[0m\u001b[1;33m,\u001b[0m \u001b[0mencode_chunked\u001b[0m\u001b[1;33m=\u001b[0m\u001b[0mencode_chunked\u001b[0m\u001b[1;33m)\u001b[0m\u001b[1;33m\u001b[0m\u001b[1;33m\u001b[0m\u001b[0m\n\u001b[0m\u001b[0;32m   1332\u001b[0m \u001b[1;33m\u001b[0m\u001b[0m\n",
      "\u001b[1;32mC:\\ProgramData\\Miniconda3\\lib\\http\\client.py\u001b[0m in \u001b[0;36mendheaders\u001b[1;34m(self, message_body, encode_chunked)\u001b[0m\n\u001b[0;32m   1279\u001b[0m             \u001b[1;32mraise\u001b[0m \u001b[0mCannotSendHeader\u001b[0m\u001b[1;33m(\u001b[0m\u001b[1;33m)\u001b[0m\u001b[1;33m\u001b[0m\u001b[1;33m\u001b[0m\u001b[0m\n\u001b[1;32m-> 1280\u001b[1;33m         \u001b[0mself\u001b[0m\u001b[1;33m.\u001b[0m\u001b[0m_send_output\u001b[0m\u001b[1;33m(\u001b[0m\u001b[0mmessage_body\u001b[0m\u001b[1;33m,\u001b[0m \u001b[0mencode_chunked\u001b[0m\u001b[1;33m=\u001b[0m\u001b[0mencode_chunked\u001b[0m\u001b[1;33m)\u001b[0m\u001b[1;33m\u001b[0m\u001b[1;33m\u001b[0m\u001b[0m\n\u001b[0m\u001b[0;32m   1281\u001b[0m \u001b[1;33m\u001b[0m\u001b[0m\n",
      "\u001b[1;32mC:\\ProgramData\\Miniconda3\\lib\\http\\client.py\u001b[0m in \u001b[0;36m_send_output\u001b[1;34m(self, message_body, encode_chunked)\u001b[0m\n\u001b[0;32m   1039\u001b[0m         \u001b[1;32mdel\u001b[0m \u001b[0mself\u001b[0m\u001b[1;33m.\u001b[0m\u001b[0m_buffer\u001b[0m\u001b[1;33m[\u001b[0m\u001b[1;33m:\u001b[0m\u001b[1;33m]\u001b[0m\u001b[1;33m\u001b[0m\u001b[1;33m\u001b[0m\u001b[0m\n\u001b[1;32m-> 1040\u001b[1;33m         \u001b[0mself\u001b[0m\u001b[1;33m.\u001b[0m\u001b[0msend\u001b[0m\u001b[1;33m(\u001b[0m\u001b[0mmsg\u001b[0m\u001b[1;33m)\u001b[0m\u001b[1;33m\u001b[0m\u001b[1;33m\u001b[0m\u001b[0m\n\u001b[0m\u001b[0;32m   1041\u001b[0m \u001b[1;33m\u001b[0m\u001b[0m\n",
      "\u001b[1;32mC:\\ProgramData\\Miniconda3\\lib\\http\\client.py\u001b[0m in \u001b[0;36msend\u001b[1;34m(self, data)\u001b[0m\n\u001b[0;32m    979\u001b[0m             \u001b[1;32mif\u001b[0m \u001b[0mself\u001b[0m\u001b[1;33m.\u001b[0m\u001b[0mauto_open\u001b[0m\u001b[1;33m:\u001b[0m\u001b[1;33m\u001b[0m\u001b[1;33m\u001b[0m\u001b[0m\n\u001b[1;32m--> 980\u001b[1;33m                 \u001b[0mself\u001b[0m\u001b[1;33m.\u001b[0m\u001b[0mconnect\u001b[0m\u001b[1;33m(\u001b[0m\u001b[1;33m)\u001b[0m\u001b[1;33m\u001b[0m\u001b[1;33m\u001b[0m\u001b[0m\n\u001b[0m\u001b[0;32m    981\u001b[0m             \u001b[1;32melse\u001b[0m\u001b[1;33m:\u001b[0m\u001b[1;33m\u001b[0m\u001b[1;33m\u001b[0m\u001b[0m\n",
      "\u001b[1;32mC:\\ProgramData\\Miniconda3\\lib\\site-packages\\urllib3\\connection.py\u001b[0m in \u001b[0;36mconnect\u001b[1;34m(self)\u001b[0m\n\u001b[0;32m    204\u001b[0m     \u001b[1;32mdef\u001b[0m \u001b[0mconnect\u001b[0m\u001b[1;33m(\u001b[0m\u001b[0mself\u001b[0m\u001b[1;33m)\u001b[0m\u001b[1;33m:\u001b[0m\u001b[1;33m\u001b[0m\u001b[1;33m\u001b[0m\u001b[0m\n\u001b[1;32m--> 205\u001b[1;33m         \u001b[0mconn\u001b[0m \u001b[1;33m=\u001b[0m \u001b[0mself\u001b[0m\u001b[1;33m.\u001b[0m\u001b[0m_new_conn\u001b[0m\u001b[1;33m(\u001b[0m\u001b[1;33m)\u001b[0m\u001b[1;33m\u001b[0m\u001b[1;33m\u001b[0m\u001b[0m\n\u001b[0m\u001b[0;32m    206\u001b[0m         \u001b[0mself\u001b[0m\u001b[1;33m.\u001b[0m\u001b[0m_prepare_conn\u001b[0m\u001b[1;33m(\u001b[0m\u001b[0mconn\u001b[0m\u001b[1;33m)\u001b[0m\u001b[1;33m\u001b[0m\u001b[1;33m\u001b[0m\u001b[0m\n",
      "\u001b[1;32mC:\\ProgramData\\Miniconda3\\lib\\site-packages\\urllib3\\connection.py\u001b[0m in \u001b[0;36m_new_conn\u001b[1;34m(self)\u001b[0m\n\u001b[0;32m    185\u001b[0m         \u001b[1;32mexcept\u001b[0m \u001b[0mSocketError\u001b[0m \u001b[1;32mas\u001b[0m \u001b[0me\u001b[0m\u001b[1;33m:\u001b[0m\u001b[1;33m\u001b[0m\u001b[1;33m\u001b[0m\u001b[0m\n\u001b[1;32m--> 186\u001b[1;33m             raise NewConnectionError(\n\u001b[0m\u001b[0;32m    187\u001b[0m                 \u001b[0mself\u001b[0m\u001b[1;33m,\u001b[0m \u001b[1;34m\"Failed to establish a new connection: %s\"\u001b[0m \u001b[1;33m%\u001b[0m \u001b[0me\u001b[0m\u001b[1;33m\u001b[0m\u001b[1;33m\u001b[0m\u001b[0m\n",
      "\u001b[1;31mNewConnectionError\u001b[0m: <urllib3.connection.HTTPConnection object at 0x000001DA86298100>: Failed to establish a new connection: [Errno 11001] getaddrinfo failed",
      "\nDuring handling of the above exception, another exception occurred:\n",
      "\u001b[1;31mMaxRetryError\u001b[0m                             Traceback (most recent call last)",
      "\u001b[1;32mC:\\ProgramData\\Miniconda3\\lib\\site-packages\\requests\\adapters.py\u001b[0m in \u001b[0;36msend\u001b[1;34m(self, request, stream, timeout, verify, cert, proxies)\u001b[0m\n\u001b[0;32m    488\u001b[0m             \u001b[1;32mif\u001b[0m \u001b[1;32mnot\u001b[0m \u001b[0mchunked\u001b[0m\u001b[1;33m:\u001b[0m\u001b[1;33m\u001b[0m\u001b[1;33m\u001b[0m\u001b[0m\n\u001b[1;32m--> 489\u001b[1;33m                 resp = conn.urlopen(\n\u001b[0m\u001b[0;32m    490\u001b[0m                     \u001b[0mmethod\u001b[0m\u001b[1;33m=\u001b[0m\u001b[0mrequest\u001b[0m\u001b[1;33m.\u001b[0m\u001b[0mmethod\u001b[0m\u001b[1;33m,\u001b[0m\u001b[1;33m\u001b[0m\u001b[1;33m\u001b[0m\u001b[0m\n",
      "\u001b[1;32mC:\\ProgramData\\Miniconda3\\lib\\site-packages\\urllib3\\connectionpool.py\u001b[0m in \u001b[0;36murlopen\u001b[1;34m(self, method, url, body, headers, retries, redirect, assert_same_host, timeout, pool_timeout, release_conn, chunked, body_pos, **response_kw)\u001b[0m\n\u001b[0;32m    786\u001b[0m \u001b[1;33m\u001b[0m\u001b[0m\n\u001b[1;32m--> 787\u001b[1;33m             retries = retries.increment(\n\u001b[0m\u001b[0;32m    788\u001b[0m                 \u001b[0mmethod\u001b[0m\u001b[1;33m,\u001b[0m \u001b[0murl\u001b[0m\u001b[1;33m,\u001b[0m \u001b[0merror\u001b[0m\u001b[1;33m=\u001b[0m\u001b[0me\u001b[0m\u001b[1;33m,\u001b[0m \u001b[0m_pool\u001b[0m\u001b[1;33m=\u001b[0m\u001b[0mself\u001b[0m\u001b[1;33m,\u001b[0m \u001b[0m_stacktrace\u001b[0m\u001b[1;33m=\u001b[0m\u001b[0msys\u001b[0m\u001b[1;33m.\u001b[0m\u001b[0mexc_info\u001b[0m\u001b[1;33m(\u001b[0m\u001b[1;33m)\u001b[0m\u001b[1;33m[\u001b[0m\u001b[1;36m2\u001b[0m\u001b[1;33m]\u001b[0m\u001b[1;33m\u001b[0m\u001b[1;33m\u001b[0m\u001b[0m\n",
      "\u001b[1;32mC:\\ProgramData\\Miniconda3\\lib\\site-packages\\urllib3\\util\\retry.py\u001b[0m in \u001b[0;36mincrement\u001b[1;34m(self, method, url, response, error, _pool, _stacktrace)\u001b[0m\n\u001b[0;32m    591\u001b[0m         \u001b[1;32mif\u001b[0m \u001b[0mnew_retry\u001b[0m\u001b[1;33m.\u001b[0m\u001b[0mis_exhausted\u001b[0m\u001b[1;33m(\u001b[0m\u001b[1;33m)\u001b[0m\u001b[1;33m:\u001b[0m\u001b[1;33m\u001b[0m\u001b[1;33m\u001b[0m\u001b[0m\n\u001b[1;32m--> 592\u001b[1;33m             \u001b[1;32mraise\u001b[0m \u001b[0mMaxRetryError\u001b[0m\u001b[1;33m(\u001b[0m\u001b[0m_pool\u001b[0m\u001b[1;33m,\u001b[0m \u001b[0murl\u001b[0m\u001b[1;33m,\u001b[0m \u001b[0merror\u001b[0m \u001b[1;32mor\u001b[0m \u001b[0mResponseError\u001b[0m\u001b[1;33m(\u001b[0m\u001b[0mcause\u001b[0m\u001b[1;33m)\u001b[0m\u001b[1;33m)\u001b[0m\u001b[1;33m\u001b[0m\u001b[1;33m\u001b[0m\u001b[0m\n\u001b[0m\u001b[0;32m    593\u001b[0m \u001b[1;33m\u001b[0m\u001b[0m\n",
      "\u001b[1;31mMaxRetryError\u001b[0m: HTTPConnectionPool(host='wsf.cdyne.com', port=80): Max retries exceeded with url: /WeatherWS/Weather.asmx?WSDL (Caused by NewConnectionError('<urllib3.connection.HTTPConnection object at 0x000001DA86298100>: Failed to establish a new connection: [Errno 11001] getaddrinfo failed'))",
      "\nDuring handling of the above exception, another exception occurred:\n",
      "\u001b[1;31mConnectionError\u001b[0m                           Traceback (most recent call last)",
      "\u001b[1;32m~\\AppData\\Local\\Temp\\ipykernel_4552\\543423649.py\u001b[0m in \u001b[0;36m<module>\u001b[1;34m\u001b[0m\n\u001b[0;32m      9\u001b[0m          </SOAP-ENV:Envelope>\"\"\"\n\u001b[0;32m     10\u001b[0m \u001b[1;33m\u001b[0m\u001b[0m\n\u001b[1;32m---> 11\u001b[1;33m \u001b[0mresponse\u001b[0m \u001b[1;33m=\u001b[0m \u001b[0mrequests\u001b[0m\u001b[1;33m.\u001b[0m\u001b[0mpost\u001b[0m\u001b[1;33m(\u001b[0m\u001b[0murl\u001b[0m\u001b[1;33m,\u001b[0m\u001b[0mdata\u001b[0m\u001b[1;33m=\u001b[0m\u001b[0mbody\u001b[0m\u001b[1;33m,\u001b[0m\u001b[0mheaders\u001b[0m\u001b[1;33m=\u001b[0m\u001b[0mheaders\u001b[0m\u001b[1;33m)\u001b[0m\u001b[1;33m\u001b[0m\u001b[1;33m\u001b[0m\u001b[0m\n\u001b[0m\u001b[0;32m     12\u001b[0m \u001b[0mprint\u001b[0m \u001b[1;33m(\u001b[0m\u001b[0mresponse\u001b[0m\u001b[1;33m.\u001b[0m\u001b[0mcontent\u001b[0m\u001b[1;33m)\u001b[0m\u001b[1;33m\u001b[0m\u001b[1;33m\u001b[0m\u001b[0m\n",
      "\u001b[1;32mC:\\ProgramData\\Miniconda3\\lib\\site-packages\\requests\\api.py\u001b[0m in \u001b[0;36mpost\u001b[1;34m(url, data, json, **kwargs)\u001b[0m\n\u001b[0;32m    113\u001b[0m     \"\"\"\n\u001b[0;32m    114\u001b[0m \u001b[1;33m\u001b[0m\u001b[0m\n\u001b[1;32m--> 115\u001b[1;33m     \u001b[1;32mreturn\u001b[0m \u001b[0mrequest\u001b[0m\u001b[1;33m(\u001b[0m\u001b[1;34m\"post\"\u001b[0m\u001b[1;33m,\u001b[0m \u001b[0murl\u001b[0m\u001b[1;33m,\u001b[0m \u001b[0mdata\u001b[0m\u001b[1;33m=\u001b[0m\u001b[0mdata\u001b[0m\u001b[1;33m,\u001b[0m \u001b[0mjson\u001b[0m\u001b[1;33m=\u001b[0m\u001b[0mjson\u001b[0m\u001b[1;33m,\u001b[0m \u001b[1;33m**\u001b[0m\u001b[0mkwargs\u001b[0m\u001b[1;33m)\u001b[0m\u001b[1;33m\u001b[0m\u001b[1;33m\u001b[0m\u001b[0m\n\u001b[0m\u001b[0;32m    116\u001b[0m \u001b[1;33m\u001b[0m\u001b[0m\n\u001b[0;32m    117\u001b[0m \u001b[1;33m\u001b[0m\u001b[0m\n",
      "\u001b[1;32mC:\\ProgramData\\Miniconda3\\lib\\site-packages\\requests\\api.py\u001b[0m in \u001b[0;36mrequest\u001b[1;34m(method, url, **kwargs)\u001b[0m\n\u001b[0;32m     57\u001b[0m     \u001b[1;31m# cases, and look like a memory leak in others.\u001b[0m\u001b[1;33m\u001b[0m\u001b[1;33m\u001b[0m\u001b[0m\n\u001b[0;32m     58\u001b[0m     \u001b[1;32mwith\u001b[0m \u001b[0msessions\u001b[0m\u001b[1;33m.\u001b[0m\u001b[0mSession\u001b[0m\u001b[1;33m(\u001b[0m\u001b[1;33m)\u001b[0m \u001b[1;32mas\u001b[0m \u001b[0msession\u001b[0m\u001b[1;33m:\u001b[0m\u001b[1;33m\u001b[0m\u001b[1;33m\u001b[0m\u001b[0m\n\u001b[1;32m---> 59\u001b[1;33m         \u001b[1;32mreturn\u001b[0m \u001b[0msession\u001b[0m\u001b[1;33m.\u001b[0m\u001b[0mrequest\u001b[0m\u001b[1;33m(\u001b[0m\u001b[0mmethod\u001b[0m\u001b[1;33m=\u001b[0m\u001b[0mmethod\u001b[0m\u001b[1;33m,\u001b[0m \u001b[0murl\u001b[0m\u001b[1;33m=\u001b[0m\u001b[0murl\u001b[0m\u001b[1;33m,\u001b[0m \u001b[1;33m**\u001b[0m\u001b[0mkwargs\u001b[0m\u001b[1;33m)\u001b[0m\u001b[1;33m\u001b[0m\u001b[1;33m\u001b[0m\u001b[0m\n\u001b[0m\u001b[0;32m     60\u001b[0m \u001b[1;33m\u001b[0m\u001b[0m\n\u001b[0;32m     61\u001b[0m \u001b[1;33m\u001b[0m\u001b[0m\n",
      "\u001b[1;32mC:\\ProgramData\\Miniconda3\\lib\\site-packages\\requests\\sessions.py\u001b[0m in \u001b[0;36mrequest\u001b[1;34m(self, method, url, params, data, headers, cookies, files, auth, timeout, allow_redirects, proxies, hooks, stream, verify, cert, json)\u001b[0m\n\u001b[0;32m    585\u001b[0m         }\n\u001b[0;32m    586\u001b[0m         \u001b[0msend_kwargs\u001b[0m\u001b[1;33m.\u001b[0m\u001b[0mupdate\u001b[0m\u001b[1;33m(\u001b[0m\u001b[0msettings\u001b[0m\u001b[1;33m)\u001b[0m\u001b[1;33m\u001b[0m\u001b[1;33m\u001b[0m\u001b[0m\n\u001b[1;32m--> 587\u001b[1;33m         \u001b[0mresp\u001b[0m \u001b[1;33m=\u001b[0m \u001b[0mself\u001b[0m\u001b[1;33m.\u001b[0m\u001b[0msend\u001b[0m\u001b[1;33m(\u001b[0m\u001b[0mprep\u001b[0m\u001b[1;33m,\u001b[0m \u001b[1;33m**\u001b[0m\u001b[0msend_kwargs\u001b[0m\u001b[1;33m)\u001b[0m\u001b[1;33m\u001b[0m\u001b[1;33m\u001b[0m\u001b[0m\n\u001b[0m\u001b[0;32m    588\u001b[0m \u001b[1;33m\u001b[0m\u001b[0m\n\u001b[0;32m    589\u001b[0m         \u001b[1;32mreturn\u001b[0m \u001b[0mresp\u001b[0m\u001b[1;33m\u001b[0m\u001b[1;33m\u001b[0m\u001b[0m\n",
      "\u001b[1;32mC:\\ProgramData\\Miniconda3\\lib\\site-packages\\requests\\sessions.py\u001b[0m in \u001b[0;36msend\u001b[1;34m(self, request, **kwargs)\u001b[0m\n\u001b[0;32m    699\u001b[0m \u001b[1;33m\u001b[0m\u001b[0m\n\u001b[0;32m    700\u001b[0m         \u001b[1;31m# Send the request\u001b[0m\u001b[1;33m\u001b[0m\u001b[1;33m\u001b[0m\u001b[0m\n\u001b[1;32m--> 701\u001b[1;33m         \u001b[0mr\u001b[0m \u001b[1;33m=\u001b[0m \u001b[0madapter\u001b[0m\u001b[1;33m.\u001b[0m\u001b[0msend\u001b[0m\u001b[1;33m(\u001b[0m\u001b[0mrequest\u001b[0m\u001b[1;33m,\u001b[0m \u001b[1;33m**\u001b[0m\u001b[0mkwargs\u001b[0m\u001b[1;33m)\u001b[0m\u001b[1;33m\u001b[0m\u001b[1;33m\u001b[0m\u001b[0m\n\u001b[0m\u001b[0;32m    702\u001b[0m \u001b[1;33m\u001b[0m\u001b[0m\n\u001b[0;32m    703\u001b[0m         \u001b[1;31m# Total elapsed time of the request (approximately)\u001b[0m\u001b[1;33m\u001b[0m\u001b[1;33m\u001b[0m\u001b[0m\n",
      "\u001b[1;32mC:\\ProgramData\\Miniconda3\\lib\\site-packages\\requests\\adapters.py\u001b[0m in \u001b[0;36msend\u001b[1;34m(self, request, stream, timeout, verify, cert, proxies)\u001b[0m\n\u001b[0;32m    563\u001b[0m                 \u001b[1;32mraise\u001b[0m \u001b[0mSSLError\u001b[0m\u001b[1;33m(\u001b[0m\u001b[0me\u001b[0m\u001b[1;33m,\u001b[0m \u001b[0mrequest\u001b[0m\u001b[1;33m=\u001b[0m\u001b[0mrequest\u001b[0m\u001b[1;33m)\u001b[0m\u001b[1;33m\u001b[0m\u001b[1;33m\u001b[0m\u001b[0m\n\u001b[0;32m    564\u001b[0m \u001b[1;33m\u001b[0m\u001b[0m\n\u001b[1;32m--> 565\u001b[1;33m             \u001b[1;32mraise\u001b[0m \u001b[0mConnectionError\u001b[0m\u001b[1;33m(\u001b[0m\u001b[0me\u001b[0m\u001b[1;33m,\u001b[0m \u001b[0mrequest\u001b[0m\u001b[1;33m=\u001b[0m\u001b[0mrequest\u001b[0m\u001b[1;33m)\u001b[0m\u001b[1;33m\u001b[0m\u001b[1;33m\u001b[0m\u001b[0m\n\u001b[0m\u001b[0;32m    566\u001b[0m \u001b[1;33m\u001b[0m\u001b[0m\n\u001b[0;32m    567\u001b[0m         \u001b[1;32mexcept\u001b[0m \u001b[0mClosedPoolError\u001b[0m \u001b[1;32mas\u001b[0m \u001b[0me\u001b[0m\u001b[1;33m:\u001b[0m\u001b[1;33m\u001b[0m\u001b[1;33m\u001b[0m\u001b[0m\n",
      "\u001b[1;31mConnectionError\u001b[0m: HTTPConnectionPool(host='wsf.cdyne.com', port=80): Max retries exceeded with url: /WeatherWS/Weather.asmx?WSDL (Caused by NewConnectionError('<urllib3.connection.HTTPConnection object at 0x000001DA86298100>: Failed to establish a new connection: [Errno 11001] getaddrinfo failed'))"
     ]
    }
   ],
   "source": [
    "url=\"http://wsf.cdyne.com/WeatherWS/Weather.asmx?WSDL\"\n",
    "#headers = {'content-type': 'application/soap+xml'}\n",
    "headers = {'content-type': 'text/xml'}\n",
    "body = \"\"\"<?xml version=\"1.0\" encoding=\"UTF-8\"?>\n",
    "         <SOAP-ENV:Envelope xmlns:ns0=\"http://ws.cdyne.com/WeatherWS/\" xmlns:ns1=\"http://schemas.xmlsoap.org/soap/envelope/\" \n",
    "            xmlns:xsi=\"http://www.w3.org/2001/XMLSchema-instance\" xmlns:SOAP-ENV=\"http://schemas.xmlsoap.org/soap/envelope/\">\n",
    "            <SOAP-ENV:Header/>\n",
    "              <ns1:Body><ns0:GetWeatherInformation/></ns1:Body>\n",
    "         </SOAP-ENV:Envelope>\"\"\"\n",
    "\n",
    "response = requests.post(url,data=body,headers=headers)\n",
    "print (response.content)"
   ]
  }
 ],
 "metadata": {
  "kernelspec": {
   "display_name": "Python 3 (ipykernel)",
   "language": "python",
   "name": "python3"
  },
  "language_info": {
   "codemirror_mode": {
    "name": "ipython",
    "version": 3
   },
   "file_extension": ".py",
   "mimetype": "text/x-python",
   "name": "python",
   "nbconvert_exporter": "python",
   "pygments_lexer": "ipython3",
   "version": "3.9.13"
  }
 },
 "nbformat": 4,
 "nbformat_minor": 5
}
